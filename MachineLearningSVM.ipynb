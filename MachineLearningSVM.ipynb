{
  "cells": [
    {
      "cell_type": "markdown",
      "source": [
        "*Aveen Hussein*"
      ],
      "metadata": {
        "id": "Zc7spJZHgupx"
      }
    },
    {
      "cell_type": "markdown",
      "metadata": {
        "id": "bvdgKvQfeqkL"
      },
      "source": [
        "# Step1: Importing data\n",
        " The dataset consists of mobile features and we aim to estimate a mobile price depending on them."
      ]
    },
    {
      "cell_type": "code",
      "execution_count": 2,
      "metadata": {
        "colab": {
          "base_uri": "https://localhost:8080/"
        },
        "outputId": "3c7bad3d-fe1f-4586-c709-a5e5b38d2559",
        "id": "1sTcUfiTeqkL"
      },
      "outputs": [
        {
          "output_type": "stream",
          "name": "stdout",
          "text": [
            "   battery_power  blue  clock_speed  dual_sim  fc  four_g  int_memory  m_dep  \\\n",
            "0            842     0          2.2         0   1       0           7    0.6   \n",
            "1           1021     1          0.5         1   0       1          53    0.7   \n",
            "2            563     1          0.5         1   2       1          41    0.9   \n",
            "3            615     1          2.5         0   0       0          10    0.8   \n",
            "4           1821     1          1.2         0  13       1          44    0.6   \n",
            "\n",
            "   mobile_wt  n_cores  ...  px_height  px_width   ram  sc_h  sc_w  talk_time  \\\n",
            "0        188        2  ...         20       756  2549     9     7         19   \n",
            "1        136        3  ...        905      1988  2631    17     3          7   \n",
            "2        145        5  ...       1263      1716  2603    11     2          9   \n",
            "3        131        6  ...       1216      1786  2769    16     8         11   \n",
            "4        141        2  ...       1208      1212  1411     8     2         15   \n",
            "\n",
            "   three_g  touch_screen  wifi  price_range  \n",
            "0        0             0     1            1  \n",
            "1        1             1     0            2  \n",
            "2        1             1     0            2  \n",
            "3        1             0     0            2  \n",
            "4        1             1     0            1  \n",
            "\n",
            "[5 rows x 21 columns]\n",
            "battery_power    0\n",
            "blue             0\n",
            "clock_speed      0\n",
            "dual_sim         0\n",
            "fc               0\n",
            "four_g           0\n",
            "int_memory       0\n",
            "m_dep            0\n",
            "mobile_wt        0\n",
            "n_cores          0\n",
            "pc               0\n",
            "px_height        0\n",
            "px_width         0\n",
            "ram              0\n",
            "sc_h             0\n",
            "sc_w             0\n",
            "talk_time        0\n",
            "three_g          0\n",
            "touch_screen     0\n",
            "wifi             0\n",
            "price_range      0\n",
            "dtype: int64\n",
            "battery_power    0\n",
            "blue             0\n",
            "clock_speed      0\n",
            "dual_sim         0\n",
            "fc               0\n",
            "four_g           0\n",
            "int_memory       0\n",
            "m_dep            0\n",
            "mobile_wt        0\n",
            "n_cores          0\n",
            "pc               0\n",
            "px_height        0\n",
            "px_width         0\n",
            "ram              0\n",
            "sc_h             0\n",
            "sc_w             0\n",
            "talk_time        0\n",
            "three_g          0\n",
            "touch_screen     0\n",
            "wifi             0\n",
            "price_range      0\n",
            "dtype: int64\n",
            "       battery_power       blue  clock_speed     dual_sim           fc  \\\n",
            "count    2000.000000  2000.0000  2000.000000  2000.000000  2000.000000   \n",
            "mean     1238.518500     0.4950     1.522250     0.509500     4.309500   \n",
            "std       439.418206     0.5001     0.816004     0.500035     4.341444   \n",
            "min       501.000000     0.0000     0.500000     0.000000     0.000000   \n",
            "25%       851.750000     0.0000     0.700000     0.000000     1.000000   \n",
            "50%      1226.000000     0.0000     1.500000     1.000000     3.000000   \n",
            "75%      1615.250000     1.0000     2.200000     1.000000     7.000000   \n",
            "max      1998.000000     1.0000     3.000000     1.000000    19.000000   \n",
            "\n",
            "            four_g   int_memory        m_dep    mobile_wt      n_cores  ...  \\\n",
            "count  2000.000000  2000.000000  2000.000000  2000.000000  2000.000000  ...   \n",
            "mean      0.521500    32.046500     0.501750   140.249000     4.520500  ...   \n",
            "std       0.499662    18.145715     0.288416    35.399655     2.287837  ...   \n",
            "min       0.000000     2.000000     0.100000    80.000000     1.000000  ...   \n",
            "25%       0.000000    16.000000     0.200000   109.000000     3.000000  ...   \n",
            "50%       1.000000    32.000000     0.500000   141.000000     4.000000  ...   \n",
            "75%       1.000000    48.000000     0.800000   170.000000     7.000000  ...   \n",
            "max       1.000000    64.000000     1.000000   200.000000     8.000000  ...   \n",
            "\n",
            "         px_height     px_width          ram         sc_h         sc_w  \\\n",
            "count  2000.000000  2000.000000  2000.000000  2000.000000  2000.000000   \n",
            "mean    645.108000  1251.515500  2124.213000    12.306500     5.767000   \n",
            "std     443.780811   432.199447  1084.732044     4.213245     4.356398   \n",
            "min       0.000000   500.000000   256.000000     5.000000     0.000000   \n",
            "25%     282.750000   874.750000  1207.500000     9.000000     2.000000   \n",
            "50%     564.000000  1247.000000  2146.500000    12.000000     5.000000   \n",
            "75%     947.250000  1633.000000  3064.500000    16.000000     9.000000   \n",
            "max    1960.000000  1998.000000  3998.000000    19.000000    18.000000   \n",
            "\n",
            "         talk_time      three_g  touch_screen         wifi  price_range  \n",
            "count  2000.000000  2000.000000   2000.000000  2000.000000  2000.000000  \n",
            "mean     11.011000     0.761500      0.503000     0.507000     1.500000  \n",
            "std       5.463955     0.426273      0.500116     0.500076     1.118314  \n",
            "min       2.000000     0.000000      0.000000     0.000000     0.000000  \n",
            "25%       6.000000     1.000000      0.000000     0.000000     0.750000  \n",
            "50%      11.000000     1.000000      1.000000     1.000000     1.500000  \n",
            "75%      16.000000     1.000000      1.000000     1.000000     2.250000  \n",
            "max      20.000000     1.000000      1.000000     1.000000     3.000000  \n",
            "\n",
            "[8 rows x 21 columns]\n"
          ]
        }
      ],
      "source": [
        "import pandas as pd\n",
        "import numpy as np\n",
        "import seaborn as sns\n",
        "import matplotlib.pyplot as plt\n",
        "from sklearn.ensemble import ExtraTreesClassifier\n",
        "from sklearn.model_selection import train_test_split\n",
        "from sklearn.metrics import accuracy_score as acc\n",
        "from sklearn.tree import DecisionTreeClassifier\n",
        "from sklearn.metrics import confusion_matrix\n",
        "# Reading our csv data\n",
        "combine_data= pd.read_csv('/content/drive/MyDrive/Machine Learning/train.csv')\n",
        "print (combine_data.head(5))\n",
        "# null value\n",
        "print (combine_data.isnull().sum())\n",
        "\n",
        "print (combine_data.isnull().sum())\n",
        "# max min mean for each col.....\n",
        "print(combine_data.describe())\n"
      ]
    },
    {
      "cell_type": "code",
      "source": [
        "from google.colab import drive\n",
        "drive.mount('/content/drive')"
      ],
      "metadata": {
        "colab": {
          "base_uri": "https://localhost:8080/"
        },
        "id": "CM82Hsn5ezqn",
        "outputId": "9bd61582-b20a-4187-e360-525e3a895290"
      },
      "execution_count": 3,
      "outputs": [
        {
          "output_type": "stream",
          "name": "stdout",
          "text": [
            "Drive already mounted at /content/drive; to attempt to forcibly remount, call drive.mount(\"/content/drive\", force_remount=True).\n"
          ]
        }
      ]
    },
    {
      "cell_type": "markdown",
      "source": [
        "now we can take note that the number of null values was 0 for every feature in this dataset but it doesn't mean that there doesn't exist any missing data which is just represented differently and that is what we will investigate in the Missing data section\n",
        "\n"
      ],
      "metadata": {
        "id": "SXt7tC-rJA1i"
      }
    },
    {
      "cell_type": "markdown",
      "source": [
        "# Step2: Basic cleaning"
      ],
      "metadata": {
        "id": "7tUfAdErt6Ro"
      }
    },
    {
      "cell_type": "code",
      "source": [
        "from sklearn.feature_extraction import DictVectorizer\n",
        "# Importing the SimpleImputer class\n",
        "from sklearn.impute import SimpleImputer"
      ],
      "metadata": {
        "id": "yYzZTY4RD8CL"
      },
      "execution_count": 4,
      "outputs": []
    },
    {
      "cell_type": "code",
      "source": [
        "combine_data.dtypes"
      ],
      "metadata": {
        "colab": {
          "base_uri": "https://localhost:8080/"
        },
        "id": "NcE6cl8DED9Q",
        "outputId": "377a6541-cfdf-452d-a974-c676c8f406fe"
      },
      "execution_count": 5,
      "outputs": [
        {
          "output_type": "execute_result",
          "data": {
            "text/plain": [
              "battery_power      int64\n",
              "blue               int64\n",
              "clock_speed      float64\n",
              "dual_sim           int64\n",
              "fc                 int64\n",
              "four_g             int64\n",
              "int_memory         int64\n",
              "m_dep            float64\n",
              "mobile_wt          int64\n",
              "n_cores            int64\n",
              "pc                 int64\n",
              "px_height          int64\n",
              "px_width           int64\n",
              "ram                int64\n",
              "sc_h               int64\n",
              "sc_w               int64\n",
              "talk_time          int64\n",
              "three_g            int64\n",
              "touch_screen       int64\n",
              "wifi               int64\n",
              "price_range        int64\n",
              "dtype: object"
            ]
          },
          "metadata": {},
          "execution_count": 5
        }
      ]
    },
    {
      "cell_type": "markdown",
      "source": [
        "We see that all the data is int64 except for m_dep and m_cores, which is good as we can see that there are no mixed letters and number values so \"\" was not used to represent nan values for instance"
      ],
      "metadata": {
        "id": "ABtyYVXGEQ-D"
      }
    },
    {
      "cell_type": "markdown",
      "source": [
        "**handeling data types**\n",
        "\n",
        "Id3 algorithm works best with numeric data, and luckily in our case all the data is already numeric. \n",
        "**a brief on how splits are made for numeric data according to the internet**\n",
        "\n",
        "Every split in a decision tree is based on a feature. If the feature is categorical, the split is done with the elements belonging to a particular class. If the feature is contiuous, the split is done with the elements higher than a threshold. At every split, the decision tree will take the best variable at that moment. This will be done according to an impurity measure with the splitted branches. And the fact that the variable used to do split is categorical or continuous is irrelevant (in fact, decision trees categorize contiuous variables by creating binary regions with the threshold).\n",
        "src: https://datascience.stackexchange.com/questions/32622/how-to-make-a-decision-tree-with-both-continuous-and-categorical-variables-in-th"
      ],
      "metadata": {
        "id": "K8QbT7GkxAyN"
      }
    },
    {
      "cell_type": "markdown",
      "source": [
        "#Step3: Missing data"
      ],
      "metadata": {
        "id": "ieP23AAPD45q"
      }
    },
    {
      "cell_type": "markdown",
      "source": [
        "Now we will try to find out if there's any data with zero values that indicate missing data (for instance a mobile with 0 for battary power is likely a case of missing data same goes for multiple columns such as sc_h and sc_w and n_cores and so on)"
      ],
      "metadata": {
        "id": "pTLYOBkUJnby"
      }
    },
    {
      "cell_type": "code",
      "source": [
        "len(combine_data.loc[(combine_data['battery_power']==0) | (combine_data['clock_speed']==0)|(combine_data['int_memory']==0)|\n",
        "                    (combine_data['m_dep']==0)|(combine_data['mobile_wt']==0)|(combine_data['px_height']==0)|\n",
        "                    (combine_data['px_height']==0)|(combine_data['px_width']==0)|(combine_data['ram']==0)|\n",
        "                    ( combine_data['sc_h']==0)|(combine_data['sc_w']==0)|(combine_data['talk_time']==0)])"
      ],
      "metadata": {
        "colab": {
          "base_uri": "https://localhost:8080/"
        },
        "id": "7bvMkXOJL6t9",
        "outputId": "79846827-f9ce-4edb-9f41-07fef8e0d75b"
      },
      "execution_count": 6,
      "outputs": [
        {
          "output_type": "execute_result",
          "data": {
            "text/plain": [
              "181"
            ]
          },
          "metadata": {},
          "execution_count": 6
        }
      ]
    },
    {
      "cell_type": "code",
      "source": [
        "len(combine_data)"
      ],
      "metadata": {
        "colab": {
          "base_uri": "https://localhost:8080/"
        },
        "id": "EGztuKH4OySs",
        "outputId": "d9ec719a-22b3-46b3-e878-f6bf7a8c0f50"
      },
      "execution_count": 7,
      "outputs": [
        {
          "output_type": "execute_result",
          "data": {
            "text/plain": [
              "2000"
            ]
          },
          "metadata": {},
          "execution_count": 7
        }
      ]
    },
    {
      "cell_type": "markdown",
      "source": [
        "so 181 out of 2000 fields has what we can assume is missing values"
      ],
      "metadata": {
        "id": "I3gPK2PbO4EU"
      }
    },
    {
      "cell_type": "markdown",
      "source": [
        "Now we will remove the rows that do have missing data "
      ],
      "metadata": {
        "id": "mbju6jICPZTF"
      }
    },
    {
      "cell_type": "code",
      "source": [
        "combine_data_no_0=combine_data.loc[(combine_data['battery_power']!=0) & (combine_data['clock_speed']!=0)&(combine_data['int_memory']!=0)&\n",
        "                    (combine_data['m_dep']!=0)&(combine_data['mobile_wt']!=0)&(combine_data['px_height']!=0)&\n",
        "                    (combine_data['px_height']!=0)&(combine_data['px_width']!=0)&(combine_data['ram']!=0)&\n",
        "                    ( combine_data['sc_h']!=0)&(combine_data['sc_w']!=0)&(combine_data['talk_time']!=0)]"
      ],
      "metadata": {
        "id": "54RG6wVDO3g0"
      },
      "execution_count": 8,
      "outputs": []
    },
    {
      "cell_type": "code",
      "source": [
        "len(combine_data_no_0)"
      ],
      "metadata": {
        "id": "fzuoV8uTQUqd",
        "colab": {
          "base_uri": "https://localhost:8080/"
        },
        "outputId": "c0a2fda0-9884-4824-8e4f-86d490a6d147"
      },
      "execution_count": 9,
      "outputs": [
        {
          "output_type": "execute_result",
          "data": {
            "text/plain": [
              "1819"
            ]
          },
          "metadata": {},
          "execution_count": 9
        }
      ]
    },
    {
      "cell_type": "code",
      "source": [
        "imputer = SimpleImputer(missing_values=0,\n",
        "                        strategy='mean')\n"
      ],
      "metadata": {
        "id": "x7nb7gGGHskp"
      },
      "execution_count": 10,
      "outputs": []
    },
    {
      "cell_type": "code",
      "source": [
        "data_to_impute=combine_data[['battery_power','clock_speed','int_memory','m_dep','mobile_wt','px_height','px_width','ram','sc_h','sc_w','talk_time']]"
      ],
      "metadata": {
        "id": "9blsNC_PSNOF"
      },
      "execution_count": 11,
      "outputs": []
    },
    {
      "cell_type": "code",
      "source": [
        "imputer = imputer.fit(data_to_impute)\n",
        "\n",
        "data = imputer.transform(data_to_impute)\n",
        "\n",
        "print(\"Imputed Data : \\n\", data)"
      ],
      "metadata": {
        "colab": {
          "base_uri": "https://localhost:8080/"
        },
        "id": "r_j_7B8NIeBC",
        "outputId": "48405591-4a20-472b-a02a-0c7ee7e3d7d7"
      },
      "execution_count": 12,
      "outputs": [
        {
          "output_type": "stream",
          "name": "stdout",
          "text": [
            "Imputed Data : \n",
            " [[8.420e+02 2.200e+00 7.000e+00 ... 9.000e+00 7.000e+00 1.900e+01]\n",
            " [1.021e+03 5.000e-01 5.300e+01 ... 1.700e+01 3.000e+00 7.000e+00]\n",
            " [5.630e+02 5.000e-01 4.100e+01 ... 1.100e+01 2.000e+00 9.000e+00]\n",
            " ...\n",
            " [1.911e+03 9.000e-01 3.600e+01 ... 9.000e+00 1.000e+00 5.000e+00]\n",
            " [1.512e+03 9.000e-01 4.600e+01 ... 1.800e+01 1.000e+01 1.900e+01]\n",
            " [5.100e+02 2.000e+00 4.500e+01 ... 1.900e+01 4.000e+00 2.000e+00]]\n"
          ]
        }
      ]
    },
    {
      "cell_type": "code",
      "source": [
        "imputed=pd.DataFrame(data=data, columns=['battery_power','clock_speed','int_memory','m_dep','mobile_wt','px_height','px_width','ram','sc_h','sc_w','talk_time'])"
      ],
      "metadata": {
        "id": "K3djejGvUB6O"
      },
      "execution_count": 13,
      "outputs": []
    },
    {
      "cell_type": "code",
      "source": [
        "imputed.describe()"
      ],
      "metadata": {
        "colab": {
          "base_uri": "https://localhost:8080/",
          "height": 0
        },
        "id": "X7zuK0CgUmge",
        "outputId": "efd4dd18-4deb-4fd1-9e8f-9db420d38e49"
      },
      "execution_count": 14,
      "outputs": [
        {
          "output_type": "execute_result",
          "data": {
            "text/plain": [
              "       battery_power  clock_speed   int_memory        m_dep    mobile_wt  \\\n",
              "count    2000.000000  2000.000000  2000.000000  2000.000000  2000.000000   \n",
              "mean     1238.518500     1.522250    32.046500     0.501750   140.249000   \n",
              "std       439.418206     0.816004    18.145715     0.288416    35.399655   \n",
              "min       501.000000     0.500000     2.000000     0.100000    80.000000   \n",
              "25%       851.750000     0.700000    16.000000     0.200000   109.000000   \n",
              "50%      1226.000000     1.500000    32.000000     0.500000   141.000000   \n",
              "75%      1615.250000     2.200000    48.000000     0.800000   170.000000   \n",
              "max      1998.000000     3.000000    64.000000     1.000000   200.000000   \n",
              "\n",
              "         px_height     px_width          ram         sc_h         sc_w  \\\n",
              "count  2000.000000  2000.000000  2000.000000  2000.000000  2000.000000   \n",
              "mean    645.753754  1251.515500  2124.213000    12.306500     6.337363   \n",
              "std     443.310973   432.199447  1084.732044     4.213245     3.960716   \n",
              "min       1.000000   500.000000   256.000000     5.000000     1.000000   \n",
              "25%     284.000000   874.750000  1207.500000     9.000000     3.000000   \n",
              "50%     568.000000  1247.000000  2146.500000    12.000000     6.000000   \n",
              "75%     947.250000  1633.000000  3064.500000    16.000000     9.000000   \n",
              "max    1960.000000  1998.000000  3998.000000    19.000000    18.000000   \n",
              "\n",
              "         talk_time  \n",
              "count  2000.000000  \n",
              "mean     11.011000  \n",
              "std       5.463955  \n",
              "min       2.000000  \n",
              "25%       6.000000  \n",
              "50%      11.000000  \n",
              "75%      16.000000  \n",
              "max      20.000000  "
            ],
            "text/html": [
              "\n",
              "  <div id=\"df-ef0b84ab-5001-4e40-877b-19f67aa5ed0d\">\n",
              "    <div class=\"colab-df-container\">\n",
              "      <div>\n",
              "<style scoped>\n",
              "    .dataframe tbody tr th:only-of-type {\n",
              "        vertical-align: middle;\n",
              "    }\n",
              "\n",
              "    .dataframe tbody tr th {\n",
              "        vertical-align: top;\n",
              "    }\n",
              "\n",
              "    .dataframe thead th {\n",
              "        text-align: right;\n",
              "    }\n",
              "</style>\n",
              "<table border=\"1\" class=\"dataframe\">\n",
              "  <thead>\n",
              "    <tr style=\"text-align: right;\">\n",
              "      <th></th>\n",
              "      <th>battery_power</th>\n",
              "      <th>clock_speed</th>\n",
              "      <th>int_memory</th>\n",
              "      <th>m_dep</th>\n",
              "      <th>mobile_wt</th>\n",
              "      <th>px_height</th>\n",
              "      <th>px_width</th>\n",
              "      <th>ram</th>\n",
              "      <th>sc_h</th>\n",
              "      <th>sc_w</th>\n",
              "      <th>talk_time</th>\n",
              "    </tr>\n",
              "  </thead>\n",
              "  <tbody>\n",
              "    <tr>\n",
              "      <th>count</th>\n",
              "      <td>2000.000000</td>\n",
              "      <td>2000.000000</td>\n",
              "      <td>2000.000000</td>\n",
              "      <td>2000.000000</td>\n",
              "      <td>2000.000000</td>\n",
              "      <td>2000.000000</td>\n",
              "      <td>2000.000000</td>\n",
              "      <td>2000.000000</td>\n",
              "      <td>2000.000000</td>\n",
              "      <td>2000.000000</td>\n",
              "      <td>2000.000000</td>\n",
              "    </tr>\n",
              "    <tr>\n",
              "      <th>mean</th>\n",
              "      <td>1238.518500</td>\n",
              "      <td>1.522250</td>\n",
              "      <td>32.046500</td>\n",
              "      <td>0.501750</td>\n",
              "      <td>140.249000</td>\n",
              "      <td>645.753754</td>\n",
              "      <td>1251.515500</td>\n",
              "      <td>2124.213000</td>\n",
              "      <td>12.306500</td>\n",
              "      <td>6.337363</td>\n",
              "      <td>11.011000</td>\n",
              "    </tr>\n",
              "    <tr>\n",
              "      <th>std</th>\n",
              "      <td>439.418206</td>\n",
              "      <td>0.816004</td>\n",
              "      <td>18.145715</td>\n",
              "      <td>0.288416</td>\n",
              "      <td>35.399655</td>\n",
              "      <td>443.310973</td>\n",
              "      <td>432.199447</td>\n",
              "      <td>1084.732044</td>\n",
              "      <td>4.213245</td>\n",
              "      <td>3.960716</td>\n",
              "      <td>5.463955</td>\n",
              "    </tr>\n",
              "    <tr>\n",
              "      <th>min</th>\n",
              "      <td>501.000000</td>\n",
              "      <td>0.500000</td>\n",
              "      <td>2.000000</td>\n",
              "      <td>0.100000</td>\n",
              "      <td>80.000000</td>\n",
              "      <td>1.000000</td>\n",
              "      <td>500.000000</td>\n",
              "      <td>256.000000</td>\n",
              "      <td>5.000000</td>\n",
              "      <td>1.000000</td>\n",
              "      <td>2.000000</td>\n",
              "    </tr>\n",
              "    <tr>\n",
              "      <th>25%</th>\n",
              "      <td>851.750000</td>\n",
              "      <td>0.700000</td>\n",
              "      <td>16.000000</td>\n",
              "      <td>0.200000</td>\n",
              "      <td>109.000000</td>\n",
              "      <td>284.000000</td>\n",
              "      <td>874.750000</td>\n",
              "      <td>1207.500000</td>\n",
              "      <td>9.000000</td>\n",
              "      <td>3.000000</td>\n",
              "      <td>6.000000</td>\n",
              "    </tr>\n",
              "    <tr>\n",
              "      <th>50%</th>\n",
              "      <td>1226.000000</td>\n",
              "      <td>1.500000</td>\n",
              "      <td>32.000000</td>\n",
              "      <td>0.500000</td>\n",
              "      <td>141.000000</td>\n",
              "      <td>568.000000</td>\n",
              "      <td>1247.000000</td>\n",
              "      <td>2146.500000</td>\n",
              "      <td>12.000000</td>\n",
              "      <td>6.000000</td>\n",
              "      <td>11.000000</td>\n",
              "    </tr>\n",
              "    <tr>\n",
              "      <th>75%</th>\n",
              "      <td>1615.250000</td>\n",
              "      <td>2.200000</td>\n",
              "      <td>48.000000</td>\n",
              "      <td>0.800000</td>\n",
              "      <td>170.000000</td>\n",
              "      <td>947.250000</td>\n",
              "      <td>1633.000000</td>\n",
              "      <td>3064.500000</td>\n",
              "      <td>16.000000</td>\n",
              "      <td>9.000000</td>\n",
              "      <td>16.000000</td>\n",
              "    </tr>\n",
              "    <tr>\n",
              "      <th>max</th>\n",
              "      <td>1998.000000</td>\n",
              "      <td>3.000000</td>\n",
              "      <td>64.000000</td>\n",
              "      <td>1.000000</td>\n",
              "      <td>200.000000</td>\n",
              "      <td>1960.000000</td>\n",
              "      <td>1998.000000</td>\n",
              "      <td>3998.000000</td>\n",
              "      <td>19.000000</td>\n",
              "      <td>18.000000</td>\n",
              "      <td>20.000000</td>\n",
              "    </tr>\n",
              "  </tbody>\n",
              "</table>\n",
              "</div>\n",
              "      <button class=\"colab-df-convert\" onclick=\"convertToInteractive('df-ef0b84ab-5001-4e40-877b-19f67aa5ed0d')\"\n",
              "              title=\"Convert this dataframe to an interactive table.\"\n",
              "              style=\"display:none;\">\n",
              "        \n",
              "  <svg xmlns=\"http://www.w3.org/2000/svg\" height=\"24px\"viewBox=\"0 0 24 24\"\n",
              "       width=\"24px\">\n",
              "    <path d=\"M0 0h24v24H0V0z\" fill=\"none\"/>\n",
              "    <path d=\"M18.56 5.44l.94 2.06.94-2.06 2.06-.94-2.06-.94-.94-2.06-.94 2.06-2.06.94zm-11 1L8.5 8.5l.94-2.06 2.06-.94-2.06-.94L8.5 2.5l-.94 2.06-2.06.94zm10 10l.94 2.06.94-2.06 2.06-.94-2.06-.94-.94-2.06-.94 2.06-2.06.94z\"/><path d=\"M17.41 7.96l-1.37-1.37c-.4-.4-.92-.59-1.43-.59-.52 0-1.04.2-1.43.59L10.3 9.45l-7.72 7.72c-.78.78-.78 2.05 0 2.83L4 21.41c.39.39.9.59 1.41.59.51 0 1.02-.2 1.41-.59l7.78-7.78 2.81-2.81c.8-.78.8-2.07 0-2.86zM5.41 20L4 18.59l7.72-7.72 1.47 1.35L5.41 20z\"/>\n",
              "  </svg>\n",
              "      </button>\n",
              "      \n",
              "  <style>\n",
              "    .colab-df-container {\n",
              "      display:flex;\n",
              "      flex-wrap:wrap;\n",
              "      gap: 12px;\n",
              "    }\n",
              "\n",
              "    .colab-df-convert {\n",
              "      background-color: #E8F0FE;\n",
              "      border: none;\n",
              "      border-radius: 50%;\n",
              "      cursor: pointer;\n",
              "      display: none;\n",
              "      fill: #1967D2;\n",
              "      height: 32px;\n",
              "      padding: 0 0 0 0;\n",
              "      width: 32px;\n",
              "    }\n",
              "\n",
              "    .colab-df-convert:hover {\n",
              "      background-color: #E2EBFA;\n",
              "      box-shadow: 0px 1px 2px rgba(60, 64, 67, 0.3), 0px 1px 3px 1px rgba(60, 64, 67, 0.15);\n",
              "      fill: #174EA6;\n",
              "    }\n",
              "\n",
              "    [theme=dark] .colab-df-convert {\n",
              "      background-color: #3B4455;\n",
              "      fill: #D2E3FC;\n",
              "    }\n",
              "\n",
              "    [theme=dark] .colab-df-convert:hover {\n",
              "      background-color: #434B5C;\n",
              "      box-shadow: 0px 1px 3px 1px rgba(0, 0, 0, 0.15);\n",
              "      filter: drop-shadow(0px 1px 2px rgba(0, 0, 0, 0.3));\n",
              "      fill: #FFFFFF;\n",
              "    }\n",
              "  </style>\n",
              "\n",
              "      <script>\n",
              "        const buttonEl =\n",
              "          document.querySelector('#df-ef0b84ab-5001-4e40-877b-19f67aa5ed0d button.colab-df-convert');\n",
              "        buttonEl.style.display =\n",
              "          google.colab.kernel.accessAllowed ? 'block' : 'none';\n",
              "\n",
              "        async function convertToInteractive(key) {\n",
              "          const element = document.querySelector('#df-ef0b84ab-5001-4e40-877b-19f67aa5ed0d');\n",
              "          const dataTable =\n",
              "            await google.colab.kernel.invokeFunction('convertToInteractive',\n",
              "                                                     [key], {});\n",
              "          if (!dataTable) return;\n",
              "\n",
              "          const docLinkHtml = 'Like what you see? Visit the ' +\n",
              "            '<a target=\"_blank\" href=https://colab.research.google.com/notebooks/data_table.ipynb>data table notebook</a>'\n",
              "            + ' to learn more about interactive tables.';\n",
              "          element.innerHTML = '';\n",
              "          dataTable['output_type'] = 'display_data';\n",
              "          await google.colab.output.renderOutput(dataTable, element);\n",
              "          const docLink = document.createElement('div');\n",
              "          docLink.innerHTML = docLinkHtml;\n",
              "          element.appendChild(docLink);\n",
              "        }\n",
              "      </script>\n",
              "    </div>\n",
              "  </div>\n",
              "  "
            ]
          },
          "metadata": {},
          "execution_count": 14
        }
      ]
    },
    {
      "cell_type": "code",
      "source": [
        "data_to_keep=combine_data.drop(['battery_power','clock_speed','int_memory','m_dep','mobile_wt','px_height','px_width','ram','sc_h','sc_w','talk_time'],axis=1)"
      ],
      "metadata": {
        "id": "kUKcawejAf_l"
      },
      "execution_count": 15,
      "outputs": []
    },
    {
      "cell_type": "code",
      "source": [
        "All_data=pd.concat([imputed,data_to_keep],axis=1)"
      ],
      "metadata": {
        "id": "-sCLo_DITO--"
      },
      "execution_count": 16,
      "outputs": []
    },
    {
      "cell_type": "code",
      "source": [
        "All_data.describe()"
      ],
      "metadata": {
        "colab": {
          "base_uri": "https://localhost:8080/",
          "height": 0
        },
        "id": "e2bvD43-Wdd9",
        "outputId": "74a09bea-add5-4f7c-b790-fdf9e24225c0"
      },
      "execution_count": 17,
      "outputs": [
        {
          "output_type": "execute_result",
          "data": {
            "text/plain": [
              "       battery_power  clock_speed   int_memory        m_dep    mobile_wt  \\\n",
              "count    2000.000000  2000.000000  2000.000000  2000.000000  2000.000000   \n",
              "mean     1238.518500     1.522250    32.046500     0.501750   140.249000   \n",
              "std       439.418206     0.816004    18.145715     0.288416    35.399655   \n",
              "min       501.000000     0.500000     2.000000     0.100000    80.000000   \n",
              "25%       851.750000     0.700000    16.000000     0.200000   109.000000   \n",
              "50%      1226.000000     1.500000    32.000000     0.500000   141.000000   \n",
              "75%      1615.250000     2.200000    48.000000     0.800000   170.000000   \n",
              "max      1998.000000     3.000000    64.000000     1.000000   200.000000   \n",
              "\n",
              "         px_height     px_width          ram         sc_h         sc_w  ...  \\\n",
              "count  2000.000000  2000.000000  2000.000000  2000.000000  2000.000000  ...   \n",
              "mean    645.753754  1251.515500  2124.213000    12.306500     6.337363  ...   \n",
              "std     443.310973   432.199447  1084.732044     4.213245     3.960716  ...   \n",
              "min       1.000000   500.000000   256.000000     5.000000     1.000000  ...   \n",
              "25%     284.000000   874.750000  1207.500000     9.000000     3.000000  ...   \n",
              "50%     568.000000  1247.000000  2146.500000    12.000000     6.000000  ...   \n",
              "75%     947.250000  1633.000000  3064.500000    16.000000     9.000000  ...   \n",
              "max    1960.000000  1998.000000  3998.000000    19.000000    18.000000  ...   \n",
              "\n",
              "            blue     dual_sim           fc       four_g      n_cores  \\\n",
              "count  2000.0000  2000.000000  2000.000000  2000.000000  2000.000000   \n",
              "mean      0.4950     0.509500     4.309500     0.521500     4.520500   \n",
              "std       0.5001     0.500035     4.341444     0.499662     2.287837   \n",
              "min       0.0000     0.000000     0.000000     0.000000     1.000000   \n",
              "25%       0.0000     0.000000     1.000000     0.000000     3.000000   \n",
              "50%       0.0000     1.000000     3.000000     1.000000     4.000000   \n",
              "75%       1.0000     1.000000     7.000000     1.000000     7.000000   \n",
              "max       1.0000     1.000000    19.000000     1.000000     8.000000   \n",
              "\n",
              "                pc      three_g  touch_screen         wifi  price_range  \n",
              "count  2000.000000  2000.000000   2000.000000  2000.000000  2000.000000  \n",
              "mean      9.916500     0.761500      0.503000     0.507000     1.500000  \n",
              "std       6.064315     0.426273      0.500116     0.500076     1.118314  \n",
              "min       0.000000     0.000000      0.000000     0.000000     0.000000  \n",
              "25%       5.000000     1.000000      0.000000     0.000000     0.750000  \n",
              "50%      10.000000     1.000000      1.000000     1.000000     1.500000  \n",
              "75%      15.000000     1.000000      1.000000     1.000000     2.250000  \n",
              "max      20.000000     1.000000      1.000000     1.000000     3.000000  \n",
              "\n",
              "[8 rows x 21 columns]"
            ],
            "text/html": [
              "\n",
              "  <div id=\"df-1991c6a5-86a7-4e12-84e0-bcf46777032f\">\n",
              "    <div class=\"colab-df-container\">\n",
              "      <div>\n",
              "<style scoped>\n",
              "    .dataframe tbody tr th:only-of-type {\n",
              "        vertical-align: middle;\n",
              "    }\n",
              "\n",
              "    .dataframe tbody tr th {\n",
              "        vertical-align: top;\n",
              "    }\n",
              "\n",
              "    .dataframe thead th {\n",
              "        text-align: right;\n",
              "    }\n",
              "</style>\n",
              "<table border=\"1\" class=\"dataframe\">\n",
              "  <thead>\n",
              "    <tr style=\"text-align: right;\">\n",
              "      <th></th>\n",
              "      <th>battery_power</th>\n",
              "      <th>clock_speed</th>\n",
              "      <th>int_memory</th>\n",
              "      <th>m_dep</th>\n",
              "      <th>mobile_wt</th>\n",
              "      <th>px_height</th>\n",
              "      <th>px_width</th>\n",
              "      <th>ram</th>\n",
              "      <th>sc_h</th>\n",
              "      <th>sc_w</th>\n",
              "      <th>...</th>\n",
              "      <th>blue</th>\n",
              "      <th>dual_sim</th>\n",
              "      <th>fc</th>\n",
              "      <th>four_g</th>\n",
              "      <th>n_cores</th>\n",
              "      <th>pc</th>\n",
              "      <th>three_g</th>\n",
              "      <th>touch_screen</th>\n",
              "      <th>wifi</th>\n",
              "      <th>price_range</th>\n",
              "    </tr>\n",
              "  </thead>\n",
              "  <tbody>\n",
              "    <tr>\n",
              "      <th>count</th>\n",
              "      <td>2000.000000</td>\n",
              "      <td>2000.000000</td>\n",
              "      <td>2000.000000</td>\n",
              "      <td>2000.000000</td>\n",
              "      <td>2000.000000</td>\n",
              "      <td>2000.000000</td>\n",
              "      <td>2000.000000</td>\n",
              "      <td>2000.000000</td>\n",
              "      <td>2000.000000</td>\n",
              "      <td>2000.000000</td>\n",
              "      <td>...</td>\n",
              "      <td>2000.0000</td>\n",
              "      <td>2000.000000</td>\n",
              "      <td>2000.000000</td>\n",
              "      <td>2000.000000</td>\n",
              "      <td>2000.000000</td>\n",
              "      <td>2000.000000</td>\n",
              "      <td>2000.000000</td>\n",
              "      <td>2000.000000</td>\n",
              "      <td>2000.000000</td>\n",
              "      <td>2000.000000</td>\n",
              "    </tr>\n",
              "    <tr>\n",
              "      <th>mean</th>\n",
              "      <td>1238.518500</td>\n",
              "      <td>1.522250</td>\n",
              "      <td>32.046500</td>\n",
              "      <td>0.501750</td>\n",
              "      <td>140.249000</td>\n",
              "      <td>645.753754</td>\n",
              "      <td>1251.515500</td>\n",
              "      <td>2124.213000</td>\n",
              "      <td>12.306500</td>\n",
              "      <td>6.337363</td>\n",
              "      <td>...</td>\n",
              "      <td>0.4950</td>\n",
              "      <td>0.509500</td>\n",
              "      <td>4.309500</td>\n",
              "      <td>0.521500</td>\n",
              "      <td>4.520500</td>\n",
              "      <td>9.916500</td>\n",
              "      <td>0.761500</td>\n",
              "      <td>0.503000</td>\n",
              "      <td>0.507000</td>\n",
              "      <td>1.500000</td>\n",
              "    </tr>\n",
              "    <tr>\n",
              "      <th>std</th>\n",
              "      <td>439.418206</td>\n",
              "      <td>0.816004</td>\n",
              "      <td>18.145715</td>\n",
              "      <td>0.288416</td>\n",
              "      <td>35.399655</td>\n",
              "      <td>443.310973</td>\n",
              "      <td>432.199447</td>\n",
              "      <td>1084.732044</td>\n",
              "      <td>4.213245</td>\n",
              "      <td>3.960716</td>\n",
              "      <td>...</td>\n",
              "      <td>0.5001</td>\n",
              "      <td>0.500035</td>\n",
              "      <td>4.341444</td>\n",
              "      <td>0.499662</td>\n",
              "      <td>2.287837</td>\n",
              "      <td>6.064315</td>\n",
              "      <td>0.426273</td>\n",
              "      <td>0.500116</td>\n",
              "      <td>0.500076</td>\n",
              "      <td>1.118314</td>\n",
              "    </tr>\n",
              "    <tr>\n",
              "      <th>min</th>\n",
              "      <td>501.000000</td>\n",
              "      <td>0.500000</td>\n",
              "      <td>2.000000</td>\n",
              "      <td>0.100000</td>\n",
              "      <td>80.000000</td>\n",
              "      <td>1.000000</td>\n",
              "      <td>500.000000</td>\n",
              "      <td>256.000000</td>\n",
              "      <td>5.000000</td>\n",
              "      <td>1.000000</td>\n",
              "      <td>...</td>\n",
              "      <td>0.0000</td>\n",
              "      <td>0.000000</td>\n",
              "      <td>0.000000</td>\n",
              "      <td>0.000000</td>\n",
              "      <td>1.000000</td>\n",
              "      <td>0.000000</td>\n",
              "      <td>0.000000</td>\n",
              "      <td>0.000000</td>\n",
              "      <td>0.000000</td>\n",
              "      <td>0.000000</td>\n",
              "    </tr>\n",
              "    <tr>\n",
              "      <th>25%</th>\n",
              "      <td>851.750000</td>\n",
              "      <td>0.700000</td>\n",
              "      <td>16.000000</td>\n",
              "      <td>0.200000</td>\n",
              "      <td>109.000000</td>\n",
              "      <td>284.000000</td>\n",
              "      <td>874.750000</td>\n",
              "      <td>1207.500000</td>\n",
              "      <td>9.000000</td>\n",
              "      <td>3.000000</td>\n",
              "      <td>...</td>\n",
              "      <td>0.0000</td>\n",
              "      <td>0.000000</td>\n",
              "      <td>1.000000</td>\n",
              "      <td>0.000000</td>\n",
              "      <td>3.000000</td>\n",
              "      <td>5.000000</td>\n",
              "      <td>1.000000</td>\n",
              "      <td>0.000000</td>\n",
              "      <td>0.000000</td>\n",
              "      <td>0.750000</td>\n",
              "    </tr>\n",
              "    <tr>\n",
              "      <th>50%</th>\n",
              "      <td>1226.000000</td>\n",
              "      <td>1.500000</td>\n",
              "      <td>32.000000</td>\n",
              "      <td>0.500000</td>\n",
              "      <td>141.000000</td>\n",
              "      <td>568.000000</td>\n",
              "      <td>1247.000000</td>\n",
              "      <td>2146.500000</td>\n",
              "      <td>12.000000</td>\n",
              "      <td>6.000000</td>\n",
              "      <td>...</td>\n",
              "      <td>0.0000</td>\n",
              "      <td>1.000000</td>\n",
              "      <td>3.000000</td>\n",
              "      <td>1.000000</td>\n",
              "      <td>4.000000</td>\n",
              "      <td>10.000000</td>\n",
              "      <td>1.000000</td>\n",
              "      <td>1.000000</td>\n",
              "      <td>1.000000</td>\n",
              "      <td>1.500000</td>\n",
              "    </tr>\n",
              "    <tr>\n",
              "      <th>75%</th>\n",
              "      <td>1615.250000</td>\n",
              "      <td>2.200000</td>\n",
              "      <td>48.000000</td>\n",
              "      <td>0.800000</td>\n",
              "      <td>170.000000</td>\n",
              "      <td>947.250000</td>\n",
              "      <td>1633.000000</td>\n",
              "      <td>3064.500000</td>\n",
              "      <td>16.000000</td>\n",
              "      <td>9.000000</td>\n",
              "      <td>...</td>\n",
              "      <td>1.0000</td>\n",
              "      <td>1.000000</td>\n",
              "      <td>7.000000</td>\n",
              "      <td>1.000000</td>\n",
              "      <td>7.000000</td>\n",
              "      <td>15.000000</td>\n",
              "      <td>1.000000</td>\n",
              "      <td>1.000000</td>\n",
              "      <td>1.000000</td>\n",
              "      <td>2.250000</td>\n",
              "    </tr>\n",
              "    <tr>\n",
              "      <th>max</th>\n",
              "      <td>1998.000000</td>\n",
              "      <td>3.000000</td>\n",
              "      <td>64.000000</td>\n",
              "      <td>1.000000</td>\n",
              "      <td>200.000000</td>\n",
              "      <td>1960.000000</td>\n",
              "      <td>1998.000000</td>\n",
              "      <td>3998.000000</td>\n",
              "      <td>19.000000</td>\n",
              "      <td>18.000000</td>\n",
              "      <td>...</td>\n",
              "      <td>1.0000</td>\n",
              "      <td>1.000000</td>\n",
              "      <td>19.000000</td>\n",
              "      <td>1.000000</td>\n",
              "      <td>8.000000</td>\n",
              "      <td>20.000000</td>\n",
              "      <td>1.000000</td>\n",
              "      <td>1.000000</td>\n",
              "      <td>1.000000</td>\n",
              "      <td>3.000000</td>\n",
              "    </tr>\n",
              "  </tbody>\n",
              "</table>\n",
              "<p>8 rows × 21 columns</p>\n",
              "</div>\n",
              "      <button class=\"colab-df-convert\" onclick=\"convertToInteractive('df-1991c6a5-86a7-4e12-84e0-bcf46777032f')\"\n",
              "              title=\"Convert this dataframe to an interactive table.\"\n",
              "              style=\"display:none;\">\n",
              "        \n",
              "  <svg xmlns=\"http://www.w3.org/2000/svg\" height=\"24px\"viewBox=\"0 0 24 24\"\n",
              "       width=\"24px\">\n",
              "    <path d=\"M0 0h24v24H0V0z\" fill=\"none\"/>\n",
              "    <path d=\"M18.56 5.44l.94 2.06.94-2.06 2.06-.94-2.06-.94-.94-2.06-.94 2.06-2.06.94zm-11 1L8.5 8.5l.94-2.06 2.06-.94-2.06-.94L8.5 2.5l-.94 2.06-2.06.94zm10 10l.94 2.06.94-2.06 2.06-.94-2.06-.94-.94-2.06-.94 2.06-2.06.94z\"/><path d=\"M17.41 7.96l-1.37-1.37c-.4-.4-.92-.59-1.43-.59-.52 0-1.04.2-1.43.59L10.3 9.45l-7.72 7.72c-.78.78-.78 2.05 0 2.83L4 21.41c.39.39.9.59 1.41.59.51 0 1.02-.2 1.41-.59l7.78-7.78 2.81-2.81c.8-.78.8-2.07 0-2.86zM5.41 20L4 18.59l7.72-7.72 1.47 1.35L5.41 20z\"/>\n",
              "  </svg>\n",
              "      </button>\n",
              "      \n",
              "  <style>\n",
              "    .colab-df-container {\n",
              "      display:flex;\n",
              "      flex-wrap:wrap;\n",
              "      gap: 12px;\n",
              "    }\n",
              "\n",
              "    .colab-df-convert {\n",
              "      background-color: #E8F0FE;\n",
              "      border: none;\n",
              "      border-radius: 50%;\n",
              "      cursor: pointer;\n",
              "      display: none;\n",
              "      fill: #1967D2;\n",
              "      height: 32px;\n",
              "      padding: 0 0 0 0;\n",
              "      width: 32px;\n",
              "    }\n",
              "\n",
              "    .colab-df-convert:hover {\n",
              "      background-color: #E2EBFA;\n",
              "      box-shadow: 0px 1px 2px rgba(60, 64, 67, 0.3), 0px 1px 3px 1px rgba(60, 64, 67, 0.15);\n",
              "      fill: #174EA6;\n",
              "    }\n",
              "\n",
              "    [theme=dark] .colab-df-convert {\n",
              "      background-color: #3B4455;\n",
              "      fill: #D2E3FC;\n",
              "    }\n",
              "\n",
              "    [theme=dark] .colab-df-convert:hover {\n",
              "      background-color: #434B5C;\n",
              "      box-shadow: 0px 1px 3px 1px rgba(0, 0, 0, 0.15);\n",
              "      filter: drop-shadow(0px 1px 2px rgba(0, 0, 0, 0.3));\n",
              "      fill: #FFFFFF;\n",
              "    }\n",
              "  </style>\n",
              "\n",
              "      <script>\n",
              "        const buttonEl =\n",
              "          document.querySelector('#df-1991c6a5-86a7-4e12-84e0-bcf46777032f button.colab-df-convert');\n",
              "        buttonEl.style.display =\n",
              "          google.colab.kernel.accessAllowed ? 'block' : 'none';\n",
              "\n",
              "        async function convertToInteractive(key) {\n",
              "          const element = document.querySelector('#df-1991c6a5-86a7-4e12-84e0-bcf46777032f');\n",
              "          const dataTable =\n",
              "            await google.colab.kernel.invokeFunction('convertToInteractive',\n",
              "                                                     [key], {});\n",
              "          if (!dataTable) return;\n",
              "\n",
              "          const docLinkHtml = 'Like what you see? Visit the ' +\n",
              "            '<a target=\"_blank\" href=https://colab.research.google.com/notebooks/data_table.ipynb>data table notebook</a>'\n",
              "            + ' to learn more about interactive tables.';\n",
              "          element.innerHTML = '';\n",
              "          dataTable['output_type'] = 'display_data';\n",
              "          await google.colab.output.renderOutput(dataTable, element);\n",
              "          const docLink = document.createElement('div');\n",
              "          docLink.innerHTML = docLinkHtml;\n",
              "          element.appendChild(docLink);\n",
              "        }\n",
              "      </script>\n",
              "    </div>\n",
              "  </div>\n",
              "  "
            ]
          },
          "metadata": {},
          "execution_count": 17
        }
      ]
    },
    {
      "cell_type": "code",
      "source": [
        "len(All_data.loc[(All_data['battery_power']==0) | (All_data['clock_speed']==0)|(All_data['int_memory']==0)|\n",
        "                    (All_data['m_dep']==0)|(All_data['mobile_wt']==0)|(All_data['px_height']==0)|\n",
        "                    (All_data['px_height']==0)|(All_data['px_width']==0)|(All_data['ram']==0)|\n",
        "                    ( All_data['sc_h']==0)|(All_data['sc_w']==0)|(All_data['talk_time']==0)])"
      ],
      "metadata": {
        "colab": {
          "base_uri": "https://localhost:8080/"
        },
        "id": "uqlkHlNhVo-X",
        "outputId": "d2b3596f-ee12-47dd-e5ec-dbc476bde591"
      },
      "execution_count": 18,
      "outputs": [
        {
          "output_type": "execute_result",
          "data": {
            "text/plain": [
              "0"
            ]
          },
          "metadata": {},
          "execution_count": 18
        }
      ]
    },
    {
      "cell_type": "markdown",
      "source": [
        "As we can see all the 0 values are successfully replaced with imputed values which are calculated using the mean of all the data in the same column"
      ],
      "metadata": {
        "id": "XdhqgOGGW0Hl"
      }
    },
    {
      "cell_type": "markdown",
      "metadata": {
        "id": "mi8VkREUeqkS"
      },
      "source": [
        "**as we can see there are no null values in the data, so there is no need to drop them**"
      ]
    },
    {
      "cell_type": "markdown",
      "metadata": {
        "id": "QpqmBRxW3_6B"
      },
      "source": [
        "# Step5: Data analysis"
      ]
    },
    {
      "cell_type": "markdown",
      "source": [
        "detecting outliers using IQR, model performance can be improved by handling noisy data."
      ],
      "metadata": {
        "id": "KPP3xv408zew"
      }
    },
    {
      "cell_type": "code",
      "source": [
        "def impute_outliers_IQR(df):\n",
        "   q1=df.quantile(0.25)\n",
        "   q3=df.quantile(0.75)\n",
        "   IQR=q3-q1\n",
        "   upper = df[~(df>(q3+1.5*IQR))].max()\n",
        "   lower = df[~(df<(q1-1.5*IQR))].min()\n",
        "   indices=list(df.index[(df<lower)|(df>upper)])\n",
        "   df = np.where(df > upper,\n",
        "       df.mean(),\n",
        "       np.where(\n",
        "           \n",
        "           df < lower,\n",
        "           df.mean(),\n",
        "           df\n",
        "           )\n",
        "       )\n",
        "   print(indices)\n",
        "   return df"
      ],
      "metadata": {
        "id": "6OtMR1-H-SdZ"
      },
      "execution_count": 19,
      "outputs": []
    },
    {
      "cell_type": "code",
      "source": [
        "columns =['battery_power','clock_speed','int_memory','m_dep','mobile_wt','px_height','px_height','px_width','ram','sc_h','sc_w','talk_time']\n",
        " \n",
        "# Iterate over column names\n",
        "for column in columns:\n",
        "     \n",
        "    All_data[column] = impute_outliers_IQR(All_data[column])"
      ],
      "metadata": {
        "colab": {
          "base_uri": "https://localhost:8080/"
        },
        "id": "KCkVRZLI-Z-A",
        "outputId": "5fcad001-efab-4e74-9c53-d84349c19037"
      },
      "execution_count": 20,
      "outputs": [
        {
          "output_type": "stream",
          "name": "stdout",
          "text": [
            "[]\n",
            "[]\n",
            "[]\n",
            "[]\n",
            "[]\n",
            "[988, 1771]\n",
            "[]\n",
            "[]\n",
            "[]\n",
            "[]\n",
            "[]\n",
            "[]\n"
          ]
        }
      ]
    },
    {
      "cell_type": "code",
      "execution_count": 21,
      "metadata": {
        "colab": {
          "base_uri": "https://localhost:8080/"
        },
        "id": "UH7C_BpEp4_n",
        "outputId": "98773e5f-2f95-4f0e-9c5c-80c777540e84"
      },
      "outputs": [
        {
          "output_type": "stream",
          "name": "stdout",
          "text": [
            "(1600, 20)\n",
            "(400, 20)\n"
          ]
        }
      ],
      "source": [
        "# split data\n",
        "X_train, X_test, y_train, y_test = train_test_split(\n",
        "   All_data.iloc[:,:-1],\n",
        "    All_data.iloc[:,-1],\n",
        "    test_size=0.2,\n",
        "    random_state=0)\n",
        "# #size for test and train\n",
        "print(X_train.shape)\n",
        "\n",
        "print(X_test.shape)"
      ]
    },
    {
      "cell_type": "markdown",
      "metadata": {
        "id": "HRKjENEC69PK"
      },
      "source": [
        "as to be expected, the corrolation between ram and mobile price appears to be the highest, followed by battary_power"
      ]
    },
    {
      "cell_type": "markdown",
      "source": [
        "some features may have useful meanings to add to the model when combined with other features, and since we only have 21 features to begin with then creating combinations of features should be computationally feasible"
      ],
      "metadata": {
        "id": "EEEcqHZdTlKh"
      }
    },
    {
      "cell_type": "code",
      "source": [
        "from itertools import combinations\n",
        "from sklearn.preprocessing import PolynomialFeatures\n",
        "\n",
        "def add_interactions(df):\n",
        "  # Get feature names\n",
        "  combos = list(combinations(list(df.columns), 2))\n",
        "  colnames = list(df.columns) + ['_'.join(x) for x in combos]\n",
        "\n",
        "  # Find interactions\n",
        "  poly = PolynomialFeatures(interaction_only=True, include_bias=False)\n",
        "  df = poly.fit_transform(df)\n",
        "  df = pd.DataFrame(df)\n",
        "  df.columns = colnames\n",
        "\n",
        "  # Remove interaction terms with all 0 values            \n",
        "  noint_indicies = [i for i, x in enumerate(list((df == 0).all())) if x]\n",
        "  df = df.drop(df.columns[noint_indicies], axis=1)\n",
        "\n",
        "  return df\n",
        "X=All_data.iloc[:,:-1]\n",
        "X = add_interactions(X)\n",
        "print(X.head())"
      ],
      "metadata": {
        "colab": {
          "base_uri": "https://localhost:8080/"
        },
        "id": "R0RDPPlHSekH",
        "outputId": "461c8698-502c-40a4-bca3-a2a275aafb27"
      },
      "execution_count": 22,
      "outputs": [
        {
          "output_type": "stream",
          "name": "stdout",
          "text": [
            "   battery_power  clock_speed  int_memory  m_dep  mobile_wt  px_height  \\\n",
            "0          842.0          2.2         7.0    0.6      188.0       20.0   \n",
            "1         1021.0          0.5        53.0    0.7      136.0      905.0   \n",
            "2          563.0          0.5        41.0    0.9      145.0     1263.0   \n",
            "3          615.0          2.5        10.0    0.8      131.0     1216.0   \n",
            "4         1821.0          1.2        44.0    0.6      141.0     1208.0   \n",
            "\n",
            "   px_width     ram  sc_h  sc_w  ...  n_cores_pc  n_cores_three_g  \\\n",
            "0     756.0  2549.0   9.0   7.0  ...         4.0              0.0   \n",
            "1    1988.0  2631.0  17.0   3.0  ...        18.0              3.0   \n",
            "2    1716.0  2603.0  11.0   2.0  ...        30.0              5.0   \n",
            "3    1786.0  2769.0  16.0   8.0  ...        54.0              6.0   \n",
            "4    1212.0  1411.0   8.0   2.0  ...        28.0              2.0   \n",
            "\n",
            "   n_cores_touch_screen  n_cores_wifi  pc_three_g  pc_touch_screen  pc_wifi  \\\n",
            "0                   0.0           2.0         0.0              0.0      2.0   \n",
            "1                   3.0           0.0         6.0              6.0      0.0   \n",
            "2                   5.0           0.0         6.0              6.0      0.0   \n",
            "3                   0.0           0.0         9.0              0.0      0.0   \n",
            "4                   2.0           0.0        14.0             14.0      0.0   \n",
            "\n",
            "   three_g_touch_screen  three_g_wifi  touch_screen_wifi  \n",
            "0                   0.0           0.0                0.0  \n",
            "1                   1.0           0.0                0.0  \n",
            "2                   1.0           0.0                0.0  \n",
            "3                   0.0           0.0                0.0  \n",
            "4                   1.0           0.0                0.0  \n",
            "\n",
            "[5 rows x 210 columns]\n"
          ]
        }
      ]
    },
    {
      "cell_type": "code",
      "source": [
        "# split data\n",
        "X_trainselected, X_testselected, y_train, y_test = train_test_split(\n",
        "   X,\n",
        "    All_data.iloc[:,-1],\n",
        "    test_size=0.2,\n",
        "    random_state=0)\n",
        "# #size for test and train\n",
        "print(X_trainselected.shape)\n",
        "\n",
        "print(X_testselected.shape)"
      ],
      "metadata": {
        "colab": {
          "base_uri": "https://localhost:8080/"
        },
        "id": "ZDAsCLHLUcvO",
        "outputId": "9fc46315-d396-452d-8ba1-af9d22c8b836"
      },
      "execution_count": 23,
      "outputs": [
        {
          "output_type": "stream",
          "name": "stdout",
          "text": [
            "(1600, 210)\n",
            "(400, 210)\n"
          ]
        }
      ]
    },
    {
      "cell_type": "markdown",
      "source": [
        "# Step6: Feature selection"
      ],
      "metadata": {
        "id": "o8jAG74SU-iH"
      }
    },
    {
      "cell_type": "markdown",
      "source": [
        "Now we prepare the data for training\n",
        "firstly, by splitting it into training and testing sets"
      ],
      "metadata": {
        "id": "Re6zgpIKYrfF"
      }
    },
    {
      "cell_type": "markdown",
      "source": [
        "we will go for a simple method of selecting the k-best features"
      ],
      "metadata": {
        "id": "O-XjrjKoWH1P"
      }
    },
    {
      "cell_type": "code",
      "source": [
        "import sklearn.feature_selection\n",
        "# Create and fit selector\n",
        "selector = sklearn.feature_selection.SelectKBest( k=20)\n",
        "selected_features=selector.fit(X_trainselected, y_train)\n",
        "# Get columns to keep and create new dataframe with those only\n",
        "cols_indices = selected_features.get_support(indices=True)\n",
        "\n",
        "cols_selected=[X.columns[i] for i in cols_indices]\n",
        "X_trainselected=X_trainselected[cols_selected]\n",
        "X_testselected=X_testselected[cols_selected]\n"
      ],
      "metadata": {
        "id": "G0f7oR4NWHAn"
      },
      "execution_count": 24,
      "outputs": []
    },
    {
      "cell_type": "code",
      "source": [
        "print(cols_selected)"
      ],
      "metadata": {
        "colab": {
          "base_uri": "https://localhost:8080/"
        },
        "id": "eMOxVWhocBXk",
        "outputId": "37f496bb-7573-4250-bba6-bbb7089a2f02"
      },
      "execution_count": 25,
      "outputs": [
        {
          "output_type": "stream",
          "name": "stdout",
          "text": [
            "['ram', 'battery_power_ram', 'clock_speed_ram', 'int_memory_ram', 'm_dep_ram', 'mobile_wt_ram', 'px_height_ram', 'px_width_ram', 'ram_sc_h', 'ram_sc_w', 'ram_talk_time', 'ram_blue', 'ram_dual_sim', 'ram_fc', 'ram_four_g', 'ram_n_cores', 'ram_pc', 'ram_three_g', 'ram_touch_screen', 'ram_wifi']\n"
          ]
        }
      ]
    },
    {
      "cell_type": "markdown",
      "source": [
        "# Building SVM model"
      ],
      "metadata": {
        "id": "0E3amn_LnDw-"
      }
    },
    {
      "cell_type": "markdown",
      "source": [
        "*with unprocessed data*"
      ],
      "metadata": {
        "id": "JGma0-ezSBLQ"
      }
    },
    {
      "cell_type": "code",
      "source": [
        "import random\n",
        "from sklearn import svm\n",
        "from sklearn.metrics import confusion_matrix\n",
        "import matplotlib.pyplot as plt"
      ],
      "metadata": {
        "id": "FBIzdJXrc-Ut"
      },
      "execution_count": 26,
      "outputs": []
    },
    {
      "cell_type": "code",
      "source": [
        "\n",
        "model = svm.SVC(kernel='poly', degree=2)\n",
        "model.fit(X_train, y_train)\n"
      ],
      "metadata": {
        "colab": {
          "base_uri": "https://localhost:8080/"
        },
        "id": "Tbd-pPKXc4V2",
        "outputId": "34476a4c-e57f-44d5-f765-88167ef068a0"
      },
      "execution_count": 27,
      "outputs": [
        {
          "output_type": "execute_result",
          "data": {
            "text/plain": [
              "SVC(degree=2, kernel='poly')"
            ]
          },
          "metadata": {},
          "execution_count": 27
        }
      ]
    },
    {
      "cell_type": "code",
      "source": [
        "prediction=model.predict(X_test)"
      ],
      "metadata": {
        "id": "G-XozvKzR59J"
      },
      "execution_count": 28,
      "outputs": []
    },
    {
      "cell_type": "code",
      "source": [
        "from sklearn.metrics._plot.confusion_matrix import plot_confusion_matrix\n",
        "\n",
        "plot_confusion_matrix(model,X_test,y_test)"
      ],
      "metadata": {
        "colab": {
          "base_uri": "https://localhost:8080/",
          "height": 351
        },
        "id": "xhkMqPW-dZ41",
        "outputId": "5b0fdbba-23b8-42fe-b442-463c79da998a"
      },
      "execution_count": 29,
      "outputs": [
        {
          "output_type": "stream",
          "name": "stderr",
          "text": [
            "/usr/local/lib/python3.8/dist-packages/sklearn/utils/deprecation.py:87: FutureWarning: Function plot_confusion_matrix is deprecated; Function `plot_confusion_matrix` is deprecated in 1.0 and will be removed in 1.2. Use one of the class methods: ConfusionMatrixDisplay.from_predictions or ConfusionMatrixDisplay.from_estimator.\n",
            "  warnings.warn(msg, category=FutureWarning)\n"
          ]
        },
        {
          "output_type": "execute_result",
          "data": {
            "text/plain": [
              "<sklearn.metrics._plot.confusion_matrix.ConfusionMatrixDisplay at 0x7fcd83429370>"
            ]
          },
          "metadata": {},
          "execution_count": 29
        },
        {
          "output_type": "display_data",
          "data": {
            "text/plain": [
              "<Figure size 432x288 with 2 Axes>"
            ],
            "image/png": "[encoded data removed]"
          },
          "metadata": {
            "needs_background": "light"
          }
        }
      ]
    },
    {
      "cell_type": "code",
      "source": [
        "from sklearn.metrics import f1_score\n",
        "f1score=f1_score(y_test,prediction, average='weighted')\n",
        "print(f1score)"
      ],
      "metadata": {
        "colab": {
          "base_uri": "https://localhost:8080/"
        },
        "id": "V7trNhpDRs6h",
        "outputId": "3ff21181-d88c-4b94-e57b-dfa6aec1f929"
      },
      "execution_count": 30,
      "outputs": [
        {
          "output_type": "stream",
          "name": "stdout",
          "text": [
            "0.9622393110297445\n"
          ]
        }
      ]
    },
    {
      "cell_type": "markdown",
      "source": [
        "*for processed data*"
      ],
      "metadata": {
        "id": "kQZxGq8qSSaV"
      }
    },
    {
      "cell_type": "code",
      "source": [
        "\n",
        "model1 = svm.SVC(kernel='poly', degree=2)\n",
        "model1.fit(X_trainselected, y_train)\n"
      ],
      "metadata": {
        "colab": {
          "base_uri": "https://localhost:8080/"
        },
        "outputId": "8aff37be-1a55-4df3-a4e0-c6a2fc3c4dd3",
        "id": "lvArXmMjSWic"
      },
      "execution_count": 31,
      "outputs": [
        {
          "output_type": "execute_result",
          "data": {
            "text/plain": [
              "SVC(degree=2, kernel='poly')"
            ]
          },
          "metadata": {},
          "execution_count": 31
        }
      ]
    },
    {
      "cell_type": "code",
      "source": [
        "prediction1=model1.predict(X_testselected)"
      ],
      "metadata": {
        "id": "-TAGbbWnSWic"
      },
      "execution_count": 32,
      "outputs": []
    },
    {
      "cell_type": "code",
      "source": [
        "plot_confusion_matrix(model1,X_testselected,y_test)"
      ],
      "metadata": {
        "colab": {
          "base_uri": "https://localhost:8080/",
          "height": 351
        },
        "outputId": "8f9cb53b-cbde-40fe-b8c0-8ee6ba700b82",
        "id": "6R1sduI5SWic"
      },
      "execution_count": 33,
      "outputs": [
        {
          "output_type": "stream",
          "name": "stderr",
          "text": [
            "/usr/local/lib/python3.8/dist-packages/sklearn/utils/deprecation.py:87: FutureWarning: Function plot_confusion_matrix is deprecated; Function `plot_confusion_matrix` is deprecated in 1.0 and will be removed in 1.2. Use one of the class methods: ConfusionMatrixDisplay.from_predictions or ConfusionMatrixDisplay.from_estimator.\n",
            "  warnings.warn(msg, category=FutureWarning)\n"
          ]
        },
        {
          "output_type": "execute_result",
          "data": {
            "text/plain": [
              "<sklearn.metrics._plot.confusion_matrix.ConfusionMatrixDisplay at 0x7fcd83395d60>"
            ]
          },
          "metadata": {},
          "execution_count": 33
        },
        {
          "output_type": "display_data",
          "data": {
            "text/plain": [
              "<Figure size 432x288 with 2 Axes>"
            ],
            "image/png": "[encoded data removed]"
          },
          "metadata": {
            "needs_background": "light"
          }
        }
      ]
    },
    {
      "cell_type": "code",
      "source": [
        "f1score=f1_score(y_test,prediction1, average='weighted')\n",
        "print(f1score)"
      ],
      "metadata": {
        "colab": {
          "base_uri": "https://localhost:8080/"
        },
        "outputId": "06325911-e72a-486f-dcbd-988bc96a2ef1",
        "id": "vfpAKMKxSWid"
      },
      "execution_count": 34,
      "outputs": [
        {
          "output_type": "stream",
          "name": "stdout",
          "text": [
            "0.8974871760094872\n"
          ]
        }
      ]
    },
    {
      "cell_type": "markdown",
      "source": [
        "The results we got from this model are already good in terms of f1score and confusion, and this might be a consequence of a variety of factors such as:\n",
        "\n",
        "\n",
        "*   The kernal we chose\n",
        "*   The kernal specific parameters\n",
        "*   The feature preprossecing that was made\n",
        "\n",
        "and we will try to tune for the different factors to better understand the results\n",
        "\n"
      ],
      "metadata": {
        "id": "H9hpXYNcS1_B"
      }
    },
    {
      "cell_type": "markdown",
      "metadata": {
        "id": "jtdDBOLGBJng"
      },
      "source": [
        "# Hyperparameter tuning, and model evaluation"
      ]
    },
    {
      "cell_type": "markdown",
      "source": [
        "*for unprocessed data*"
      ],
      "metadata": {
        "id": "zBmX9Sh-TAMo"
      }
    },
    {
      "cell_type": "code",
      "source": [
        "\n",
        "from sklearn.model_selection import GridSearchCV\n",
        "# defining parameter range\n",
        "param_grid = {'kernel': ['rbf','sigmoid','poly']} \n",
        "  \n",
        "grid = GridSearchCV(svm.SVC(), param_grid, refit = True,scoring='f1_weighted', verbose = 3)\n",
        "  \n",
        "# fitting the model for grid search\n",
        "grid.fit(X_train, y_train)"
      ],
      "metadata": {
        "colab": {
          "base_uri": "https://localhost:8080/"
        },
        "outputId": "a50d3159-c45d-45fd-bf54-39c1c738c459",
        "id": "4EICLCLbo1JW"
      },
      "execution_count": 35,
      "outputs": [
        {
          "output_type": "stream",
          "name": "stdout",
          "text": [
            "Fitting 5 folds for each of 3 candidates, totalling 15 fits\n",
            "[CV 1/5] END ........................kernel=rbf;, score=0.934 total time=   0.1s\n",
            "[CV 2/5] END ........................kernel=rbf;, score=0.947 total time=   0.1s\n",
            "[CV 3/5] END ........................kernel=rbf;, score=0.944 total time=   0.1s\n",
            "[CV 4/5] END ........................kernel=rbf;, score=0.950 total time=   0.1s\n",
            "[CV 5/5] END ........................kernel=rbf;, score=0.953 total time=   0.1s\n",
            "[CV 1/5] END ....................kernel=sigmoid;, score=0.207 total time=   0.2s\n",
            "[CV 2/5] END ....................kernel=sigmoid;, score=0.182 total time=   0.2s\n",
            "[CV 3/5] END ....................kernel=sigmoid;, score=0.211 total time=   0.2s\n",
            "[CV 4/5] END ....................kernel=sigmoid;, score=0.188 total time=   0.2s\n",
            "[CV 5/5] END ....................kernel=sigmoid;, score=0.184 total time=   0.2s\n",
            "[CV 1/5] END .......................kernel=poly;, score=0.931 total time=   0.0s\n",
            "[CV 2/5] END .......................kernel=poly;, score=0.959 total time=   0.0s\n",
            "[CV 3/5] END .......................kernel=poly;, score=0.934 total time=   0.0s\n",
            "[CV 4/5] END .......................kernel=poly;, score=0.972 total time=   0.0s\n",
            "[CV 5/5] END .......................kernel=poly;, score=0.959 total time=   0.0s\n"
          ]
        },
        {
          "output_type": "execute_result",
          "data": {
            "text/plain": [
              "GridSearchCV(estimator=SVC(), param_grid={'kernel': ['rbf', 'sigmoid', 'poly']},\n",
              "             scoring='f1_weighted', verbose=3)"
            ]
          },
          "metadata": {},
          "execution_count": 35
        }
      ]
    },
    {
      "cell_type": "code",
      "source": [
        "param_grid = {'kernel': ['poly'],'gamma': [1,0.1,0.01],'degree':[1,2,3,4]} \n",
        "  \n",
        "grid = GridSearchCV(svm.SVC(), param_grid, refit = True,scoring='f1_weighted', verbose = 3)\n",
        "  \n",
        "# fitting the model for grid search\n",
        "grid.fit(X_train, y_train)"
      ],
      "metadata": {
        "colab": {
          "base_uri": "https://localhost:8080/"
        },
        "outputId": "460b0078-e0ac-4955-80eb-c390f70082e6",
        "id": "aJHZ-ohEXMVG"
      },
      "execution_count": 36,
      "outputs": [
        {
          "output_type": "stream",
          "name": "stdout",
          "text": [
            "Fitting 5 folds for each of 12 candidates, totalling 60 fits\n",
            "[CV 1/5] END ....degree=1, gamma=1, kernel=poly;, score=0.972 total time=   6.2s\n",
            "[CV 2/5] END ....degree=1, gamma=1, kernel=poly;, score=0.962 total time=  10.1s\n",
            "[CV 3/5] END ....degree=1, gamma=1, kernel=poly;, score=0.953 total time=   3.8s\n",
            "[CV 4/5] END ....degree=1, gamma=1, kernel=poly;, score=0.978 total time=   5.5s\n",
            "[CV 5/5] END ....degree=1, gamma=1, kernel=poly;, score=0.969 total time=   4.4s\n",
            "[CV 1/5] END ..degree=1, gamma=0.1, kernel=poly;, score=0.972 total time=   1.6s\n",
            "[CV 2/5] END ..degree=1, gamma=0.1, kernel=poly;, score=0.962 total time=   2.0s\n",
            "[CV 3/5] END ..degree=1, gamma=0.1, kernel=poly;, score=0.963 total time=   1.0s\n",
            "[CV 4/5] END ..degree=1, gamma=0.1, kernel=poly;, score=0.975 total time=   2.1s\n",
            "[CV 5/5] END ..degree=1, gamma=0.1, kernel=poly;, score=0.969 total time=   1.6s\n",
            "[CV 1/5] END .degree=1, gamma=0.01, kernel=poly;, score=0.966 total time=   0.2s\n",
            "[CV 2/5] END .degree=1, gamma=0.01, kernel=poly;, score=0.975 total time=   0.2s\n",
            "[CV 3/5] END .degree=1, gamma=0.01, kernel=poly;, score=0.975 total time=   0.1s\n",
            "[CV 4/5] END .degree=1, gamma=0.01, kernel=poly;, score=0.975 total time=   0.2s\n",
            "[CV 5/5] END .degree=1, gamma=0.01, kernel=poly;, score=0.969 total time=   0.4s\n",
            "[CV 1/5] END ....degree=2, gamma=1, kernel=poly;, score=0.972 total time=   1.6s\n",
            "[CV 2/5] END ....degree=2, gamma=1, kernel=poly;, score=0.963 total time=   0.7s\n",
            "[CV 3/5] END ....degree=2, gamma=1, kernel=poly;, score=0.950 total time=   0.1s\n",
            "[CV 4/5] END ....degree=2, gamma=1, kernel=poly;, score=0.959 total time=   0.4s\n",
            "[CV 5/5] END ....degree=2, gamma=1, kernel=poly;, score=0.963 total time=   1.3s\n",
            "[CV 1/5] END ..degree=2, gamma=0.1, kernel=poly;, score=0.972 total time=   3.0s\n",
            "[CV 2/5] END ..degree=2, gamma=0.1, kernel=poly;, score=0.963 total time=   0.7s\n",
            "[CV 3/5] END ..degree=2, gamma=0.1, kernel=poly;, score=0.947 total time=   0.1s\n",
            "[CV 4/5] END ..degree=2, gamma=0.1, kernel=poly;, score=0.959 total time=   0.7s\n",
            "[CV 5/5] END ..degree=2, gamma=0.1, kernel=poly;, score=0.963 total time=   0.7s\n",
            "[CV 1/5] END .degree=2, gamma=0.01, kernel=poly;, score=0.972 total time=   0.9s\n",
            "[CV 2/5] END .degree=2, gamma=0.01, kernel=poly;, score=0.963 total time=   0.7s\n",
            "[CV 3/5] END .degree=2, gamma=0.01, kernel=poly;, score=0.947 total time=   0.1s\n",
            "[CV 4/5] END .degree=2, gamma=0.01, kernel=poly;, score=0.959 total time=   0.6s\n",
            "[CV 5/5] END .degree=2, gamma=0.01, kernel=poly;, score=0.963 total time=   0.8s\n",
            "[CV 1/5] END ....degree=3, gamma=1, kernel=poly;, score=0.962 total time=   0.2s\n",
            "[CV 2/5] END ....degree=3, gamma=1, kernel=poly;, score=0.956 total time=   0.1s\n",
            "[CV 3/5] END ....degree=3, gamma=1, kernel=poly;, score=0.947 total time=   0.2s\n",
            "[CV 4/5] END ....degree=3, gamma=1, kernel=poly;, score=0.956 total time=   0.1s\n",
            "[CV 5/5] END ....degree=3, gamma=1, kernel=poly;, score=0.956 total time=   0.2s\n",
            "[CV 1/5] END ..degree=3, gamma=0.1, kernel=poly;, score=0.962 total time=   0.2s\n",
            "[CV 2/5] END ..degree=3, gamma=0.1, kernel=poly;, score=0.956 total time=   0.1s\n",
            "[CV 3/5] END ..degree=3, gamma=0.1, kernel=poly;, score=0.947 total time=   0.1s\n",
            "[CV 4/5] END ..degree=3, gamma=0.1, kernel=poly;, score=0.956 total time=   0.1s\n",
            "[CV 5/5] END ..degree=3, gamma=0.1, kernel=poly;, score=0.956 total time=   0.2s\n",
            "[CV 1/5] END .degree=3, gamma=0.01, kernel=poly;, score=0.962 total time=   0.2s\n",
            "[CV 2/5] END .degree=3, gamma=0.01, kernel=poly;, score=0.956 total time=   0.1s\n",
            "[CV 3/5] END .degree=3, gamma=0.01, kernel=poly;, score=0.947 total time=   0.1s\n",
            "[CV 4/5] END .degree=3, gamma=0.01, kernel=poly;, score=0.956 total time=   0.1s\n",
            "[CV 5/5] END .degree=3, gamma=0.01, kernel=poly;, score=0.956 total time=   0.2s\n",
            "[CV 1/5] END ....degree=4, gamma=1, kernel=poly;, score=0.969 total time=   0.1s\n",
            "[CV 2/5] END ....degree=4, gamma=1, kernel=poly;, score=0.956 total time=   0.1s\n",
            "[CV 3/5] END ....degree=4, gamma=1, kernel=poly;, score=0.944 total time=   0.1s\n",
            "[CV 4/5] END ....degree=4, gamma=1, kernel=poly;, score=0.956 total time=   0.1s\n",
            "[CV 5/5] END ....degree=4, gamma=1, kernel=poly;, score=0.966 total time=   0.1s\n",
            "[CV 1/5] END ..degree=4, gamma=0.1, kernel=poly;, score=0.969 total time=   0.1s\n",
            "[CV 2/5] END ..degree=4, gamma=0.1, kernel=poly;, score=0.956 total time=   0.1s\n",
            "[CV 3/5] END ..degree=4, gamma=0.1, kernel=poly;, score=0.944 total time=   0.1s\n",
            "[CV 4/5] END ..degree=4, gamma=0.1, kernel=poly;, score=0.956 total time=   0.1s\n",
            "[CV 5/5] END ..degree=4, gamma=0.1, kernel=poly;, score=0.966 total time=   0.1s\n",
            "[CV 1/5] END .degree=4, gamma=0.01, kernel=poly;, score=0.966 total time=   0.1s\n",
            "[CV 2/5] END .degree=4, gamma=0.01, kernel=poly;, score=0.956 total time=   0.1s\n",
            "[CV 3/5] END .degree=4, gamma=0.01, kernel=poly;, score=0.944 total time=   0.1s\n",
            "[CV 4/5] END .degree=4, gamma=0.01, kernel=poly;, score=0.956 total time=   0.1s\n",
            "[CV 5/5] END .degree=4, gamma=0.01, kernel=poly;, score=0.966 total time=   0.1s\n"
          ]
        },
        {
          "output_type": "execute_result",
          "data": {
            "text/plain": [
              "GridSearchCV(estimator=SVC(),\n",
              "             param_grid={'degree': [1, 2, 3, 4], 'gamma': [1, 0.1, 0.01],\n",
              "                         'kernel': ['poly']},\n",
              "             scoring='f1_weighted', verbose=3)"
            ]
          },
          "metadata": {},
          "execution_count": 36
        }
      ]
    },
    {
      "cell_type": "code",
      "source": [
        "print(grid.best_params_)"
      ],
      "metadata": {
        "colab": {
          "base_uri": "https://localhost:8080/"
        },
        "outputId": "8e1b132b-d365-4798-c39e-1bd658b4bcd5",
        "id": "rLJPA38HXMVH"
      },
      "execution_count": 37,
      "outputs": [
        {
          "output_type": "stream",
          "name": "stdout",
          "text": [
            "{'degree': 1, 'gamma': 0.01, 'kernel': 'poly'}\n"
          ]
        }
      ]
    },
    {
      "cell_type": "markdown",
      "source": [
        "*for processed data*"
      ],
      "metadata": {
        "id": "aSx-KE-gV7NM"
      }
    },
    {
      "cell_type": "code",
      "source": [
        "\n",
        "param_grid = {'kernel': ['rbf','sigmoid','poly']} \n",
        "  \n",
        "grid = GridSearchCV(svm.SVC(), param_grid, refit = True,scoring='f1_weighted', verbose = 3)\n",
        "  \n",
        "# fitting the model for grid search\n",
        "grid.fit(X_trainselected, y_train)"
      ],
      "metadata": {
        "colab": {
          "base_uri": "https://localhost:8080/"
        },
        "outputId": "30bcc17f-914a-48c1-b68b-0d11f391ea06",
        "id": "pBq2upaKV4hg"
      },
      "execution_count": 38,
      "outputs": [
        {
          "output_type": "stream",
          "name": "stdout",
          "text": [
            "Fitting 5 folds for each of 3 candidates, totalling 15 fits\n",
            "[CV 1/5] END ........................kernel=rbf;, score=0.874 total time=   0.1s\n",
            "[CV 2/5] END ........................kernel=rbf;, score=0.871 total time=   0.1s\n",
            "[CV 3/5] END ........................kernel=rbf;, score=0.871 total time=   0.1s\n",
            "[CV 4/5] END ........................kernel=rbf;, score=0.854 total time=   0.1s\n",
            "[CV 5/5] END ........................kernel=rbf;, score=0.865 total time=   0.1s\n",
            "[CV 1/5] END ....................kernel=sigmoid;, score=0.269 total time=   0.1s\n",
            "[CV 2/5] END ....................kernel=sigmoid;, score=0.261 total time=   0.1s\n",
            "[CV 3/5] END ....................kernel=sigmoid;, score=0.271 total time=   0.1s\n",
            "[CV 4/5] END ....................kernel=sigmoid;, score=0.248 total time=   0.2s\n",
            "[CV 5/5] END ....................kernel=sigmoid;, score=0.254 total time=   0.2s\n",
            "[CV 1/5] END .......................kernel=poly;, score=0.851 total time=   0.0s\n",
            "[CV 2/5] END .......................kernel=poly;, score=0.864 total time=   0.0s\n",
            "[CV 3/5] END .......................kernel=poly;, score=0.848 total time=   0.0s\n",
            "[CV 4/5] END .......................kernel=poly;, score=0.859 total time=   0.0s\n",
            "[CV 5/5] END .......................kernel=poly;, score=0.845 total time=   0.0s\n"
          ]
        },
        {
          "output_type": "execute_result",
          "data": {
            "text/plain": [
              "GridSearchCV(estimator=SVC(), param_grid={'kernel': ['rbf', 'sigmoid', 'poly']},\n",
              "             scoring='f1_weighted', verbose=3)"
            ]
          },
          "metadata": {},
          "execution_count": 38
        }
      ]
    },
    {
      "cell_type": "code",
      "source": [
        "print(grid.best_params_)\n"
      ],
      "metadata": {
        "colab": {
          "base_uri": "https://localhost:8080/"
        },
        "outputId": "fe93988e-7b86-4d39-c472-ef0107240ec5",
        "id": "cXiOQlI_o1JW"
      },
      "execution_count": 39,
      "outputs": [
        {
          "output_type": "stream",
          "name": "stdout",
          "text": [
            "{'kernel': 'rbf'}\n"
          ]
        }
      ]
    },
    {
      "cell_type": "markdown",
      "source": [
        "The previous tuning suggests that the best kernal for this data is indeed polynomial , rbf is a close second.\n",
        " more notably that the sigmoid kernal is not suitable for this data"
      ],
      "metadata": {
        "id": "ljt2b7J4o1JX"
      }
    },
    {
      "cell_type": "code",
      "source": [
        "\n",
        "param_grid = {'C': [0.1,0.01,0.001,1,0.0001], 'gamma' :  [\"scale\",\"auto\"]}\n",
        "grid_search = GridSearchCV(svm.SVC(kernel='rbf'), param_grid, refit = True,scoring='f1_weighted', verbose = 3)\n",
        "\n",
        "grid_search.fit(X_trainselected, y_train)"
      ],
      "metadata": {
        "colab": {
          "base_uri": "https://localhost:8080/"
        },
        "outputId": "53b5256f-d3c9-4502-ff8b-7a92c0ef1e3c",
        "id": "R2K6MonHo1JX"
      },
      "execution_count": 65,
      "outputs": [
        {
          "output_type": "stream",
          "name": "stdout",
          "text": [
            "Fitting 5 folds for each of 10 candidates, totalling 50 fits\n",
            "[CV 1/5] END ................C=0.1, gamma=scale;, score=0.884 total time=   0.1s\n",
            "[CV 2/5] END ................C=0.1, gamma=scale;, score=0.881 total time=   0.1s\n",
            "[CV 3/5] END ................C=0.1, gamma=scale;, score=0.884 total time=   0.1s\n",
            "[CV 4/5] END ................C=0.1, gamma=scale;, score=0.839 total time=   0.1s\n",
            "[CV 5/5] END ................C=0.1, gamma=scale;, score=0.859 total time=   0.1s\n",
            "[CV 1/5] END .................C=0.1, gamma=auto;, score=0.105 total time=   0.2s\n",
            "[CV 2/5] END .................C=0.1, gamma=auto;, score=0.105 total time=   0.2s\n",
            "[CV 3/5] END .................C=0.1, gamma=auto;, score=0.105 total time=   0.2s\n",
            "[CV 4/5] END .................C=0.1, gamma=auto;, score=0.102 total time=   0.2s\n",
            "[CV 5/5] END .................C=0.1, gamma=auto;, score=0.102 total time=   0.2s\n",
            "[CV 1/5] END ...............C=0.01, gamma=scale;, score=0.756 total time=   0.2s\n",
            "[CV 2/5] END ...............C=0.01, gamma=scale;, score=0.757 total time=   0.2s\n",
            "[CV 3/5] END ...............C=0.01, gamma=scale;, score=0.725 total time=   0.2s\n",
            "[CV 4/5] END ...............C=0.01, gamma=scale;, score=0.734 total time=   0.2s\n",
            "[CV 5/5] END ...............C=0.01, gamma=scale;, score=0.707 total time=   0.2s\n",
            "[CV 1/5] END ................C=0.01, gamma=auto;, score=0.105 total time=   0.2s\n",
            "[CV 2/5] END ................C=0.01, gamma=auto;, score=0.105 total time=   0.2s\n",
            "[CV 3/5] END ................C=0.01, gamma=auto;, score=0.105 total time=   0.2s\n",
            "[CV 4/5] END ................C=0.01, gamma=auto;, score=0.102 total time=   0.2s\n",
            "[CV 5/5] END ................C=0.01, gamma=auto;, score=0.102 total time=   0.2s\n",
            "[CV 1/5] END ..............C=0.001, gamma=scale;, score=0.105 total time=   0.2s\n",
            "[CV 2/5] END ..............C=0.001, gamma=scale;, score=0.105 total time=   0.2s\n",
            "[CV 3/5] END ..............C=0.001, gamma=scale;, score=0.105 total time=   0.2s\n",
            "[CV 4/5] END ..............C=0.001, gamma=scale;, score=0.102 total time=   0.2s\n",
            "[CV 5/5] END ..............C=0.001, gamma=scale;, score=0.102 total time=   0.2s\n",
            "[CV 1/5] END ...............C=0.001, gamma=auto;, score=0.105 total time=   0.2s\n",
            "[CV 2/5] END ...............C=0.001, gamma=auto;, score=0.105 total time=   0.2s\n",
            "[CV 3/5] END ...............C=0.001, gamma=auto;, score=0.105 total time=   0.2s\n",
            "[CV 4/5] END ...............C=0.001, gamma=auto;, score=0.102 total time=   0.2s\n",
            "[CV 5/5] END ...............C=0.001, gamma=auto;, score=0.102 total time=   0.2s\n",
            "[CV 1/5] END ..................C=1, gamma=scale;, score=0.874 total time=   0.1s\n",
            "[CV 2/5] END ..................C=1, gamma=scale;, score=0.871 total time=   0.1s\n",
            "[CV 3/5] END ..................C=1, gamma=scale;, score=0.871 total time=   0.1s\n",
            "[CV 4/5] END ..................C=1, gamma=scale;, score=0.854 total time=   0.1s\n",
            "[CV 5/5] END ..................C=1, gamma=scale;, score=0.865 total time=   0.1s\n",
            "[CV 1/5] END ...................C=1, gamma=auto;, score=0.105 total time=   0.2s\n",
            "[CV 2/5] END ...................C=1, gamma=auto;, score=0.105 total time=   0.2s\n",
            "[CV 3/5] END ...................C=1, gamma=auto;, score=0.105 total time=   0.2s\n",
            "[CV 4/5] END ...................C=1, gamma=auto;, score=0.102 total time=   0.2s\n",
            "[CV 5/5] END ...................C=1, gamma=auto;, score=0.102 total time=   0.2s\n",
            "[CV 1/5] END .............C=0.0001, gamma=scale;, score=0.105 total time=   0.2s\n",
            "[CV 2/5] END .............C=0.0001, gamma=scale;, score=0.105 total time=   0.2s\n",
            "[CV 3/5] END .............C=0.0001, gamma=scale;, score=0.105 total time=   0.2s\n",
            "[CV 4/5] END .............C=0.0001, gamma=scale;, score=0.102 total time=   0.2s\n",
            "[CV 5/5] END .............C=0.0001, gamma=scale;, score=0.102 total time=   0.2s\n",
            "[CV 1/5] END ..............C=0.0001, gamma=auto;, score=0.105 total time=   0.2s\n",
            "[CV 2/5] END ..............C=0.0001, gamma=auto;, score=0.105 total time=   0.2s\n",
            "[CV 3/5] END ..............C=0.0001, gamma=auto;, score=0.105 total time=   0.2s\n",
            "[CV 4/5] END ..............C=0.0001, gamma=auto;, score=0.102 total time=   0.2s\n",
            "[CV 5/5] END ..............C=0.0001, gamma=auto;, score=0.102 total time=   0.2s\n"
          ]
        },
        {
          "output_type": "execute_result",
          "data": {
            "text/plain": [
              "GridSearchCV(estimator=SVC(),\n",
              "             param_grid={'C': [0.1, 0.01, 0.001, 1, 0.0001],\n",
              "                         'gamma': ['scale', 'auto']},\n",
              "             scoring='f1_weighted', verbose=3)"
            ]
          },
          "metadata": {},
          "execution_count": 65
        }
      ]
    },
    {
      "cell_type": "code",
      "source": [
        "print(grid_search.best_params_)"
      ],
      "metadata": {
        "colab": {
          "base_uri": "https://localhost:8080/"
        },
        "outputId": "b7fca70d-2ac0-4ad2-88d7-3351c95bfd77",
        "id": "e-0m916qo1JX"
      },
      "execution_count": 66,
      "outputs": [
        {
          "output_type": "stream",
          "name": "stdout",
          "text": [
            "{'C': 0.1, 'gamma': 'scale'}\n"
          ]
        }
      ]
    },
    {
      "cell_type": "markdown",
      "source": [
        "*scaled features*"
      ],
      "metadata": {
        "id": "jam7Cyt_gQ9e"
      }
    },
    {
      "cell_type": "code",
      "source": [
        "from sklearn.preprocessing import StandardScaler\n",
        "scaler = StandardScaler().fit(X_train)\n",
        "X_std = scaler.transform(X_train)\n",
        "X_stsd= scaler.transform(X_test)"
      ],
      "metadata": {
        "id": "ARjZR-3JgY2t"
      },
      "execution_count": 71,
      "outputs": []
    },
    {
      "cell_type": "code",
      "source": [
        "param_grid = {'kernel': ['rbf','sigmoid','poly']} \n",
        "  \n",
        "grid = GridSearchCV(svm.SVC(), param_grid, refit = True,scoring='f1_weighted', verbose = 3)\n",
        "  \n",
        "# fitting the model for grid search\n",
        "grid.fit(X_std, y_train)"
      ],
      "metadata": {
        "colab": {
          "base_uri": "https://localhost:8080/"
        },
        "id": "KTbypaYwgfe9",
        "outputId": "64eb7a45-fd00-4853-fffc-8536e34de904"
      },
      "execution_count": 72,
      "outputs": [
        {
          "output_type": "stream",
          "name": "stdout",
          "text": [
            "Fitting 5 folds for each of 3 candidates, totalling 15 fits\n",
            "[CV 1/5] END ........................kernel=rbf;, score=0.903 total time=   0.2s\n",
            "[CV 2/5] END ........................kernel=rbf;, score=0.837 total time=   0.3s\n",
            "[CV 3/5] END ........................kernel=rbf;, score=0.853 total time=   0.2s\n",
            "[CV 4/5] END ........................kernel=rbf;, score=0.854 total time=   0.2s\n",
            "[CV 5/5] END ........................kernel=rbf;, score=0.897 total time=   0.1s\n",
            "[CV 1/5] END ....................kernel=sigmoid;, score=0.937 total time=   0.1s\n",
            "[CV 2/5] END ....................kernel=sigmoid;, score=0.935 total time=   0.1s\n",
            "[CV 3/5] END ....................kernel=sigmoid;, score=0.906 total time=   0.1s\n",
            "[CV 4/5] END ....................kernel=sigmoid;, score=0.897 total time=   0.1s\n",
            "[CV 5/5] END ....................kernel=sigmoid;, score=0.931 total time=   0.1s\n",
            "[CV 1/5] END .......................kernel=poly;, score=0.764 total time=   0.1s\n",
            "[CV 2/5] END .......................kernel=poly;, score=0.775 total time=   0.1s\n",
            "[CV 3/5] END .......................kernel=poly;, score=0.752 total time=   0.1s\n",
            "[CV 4/5] END .......................kernel=poly;, score=0.729 total time=   0.1s\n",
            "[CV 5/5] END .......................kernel=poly;, score=0.735 total time=   0.1s\n"
          ]
        },
        {
          "output_type": "execute_result",
          "data": {
            "text/plain": [
              "GridSearchCV(estimator=SVC(), param_grid={'kernel': ['rbf', 'sigmoid', 'poly']},\n",
              "             scoring='f1_weighted', verbose=3)"
            ]
          },
          "metadata": {},
          "execution_count": 72
        }
      ]
    },
    {
      "cell_type": "code",
      "source": [
        "print(grid.best_params_)"
      ],
      "metadata": {
        "colab": {
          "base_uri": "https://localhost:8080/"
        },
        "id": "SohZUEEwgpON",
        "outputId": "3111cbed-256f-4aee-b76d-38b89e049810"
      },
      "execution_count": 73,
      "outputs": [
        {
          "output_type": "stream",
          "name": "stdout",
          "text": [
            "{'kernel': 'sigmoid'}\n"
          ]
        }
      ]
    },
    {
      "cell_type": "code",
      "source": [
        "param_grid = {'kernel': ['sigmoid'],'gamma': [1,0.1,0.01],'C':[1,2,3,4]} \n",
        "  \n",
        "grid = GridSearchCV(svm.SVC(), param_grid, refit = True,scoring='f1_weighted', verbose = 3)\n",
        "  \n",
        "# fitting the model for grid search\n",
        "grid.fit(X_std, y_train)"
      ],
      "metadata": {
        "colab": {
          "base_uri": "https://localhost:8080/"
        },
        "id": "cRhgWaqsgko9",
        "outputId": "f7f01c73-2d17-43b9-81a3-74f2dda9961b"
      },
      "execution_count": 74,
      "outputs": [
        {
          "output_type": "stream",
          "name": "stdout",
          "text": [
            "Fitting 5 folds for each of 12 candidates, totalling 60 fits\n",
            "[CV 1/5] END ......C=1, gamma=1, kernel=sigmoid;, score=0.606 total time=   0.1s\n",
            "[CV 2/5] END ......C=1, gamma=1, kernel=sigmoid;, score=0.644 total time=   0.1s\n",
            "[CV 3/5] END ......C=1, gamma=1, kernel=sigmoid;, score=0.642 total time=   0.1s\n",
            "[CV 4/5] END ......C=1, gamma=1, kernel=sigmoid;, score=0.669 total time=   0.1s\n",
            "[CV 5/5] END ......C=1, gamma=1, kernel=sigmoid;, score=0.639 total time=   0.1s\n",
            "[CV 1/5] END ....C=1, gamma=0.1, kernel=sigmoid;, score=0.847 total time=   0.1s\n",
            "[CV 2/5] END ....C=1, gamma=0.1, kernel=sigmoid;, score=0.830 total time=   0.1s\n",
            "[CV 3/5] END ....C=1, gamma=0.1, kernel=sigmoid;, score=0.851 total time=   0.1s\n",
            "[CV 4/5] END ....C=1, gamma=0.1, kernel=sigmoid;, score=0.818 total time=   0.1s\n",
            "[CV 5/5] END ....C=1, gamma=0.1, kernel=sigmoid;, score=0.858 total time=   0.1s\n",
            "[CV 1/5] END ...C=1, gamma=0.01, kernel=sigmoid;, score=0.919 total time=   0.1s\n",
            "[CV 2/5] END ...C=1, gamma=0.01, kernel=sigmoid;, score=0.880 total time=   0.1s\n",
            "[CV 3/5] END ...C=1, gamma=0.01, kernel=sigmoid;, score=0.925 total time=   0.1s\n",
            "[CV 4/5] END ...C=1, gamma=0.01, kernel=sigmoid;, score=0.872 total time=   0.1s\n",
            "[CV 5/5] END ...C=1, gamma=0.01, kernel=sigmoid;, score=0.907 total time=   0.1s\n",
            "[CV 1/5] END ......C=2, gamma=1, kernel=sigmoid;, score=0.626 total time=   0.1s\n",
            "[CV 2/5] END ......C=2, gamma=1, kernel=sigmoid;, score=0.632 total time=   0.1s\n",
            "[CV 3/5] END ......C=2, gamma=1, kernel=sigmoid;, score=0.601 total time=   0.1s\n",
            "[CV 4/5] END ......C=2, gamma=1, kernel=sigmoid;, score=0.651 total time=   0.1s\n",
            "[CV 5/5] END ......C=2, gamma=1, kernel=sigmoid;, score=0.666 total time=   0.1s\n",
            "[CV 1/5] END ....C=2, gamma=0.1, kernel=sigmoid;, score=0.828 total time=   0.1s\n",
            "[CV 2/5] END ....C=2, gamma=0.1, kernel=sigmoid;, score=0.822 total time=   0.1s\n",
            "[CV 3/5] END ....C=2, gamma=0.1, kernel=sigmoid;, score=0.822 total time=   0.1s\n",
            "[CV 4/5] END ....C=2, gamma=0.1, kernel=sigmoid;, score=0.803 total time=   0.1s\n",
            "[CV 5/5] END ....C=2, gamma=0.1, kernel=sigmoid;, score=0.833 total time=   0.1s\n",
            "[CV 1/5] END ...C=2, gamma=0.01, kernel=sigmoid;, score=0.947 total time=   0.1s\n",
            "[CV 2/5] END ...C=2, gamma=0.01, kernel=sigmoid;, score=0.919 total time=   0.1s\n",
            "[CV 3/5] END ...C=2, gamma=0.01, kernel=sigmoid;, score=0.913 total time=   0.1s\n",
            "[CV 4/5] END ...C=2, gamma=0.01, kernel=sigmoid;, score=0.894 total time=   0.1s\n",
            "[CV 5/5] END ...C=2, gamma=0.01, kernel=sigmoid;, score=0.928 total time=   0.1s\n",
            "[CV 1/5] END ......C=3, gamma=1, kernel=sigmoid;, score=0.645 total time=   0.1s\n",
            "[CV 2/5] END ......C=3, gamma=1, kernel=sigmoid;, score=0.641 total time=   0.1s\n",
            "[CV 3/5] END ......C=3, gamma=1, kernel=sigmoid;, score=0.620 total time=   0.1s\n",
            "[CV 4/5] END ......C=3, gamma=1, kernel=sigmoid;, score=0.632 total time=   0.1s\n",
            "[CV 5/5] END ......C=3, gamma=1, kernel=sigmoid;, score=0.630 total time=   0.1s\n",
            "[CV 1/5] END ....C=3, gamma=0.1, kernel=sigmoid;, score=0.804 total time=   0.1s\n",
            "[CV 2/5] END ....C=3, gamma=0.1, kernel=sigmoid;, score=0.800 total time=   0.1s\n",
            "[CV 3/5] END ....C=3, gamma=0.1, kernel=sigmoid;, score=0.783 total time=   0.1s\n",
            "[CV 4/5] END ....C=3, gamma=0.1, kernel=sigmoid;, score=0.797 total time=   0.1s\n",
            "[CV 5/5] END ....C=3, gamma=0.1, kernel=sigmoid;, score=0.827 total time=   0.1s\n",
            "[CV 1/5] END ...C=3, gamma=0.01, kernel=sigmoid;, score=0.937 total time=   0.1s\n",
            "[CV 2/5] END ...C=3, gamma=0.01, kernel=sigmoid;, score=0.929 total time=   0.1s\n",
            "[CV 3/5] END ...C=3, gamma=0.01, kernel=sigmoid;, score=0.919 total time=   0.1s\n",
            "[CV 4/5] END ...C=3, gamma=0.01, kernel=sigmoid;, score=0.900 total time=   0.1s\n",
            "[CV 5/5] END ...C=3, gamma=0.01, kernel=sigmoid;, score=0.931 total time=   0.1s\n",
            "[CV 1/5] END ......C=4, gamma=1, kernel=sigmoid;, score=0.633 total time=   0.1s\n",
            "[CV 2/5] END ......C=4, gamma=1, kernel=sigmoid;, score=0.634 total time=   0.1s\n",
            "[CV 3/5] END ......C=4, gamma=1, kernel=sigmoid;, score=0.622 total time=   0.1s\n",
            "[CV 4/5] END ......C=4, gamma=1, kernel=sigmoid;, score=0.634 total time=   0.1s\n",
            "[CV 5/5] END ......C=4, gamma=1, kernel=sigmoid;, score=0.642 total time=   0.1s\n",
            "[CV 1/5] END ....C=4, gamma=0.1, kernel=sigmoid;, score=0.810 total time=   0.1s\n",
            "[CV 2/5] END ....C=4, gamma=0.1, kernel=sigmoid;, score=0.820 total time=   0.1s\n",
            "[CV 3/5] END ....C=4, gamma=0.1, kernel=sigmoid;, score=0.809 total time=   0.1s\n",
            "[CV 4/5] END ....C=4, gamma=0.1, kernel=sigmoid;, score=0.822 total time=   0.1s\n",
            "[CV 5/5] END ....C=4, gamma=0.1, kernel=sigmoid;, score=0.813 total time=   0.1s\n",
            "[CV 1/5] END ...C=4, gamma=0.01, kernel=sigmoid;, score=0.943 total time=   0.1s\n",
            "[CV 2/5] END ...C=4, gamma=0.01, kernel=sigmoid;, score=0.929 total time=   0.1s\n",
            "[CV 3/5] END ...C=4, gamma=0.01, kernel=sigmoid;, score=0.925 total time=   0.1s\n",
            "[CV 4/5] END ...C=4, gamma=0.01, kernel=sigmoid;, score=0.906 total time=   0.1s\n",
            "[CV 5/5] END ...C=4, gamma=0.01, kernel=sigmoid;, score=0.947 total time=   0.1s\n"
          ]
        },
        {
          "output_type": "execute_result",
          "data": {
            "text/plain": [
              "GridSearchCV(estimator=SVC(),\n",
              "             param_grid={'C': [1, 2, 3, 4], 'gamma': [1, 0.1, 0.01],\n",
              "                         'kernel': ['sigmoid']},\n",
              "             scoring='f1_weighted', verbose=3)"
            ]
          },
          "metadata": {},
          "execution_count": 74
        }
      ]
    },
    {
      "cell_type": "code",
      "source": [
        "print(grid.best_params_)"
      ],
      "metadata": {
        "colab": {
          "base_uri": "https://localhost:8080/"
        },
        "id": "aqHAU_bIpTpO",
        "outputId": "7bb669e1-94ec-4e00-f653-8963f1d700d2"
      },
      "execution_count": 75,
      "outputs": [
        {
          "output_type": "stream",
          "name": "stdout",
          "text": [
            "{'C': 4, 'gamma': 0.01, 'kernel': 'sigmoid'}\n"
          ]
        }
      ]
    },
    {
      "cell_type": "markdown",
      "source": [
        "# Build and Evaluate the tuned SVM"
      ],
      "metadata": {
        "id": "U781dNPKgYsb"
      }
    },
    {
      "cell_type": "markdown",
      "source": [
        "*for unprocessed data*"
      ],
      "metadata": {
        "id": "U2ZV5pVUWcLj"
      }
    },
    {
      "cell_type": "code",
      "source": [
        "\n",
        "model1 = svm.SVC(kernel='poly', gamma=0.01,degree=1)\n",
        "model1.fit(X_train, y_train)"
      ],
      "metadata": {
        "colab": {
          "base_uri": "https://localhost:8080/"
        },
        "outputId": "2209be0e-ab27-47ab-8035-da4f845533b1",
        "id": "lX49T_coXMVH"
      },
      "execution_count": 45,
      "outputs": [
        {
          "output_type": "execute_result",
          "data": {
            "text/plain": [
              "SVC(degree=1, gamma=0.01, kernel='poly')"
            ]
          },
          "metadata": {},
          "execution_count": 45
        }
      ]
    },
    {
      "cell_type": "code",
      "source": [
        "prediction1=model1.predict(X_test)"
      ],
      "metadata": {
        "id": "SMtSleqjXMVH"
      },
      "execution_count": 46,
      "outputs": []
    },
    {
      "cell_type": "code",
      "source": [
        "plot_confusion_matrix(model1,X_test,y_test)"
      ],
      "metadata": {
        "colab": {
          "base_uri": "https://localhost:8080/",
          "height": 351
        },
        "outputId": "27dddbcd-6566-4464-f81f-5a2af9792358",
        "id": "utPFSd08XMVI"
      },
      "execution_count": 47,
      "outputs": [
        {
          "output_type": "stream",
          "name": "stderr",
          "text": [
            "/usr/local/lib/python3.8/dist-packages/sklearn/utils/deprecation.py:87: FutureWarning: Function plot_confusion_matrix is deprecated; Function `plot_confusion_matrix` is deprecated in 1.0 and will be removed in 1.2. Use one of the class methods: ConfusionMatrixDisplay.from_predictions or ConfusionMatrixDisplay.from_estimator.\n",
            "  warnings.warn(msg, category=FutureWarning)\n"
          ]
        },
        {
          "output_type": "execute_result",
          "data": {
            "text/plain": [
              "<sklearn.metrics._plot.confusion_matrix.ConfusionMatrixDisplay at 0x7fcd973835e0>"
            ]
          },
          "metadata": {},
          "execution_count": 47
        },
        {
          "output_type": "display_data",
          "data": {
            "text/plain": [
              "<Figure size 432x288 with 2 Axes>"
            ],
            "image/png": "[encoded data removed]"
          },
          "metadata": {
            "needs_background": "light"
          }
        }
      ]
    },
    {
      "cell_type": "code",
      "source": [
        "f1score=f1_score(y_test,prediction1, average='weighted')\n",
        "print(f1score)"
      ],
      "metadata": {
        "colab": {
          "base_uri": "https://localhost:8080/"
        },
        "outputId": "808a4732-ffdc-476e-bf8a-e339952b4162",
        "id": "FgoqL42gXMVI"
      },
      "execution_count": 48,
      "outputs": [
        {
          "output_type": "stream",
          "name": "stdout",
          "text": [
            "0.9800307522123894\n"
          ]
        }
      ]
    },
    {
      "cell_type": "code",
      "source": [
        "\n",
        "model2 = svm.SVC(kernel='rbf',gamma=\"scale\",C=0.1)\n",
        "model2.fit(X_trainselected, y_train)"
      ],
      "metadata": {
        "colab": {
          "base_uri": "https://localhost:8080/"
        },
        "id": "PAdic-wEgdZh",
        "outputId": "849250c9-d02e-48f1-ad49-90672535d008"
      },
      "execution_count": 67,
      "outputs": [
        {
          "output_type": "execute_result",
          "data": {
            "text/plain": [
              "SVC(C=0.1)"
            ]
          },
          "metadata": {},
          "execution_count": 67
        }
      ]
    },
    {
      "cell_type": "code",
      "source": [
        "prediction2=model2.predict(X_testselected)"
      ],
      "metadata": {
        "id": "idj85jr7REXz"
      },
      "execution_count": 68,
      "outputs": []
    },
    {
      "cell_type": "code",
      "source": [
        "plot_confusion_matrix(model2,X_testselected,y_test)"
      ],
      "metadata": {
        "colab": {
          "base_uri": "https://localhost:8080/",
          "height": 351
        },
        "id": "ahenh_uNgu2w",
        "outputId": "00d8565e-ad4f-415a-d921-c36518fa6684"
      },
      "execution_count": 69,
      "outputs": [
        {
          "output_type": "stream",
          "name": "stderr",
          "text": [
            "/usr/local/lib/python3.8/dist-packages/sklearn/utils/deprecation.py:87: FutureWarning: Function plot_confusion_matrix is deprecated; Function `plot_confusion_matrix` is deprecated in 1.0 and will be removed in 1.2. Use one of the class methods: ConfusionMatrixDisplay.from_predictions or ConfusionMatrixDisplay.from_estimator.\n",
            "  warnings.warn(msg, category=FutureWarning)\n"
          ]
        },
        {
          "output_type": "execute_result",
          "data": {
            "text/plain": [
              "<sklearn.metrics._plot.confusion_matrix.ConfusionMatrixDisplay at 0x7fcd82ba13a0>"
            ]
          },
          "metadata": {},
          "execution_count": 69
        },
        {
          "output_type": "display_data",
          "data": {
            "text/plain": [
              "<Figure size 432x288 with 2 Axes>"
            ],
            "image/png": "[encoded data removed]"
          },
          "metadata": {
            "needs_background": "light"
          }
        }
      ]
    },
    {
      "cell_type": "code",
      "source": [
        "f1score=f1_score(y_test,prediction2, average='weighted')\n",
        "print(f1score)"
      ],
      "metadata": {
        "colab": {
          "base_uri": "https://localhost:8080/"
        },
        "id": "RHYyAYGvQp9C",
        "outputId": "e02de8bb-5a86-486a-955f-a3959b6803db"
      },
      "execution_count": 70,
      "outputs": [
        {
          "output_type": "stream",
          "name": "stdout",
          "text": [
            "0.8855489416263876\n"
          ]
        }
      ]
    },
    {
      "cell_type": "markdown",
      "source": [
        "*for scaled data*"
      ],
      "metadata": {
        "id": "Xlx6_z3YpZAh"
      }
    },
    {
      "cell_type": "code",
      "source": [
        "\n",
        "model3 = svm.SVC(kernel='sigmoid', gamma=0.01,C=4)\n",
        "model3.fit(X_std, y_train)"
      ],
      "metadata": {
        "colab": {
          "base_uri": "https://localhost:8080/"
        },
        "outputId": "a1098d43-d76d-47fb-aafb-f8473b905039",
        "id": "QYQ0rp3RphYl"
      },
      "execution_count": 76,
      "outputs": [
        {
          "output_type": "execute_result",
          "data": {
            "text/plain": [
              "SVC(C=4, gamma=0.01, kernel='sigmoid')"
            ]
          },
          "metadata": {},
          "execution_count": 76
        }
      ]
    },
    {
      "cell_type": "code",
      "source": [
        "prediction3=model3.predict(X_stsd)"
      ],
      "metadata": {
        "id": "1OJJSyrAphYm"
      },
      "execution_count": 78,
      "outputs": []
    },
    {
      "cell_type": "code",
      "source": [
        "plot_confusion_matrix(model3,X_stsd,y_test)"
      ],
      "metadata": {
        "colab": {
          "base_uri": "https://localhost:8080/",
          "height": 351
        },
        "outputId": "82a3049e-2d6d-4e0f-c4f7-aa45ddc0eb48",
        "id": "MyjtgaqMphYm"
      },
      "execution_count": 80,
      "outputs": [
        {
          "output_type": "stream",
          "name": "stderr",
          "text": [
            "/usr/local/lib/python3.8/dist-packages/sklearn/utils/deprecation.py:87: FutureWarning: Function plot_confusion_matrix is deprecated; Function `plot_confusion_matrix` is deprecated in 1.0 and will be removed in 1.2. Use one of the class methods: ConfusionMatrixDisplay.from_predictions or ConfusionMatrixDisplay.from_estimator.\n",
            "  warnings.warn(msg, category=FutureWarning)\n"
          ]
        },
        {
          "output_type": "execute_result",
          "data": {
            "text/plain": [
              "<sklearn.metrics._plot.confusion_matrix.ConfusionMatrixDisplay at 0x7fcd81f7d400>"
            ]
          },
          "metadata": {},
          "execution_count": 80
        },
        {
          "output_type": "display_data",
          "data": {
            "text/plain": [
              "<Figure size 432x288 with 2 Axes>"
            ],
            "image/png": "[encoded data removed]"
          },
          "metadata": {
            "needs_background": "light"
          }
        }
      ]
    },
    {
      "cell_type": "code",
      "source": [
        "f1score=f1_score(y_test,prediction3, average='weighted')\n",
        "print(f1score)"
      ],
      "metadata": {
        "colab": {
          "base_uri": "https://localhost:8080/"
        },
        "outputId": "3e9920e7-91fb-402d-a230-08e06fbb72c8",
        "id": "EEEPLWSKphYm"
      },
      "execution_count": 81,
      "outputs": [
        {
          "output_type": "stream",
          "name": "stdout",
          "text": [
            "0.9349533958887535\n"
          ]
        }
      ]
    },
    {
      "cell_type": "markdown",
      "metadata": {
        "id": "xZcrFewxEebl"
      },
      "source": [
        "# Descussing the results"
      ]
    },
    {
      "cell_type": "markdown",
      "metadata": {
        "id": "d6JoCqshEZ4e"
      },
      "source": [
        "The model generally performed better after hyperparamter tuning which is to be expected. The unexpected thing was that the data which was processed by finding combinations of two features and selecting k best didn't perform as well as the model with all of the original features and this can be explained by the fact that svm algorithim already works by finding relations between sets of features and eliminating the original features and replacing them with combinations of 2 while it worked for ID3 (which doesn't process how features relate to each other and needs such a preprocessing ) will only be eliminating valid combinations that svm can detect. The fact that linear svm performed so well further validates the assumption that in this dataset the combination of several features has more to tell us about the price range of a mobile than the  individual features."
      ]
    }
  ],
  "metadata": {
    "colab": {
      "provenance": [],
      "collapsed_sections": [
        "bvdgKvQfeqkL",
        "7tUfAdErt6Ro",
        "ieP23AAPD45q"
      ]
    },
    "kernelspec": {
      "display_name": "Python 3",
      "name": "python3"
    },
    "language_info": {
      "name": "python"
    }
  },
  "nbformat": 4,
  "nbformat_minor": 0
}