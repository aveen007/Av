{
  "nbformat": 4,
  "nbformat_minor": 0,
  "metadata": {
    "colab": {
      "provenance": [],
      "mount_file_id": "1rc8NLCHxxfA6kjv31RCD-Fd-zNZMBx7h",
      "authorship_tag": "ABX9TyMIGBpPJRpuU8jS1jNvsqj1",
      "include_colab_link": true
    },
    "kernelspec": {
      "name": "python3",
      "display_name": "Python 3"
    },
    "language_info": {
      "name": "python"
    },
    "accelerator": "GPU",
    "gpuClass": "standard"
  },
  "cells": [
    {
      "cell_type": "markdown",
      "metadata": {
        "id": "view-in-github",
        "colab_type": "text"
      },
      "source": [
        "<a href=\"https://colab.research.google.com/github/aveen007/Av/blob/main/recommender.ipynb\" target=\"_parent\"><img src=\"https://colab.research.google.com/assets/colab-badge.svg\" alt=\"Open In Colab\"/></a>"
      ]
    },
    {
      "cell_type": "markdown",
      "source": [
        "# 1.Clustering the text data into groups in order to recommend similar content within the same cluster"
      ],
      "metadata": {
        "id": "iF4ogHAM34B6"
      }
    },
    {
      "cell_type": "markdown",
      "source": [
        "## 1.1 Installing and importing the packages"
      ],
      "metadata": {
        "id": "kcJOITMb5gdq"
      }
    },
    {
      "cell_type": "code",
      "source": [
        "!pip install stanza\n",
        "!pip install unrar\n",
        "!pip install fasttext\n",
        "!pip install nltk"
      ],
      "metadata": {
        "colab": {
          "base_uri": "https://localhost:8080/"
        },
        "id": "yLJBNr8csEdK",
        "outputId": "670921cb-c79e-4f7e-8928-270165b381a0"
      },
      "execution_count": null,
      "outputs": [
        {
          "output_type": "stream",
          "name": "stdout",
          "text": [
            "Looking in indexes: https://pypi.org/simple, https://us-python.pkg.dev/colab-wheels/public/simple/\n",
            "Collecting stanza\n",
            "  Downloading stanza-1.4.2-py3-none-any.whl (691 kB)\n",
            "\u001b[2K     \u001b[90m━━━━━━━━━━━━━━━━━━━━━━━━━━━━━━━━━━━━━━\u001b[0m \u001b[32m691.3/691.3 KB\u001b[0m \u001b[31m10.4 MB/s\u001b[0m eta \u001b[36m0:00:00\u001b[0m\n",
            "\u001b[?25hRequirement already satisfied: torch>=1.3.0 in /usr/local/lib/python3.8/dist-packages (from stanza) (1.13.0+cu116)\n",
            "Collecting emoji\n",
            "  Downloading emoji-2.2.0.tar.gz (240 kB)\n",
            "\u001b[2K     \u001b[90m━━━━━━━━━━━━━━━━━━━━━━━━━━━━━━━━━━━━━━\u001b[0m \u001b[32m240.9/240.9 KB\u001b[0m \u001b[31m14.3 MB/s\u001b[0m eta \u001b[36m0:00:00\u001b[0m\n",
            "\u001b[?25h  Preparing metadata (setup.py) ... \u001b[?25l\u001b[?25hdone\n",
            "Requirement already satisfied: requests in /usr/local/lib/python3.8/dist-packages (from stanza) (2.25.1)\n",
            "Requirement already satisfied: tqdm in /usr/local/lib/python3.8/dist-packages (from stanza) (4.64.1)\n",
            "Requirement already satisfied: six in /usr/local/lib/python3.8/dist-packages (from stanza) (1.15.0)\n",
            "Requirement already satisfied: protobuf in /usr/local/lib/python3.8/dist-packages (from stanza) (3.19.6)\n",
            "Requirement already satisfied: numpy in /usr/local/lib/python3.8/dist-packages (from stanza) (1.21.6)\n",
            "Requirement already satisfied: typing-extensions in /usr/local/lib/python3.8/dist-packages (from torch>=1.3.0->stanza) (4.4.0)\n",
            "Requirement already satisfied: chardet<5,>=3.0.2 in /usr/local/lib/python3.8/dist-packages (from requests->stanza) (4.0.0)\n",
            "Requirement already satisfied: idna<3,>=2.5 in /usr/local/lib/python3.8/dist-packages (from requests->stanza) (2.10)\n",
            "Requirement already satisfied: urllib3<1.27,>=1.21.1 in /usr/local/lib/python3.8/dist-packages (from requests->stanza) (1.24.3)\n",
            "Requirement already satisfied: certifi>=2017.4.17 in /usr/local/lib/python3.8/dist-packages (from requests->stanza) (2022.12.7)\n",
            "Building wheels for collected packages: emoji\n",
            "  Building wheel for emoji (setup.py) ... \u001b[?25l\u001b[?25hdone\n",
            "  Created wheel for emoji: filename=emoji-2.2.0-py3-none-any.whl size=234926 sha256=ea262d2d650403e14c6c8f8fb8e6126a328ea473555325ddd02c5e87668736e0\n",
            "  Stored in directory: /root/.cache/pip/wheels/86/62/9e/a6b27a681abcde69970dbc0326ff51955f3beac72f15696984\n",
            "Successfully built emoji\n",
            "Installing collected packages: emoji, stanza\n",
            "Successfully installed emoji-2.2.0 stanza-1.4.2\n",
            "Looking in indexes: https://pypi.org/simple, https://us-python.pkg.dev/colab-wheels/public/simple/\n",
            "Collecting unrar\n",
            "  Downloading unrar-0.4-py3-none-any.whl (25 kB)\n",
            "Installing collected packages: unrar\n",
            "Successfully installed unrar-0.4\n",
            "Looking in indexes: https://pypi.org/simple, https://us-python.pkg.dev/colab-wheels/public/simple/\n",
            "Collecting fasttext\n",
            "  Downloading fasttext-0.9.2.tar.gz (68 kB)\n",
            "\u001b[2K     \u001b[90m━━━━━━━━━━━━━━━━━━━━━━━━━━━━━━━━━━━━━━━━\u001b[0m \u001b[32m68.8/68.8 KB\u001b[0m \u001b[31m3.4 MB/s\u001b[0m eta \u001b[36m0:00:00\u001b[0m\n",
            "\u001b[?25h  Preparing metadata (setup.py) ... \u001b[?25l\u001b[?25hdone\n",
            "Collecting pybind11>=2.2\n",
            "  Using cached pybind11-2.10.3-py3-none-any.whl (222 kB)\n",
            "Requirement already satisfied: setuptools>=0.7.0 in /usr/local/lib/python3.8/dist-packages (from fasttext) (57.4.0)\n",
            "Requirement already satisfied: numpy in /usr/local/lib/python3.8/dist-packages (from fasttext) (1.21.6)\n",
            "Building wheels for collected packages: fasttext\n",
            "  Building wheel for fasttext (setup.py) ... \u001b[?25l\u001b[?25hdone\n",
            "  Created wheel for fasttext: filename=fasttext-0.9.2-cp38-cp38-linux_x86_64.whl size=3129692 sha256=5406b81f90259de210f9bc56198b2f61c4194fe90e7909e2458e7eeccf3fe576\n",
            "  Stored in directory: /root/.cache/pip/wheels/93/61/2a/c54711a91c418ba06ba195b1d78ff24fcaad8592f2a694ac94\n",
            "Successfully built fasttext\n",
            "Installing collected packages: pybind11, fasttext\n",
            "Successfully installed fasttext-0.9.2 pybind11-2.10.3\n",
            "Looking in indexes: https://pypi.org/simple, https://us-python.pkg.dev/colab-wheels/public/simple/\n",
            "Requirement already satisfied: nltk in /usr/local/lib/python3.8/dist-packages (3.7)\n",
            "Requirement already satisfied: tqdm in /usr/local/lib/python3.8/dist-packages (from nltk) (4.64.1)\n",
            "Requirement already satisfied: joblib in /usr/local/lib/python3.8/dist-packages (from nltk) (1.2.0)\n",
            "Requirement already satisfied: click in /usr/local/lib/python3.8/dist-packages (from nltk) (7.1.2)\n",
            "Requirement already satisfied: regex>=2021.8.3 in /usr/local/lib/python3.8/dist-packages (from nltk) (2022.6.2)\n"
          ]
        }
      ]
    },
    {
      "cell_type": "code",
      "source": [
        "import nltk\n",
        "import pandas as pd\n",
        "import numpy as np\n",
        "import sys\n",
        "import os\n",
        "import stanza\n",
        "import math\n",
        "import fasttext\n",
        "import re\n",
        "\n",
        "from nltk import ngrams\n",
        "from nltk.tokenize import sent_tokenize, word_tokenize , PunktSentenceTokenizer\n",
        "from nltk.corpus import stopwords\n",
        "from string import punctuation\n",
        "from sklearn.feature_extraction.text import TfidfVectorizer\n",
        "\n",
        "from tqdm.notebook import tqdm\n",
        "\n",
        "import torch\n",
        "import torch.nn as nn\n",
        "from torch.utils.data import Dataset, DataLoader\n"
      ],
      "metadata": {
        "id": "ffD_zZ4ir4AG"
      },
      "execution_count": null,
      "outputs": []
    },
    {
      "cell_type": "code",
      "source": [
        "nltk.download('stopwords')\n",
        "nltk.download('punkt')"
      ],
      "metadata": {
        "colab": {
          "base_uri": "https://localhost:8080/"
        },
        "id": "pH8ozjXBs-cy",
        "outputId": "fa9a0d34-0171-4ffe-fae7-a25b60ce8468"
      },
      "execution_count": null,
      "outputs": [
        {
          "output_type": "stream",
          "name": "stderr",
          "text": [
            "[nltk_data] Downloading package stopwords to /root/nltk_data...\n",
            "[nltk_data]   Unzipping corpora/stopwords.zip.\n",
            "[nltk_data] Downloading package punkt to /root/nltk_data...\n",
            "[nltk_data]   Unzipping tokenizers/punkt.zip.\n"
          ]
        },
        {
          "output_type": "execute_result",
          "data": {
            "text/plain": [
              "True"
            ]
          },
          "metadata": {},
          "execution_count": 3
        }
      ]
    },
    {
      "cell_type": "markdown",
      "source": [
        "## 1.2 General understanding of the data set"
      ],
      "metadata": {
        "id": "ScfvF-665yDd"
      }
    },
    {
      "cell_type": "code",
      "execution_count": null,
      "metadata": {
        "colab": {
          "base_uri": "https://localhost:8080/"
        },
        "id": "ksmY6ArmI_Lx",
        "outputId": "fc49f58f-e6a5-4b10-b2cd-0bc2e8d7c3b2"
      },
      "outputs": [
        {
          "output_type": "stream",
          "name": "stdout",
          "text": [
            "(3122, 13)\n",
            "(72312, 8)\n"
          ]
        }
      ],
      "source": [
        "content_data = pd.read_csv(\"/content/drive/MyDrive/Copy of articles_being_share.csv\")\n",
        "user_data = pd.read_csv('/content/drive/MyDrive/Copy of user_interaction.csv')\n",
        "print(content_data.shape)\n",
        "print(user_data.shape)"
      ]
    },
    {
      "cell_type": "code",
      "source": [
        "print (len(content_data['authorPersonId'].unique()))\n",
        "print(content_data['contentType'].unique())\n",
        "print(content_data['eventType'].unique())\n",
        "print(content_data['lang'].unique())\n",
        "print(content_data['authorCountry'].unique())\n",
        "print(content_data['authorRegion'].unique())\n",
        "print(len(content_data['authorUserAgent'].unique()))"
      ],
      "metadata": {
        "colab": {
          "base_uri": "https://localhost:8080/"
        },
        "id": "EJb3srI2PNsn",
        "outputId": "33344387-a22b-40da-cd77-d3f7997683f5"
      },
      "execution_count": null,
      "outputs": [
        {
          "output_type": "stream",
          "name": "stdout",
          "text": [
            "252\n",
            "['HTML' 'RICH' 'VIDEO']\n",
            "['CONTENT REMOVED' 'CONTENT SHARED']\n",
            "['en' 'pt' 'es' 'la' 'ja']\n",
            "[nan 'BR' 'CA' 'US' 'AU' 'PT']\n",
            "[nan 'MG' 'ON' 'SP' 'GA' 'NY' 'IL' 'NSW' 'RI' 'NJ' 'RJ' 'TX' 'AB' 'FL'\n",
            " '13' 'WA' '?' 'CA' 'SC' 'MS']\n",
            "115\n"
          ]
        }
      ]
    },
    {
      "cell_type": "markdown",
      "source": [
        "we can see that the content data can be categorized into groups easily because the number of unique values for each feature is much smaller than the actual size of the dataset."
      ],
      "metadata": {
        "id": "7hK7X7U96hHj"
      }
    },
    {
      "cell_type": "code",
      "source": [
        "print (user_data['eventType'].unique())\n",
        "print (len(user_data['personId'].unique()))\n",
        "print (len(user_data['userCountry'].unique()))\n",
        "print (len(user_data['userRegion'].unique()))\n",
        "print (len(user_data['userAgent'].unique()))"
      ],
      "metadata": {
        "colab": {
          "base_uri": "https://localhost:8080/"
        },
        "id": "7iJuQzc4QY3J",
        "outputId": "378acf10-b869-43ab-b0a9-753b7317bf43"
      },
      "execution_count": null,
      "outputs": [
        {
          "output_type": "stream",
          "name": "stdout",
          "text": [
            "['VIEW' 'FOLLOW' 'BOOKMARK' 'LIKE' 'COMMENT CREATED']\n",
            "1895\n",
            "24\n",
            "72\n",
            "1091\n"
          ]
        }
      ]
    },
    {
      "cell_type": "markdown",
      "source": [
        "we can see that  the events are in 6 main types, which can help us in recommending the most suitable content for a specific user based on the type of the content they have already seen. Taken in consideration that some reaction types reflect more interest in the content e.g. a user who has liked an article is likely more interested in that article than an article he only viewed."
      ],
      "metadata": {
        "id": "4hmb3XKQ67pZ"
      }
    },
    {
      "cell_type": "code",
      "source": [
        "print(content_data.info)\n"
      ],
      "metadata": {
        "colab": {
          "base_uri": "https://localhost:8080/"
        },
        "id": "M0bsrKbUq0fD",
        "outputId": "77bca8e0-3a1b-416b-9556-8bc507750960"
      },
      "execution_count": null,
      "outputs": [
        {
          "output_type": "stream",
          "name": "stdout",
          "text": [
            "<bound method DataFrame.info of        timestamp        eventType            contentId       authorPersonId  \\\n",
            "0     1459192779  CONTENT REMOVED -6451309518266745024  4340306774493623681   \n",
            "1     1459193988   CONTENT SHARED -4110354420726924665  4340306774493623681   \n",
            "2     1459194146   CONTENT SHARED -7292285110016212249  4340306774493623681   \n",
            "3     1459194474   CONTENT SHARED -6151852268067518688  3891637997717104548   \n",
            "4     1459194497   CONTENT SHARED  2448026894306402386  4340306774493623681   \n",
            "...          ...              ...                  ...                  ...   \n",
            "3117  1487946604   CONTENT SHARED  9213260650272029784  3609194402293569455   \n",
            "3118  1487947067   CONTENT SHARED -3295913657316686039  6960073744377754728   \n",
            "3119  1488223224   CONTENT SHARED  3618271604906293310  1908339160857512799   \n",
            "3120  1488300719   CONTENT SHARED  6607431762270322325 -1393866732742189886   \n",
            "3121  1488307871   CONTENT SHARED  4109618890343020064  3891637997717104548   \n",
            "\n",
            "          authorSessionId                                    authorUserAgent  \\\n",
            "0     8940341205206233829                                                NaN   \n",
            "1     8940341205206233829                                                NaN   \n",
            "2     8940341205206233829                                                NaN   \n",
            "3    -1457532940883382585                                                NaN   \n",
            "4     8940341205206233829                                                NaN   \n",
            "...                   ...                                                ...   \n",
            "3117  7144190892417579456  Mozilla/5.0 (Windows NT 10.0; WOW64) AppleWebK...   \n",
            "3118 -8193630595542572738  Mozilla/5.0 (Macintosh; Intel Mac OS X 10_12_3...   \n",
            "3119  -183341653743161643  Mozilla/5.0 (Macintosh; Intel Mac OS X 10_12_0...   \n",
            "3120  2367029511384577082  Mozilla/5.0 (X11; Linux x86_64) AppleWebKit/53...   \n",
            "3121 -7416795577834806518  Mozilla/5.0 (X11; Linux x86_64) AppleWebKit/53...   \n",
            "\n",
            "     authorRegion authorCountry contentType  \\\n",
            "0             NaN           NaN        HTML   \n",
            "1             NaN           NaN        HTML   \n",
            "2             NaN           NaN        HTML   \n",
            "3             NaN           NaN        HTML   \n",
            "4             NaN           NaN        HTML   \n",
            "...           ...           ...         ...   \n",
            "3117           SP            BR        HTML   \n",
            "3118           GA            US        HTML   \n",
            "3119           SP            BR        HTML   \n",
            "3120           MG            BR        HTML   \n",
            "3121           SP            BR        HTML   \n",
            "\n",
            "                                                    url  \\\n",
            "0     http://www.nytimes.com/2016/03/28/business/dea...   \n",
            "1     http://www.nytimes.com/2016/03/28/business/dea...   \n",
            "2     http://cointelegraph.com/news/bitcoin-future-w...   \n",
            "3     https://cloudplatform.googleblog.com/2016/03/G...   \n",
            "4     https://bitcoinmagazine.com/articles/ibm-wants...   \n",
            "...                                                 ...   \n",
            "3117  https://startupi.com.br/2017/02/liga-ventures-...   \n",
            "3118  https://thenextweb.com/apps/2017/02/14/amazon-...   \n",
            "3119                        https://code.org/about/2016   \n",
            "3120  https://www.bloomberg.com/news/articles/2017-0...   \n",
            "3121  https://www.acquia.com/blog/partner/2017-acqui...   \n",
            "\n",
            "                                                  title  \\\n",
            "0     Ethereum, a Virtual Currency, Enables Transact...   \n",
            "1     Ethereum, a Virtual Currency, Enables Transact...   \n",
            "2     Bitcoin Future: When GBPcoin of Branson Wins O...   \n",
            "3                          Google Data Center 360° Tour   \n",
            "4     IBM Wants to \"Evolve the Internet\" With Blockc...   \n",
            "...                                                 ...   \n",
            "3117  Conheça a Liga IoT, plataforma de inovação abe...   \n",
            "3118  Amazon takes on Skype and GoToMeeting with its...   \n",
            "3119                        Code.org 2016 Annual Report   \n",
            "3120  JPMorgan Software Does in Seconds What Took La...   \n",
            "3121               The 2017 Acquia Partners of the Year   \n",
            "\n",
            "                                                   text lang  \n",
            "0     All of this work is still very early. The firs...   en  \n",
            "1     All of this work is still very early. The firs...   en  \n",
            "2     The alarm clock wakes me at 8:00 with stream o...   en  \n",
            "3     We're excited to share the Google Data Center ...   en  \n",
            "4     The Aite Group projects the blockchain market ...   en  \n",
            "...                                                 ...  ...  \n",
            "3117  A Liga Ventures, aceleradora de startups espec...   pt  \n",
            "3118  Amazon has launched Chime, a video conferencin...   en  \n",
            "3119  February 9, 2017 - We begin each year with a l...   en  \n",
            "3120  At JPMorgan Chase & Co., a learning machine is...   en  \n",
            "3121  The Acquia Partner Awards Program is comprised...   en  \n",
            "\n",
            "[3122 rows x 13 columns]>\n"
          ]
        }
      ]
    },
    {
      "cell_type": "code",
      "source": [
        "print(user_data.info)"
      ],
      "metadata": {
        "colab": {
          "base_uri": "https://localhost:8080/"
        },
        "id": "AoPjj2SvthFX",
        "outputId": "639c9719-e2f9-4f74-b06e-059f05cc117f"
      },
      "execution_count": null,
      "outputs": [
        {
          "output_type": "stream",
          "name": "stdout",
          "text": [
            "<bound method DataFrame.info of         timestamp eventType            contentId             personId  \\\n",
            "0      1465413032      VIEW -3499919498720038879 -8845298781299428018   \n",
            "1      1465412560      VIEW  8890720798209849691 -1032019229384696495   \n",
            "2      1465416190      VIEW   310515487419366995 -1130272294246983140   \n",
            "3      1465413895    FOLLOW   310515487419366995   344280948527967603   \n",
            "4      1465412290      VIEW -7820640624231356730  -445337111692715325   \n",
            "...           ...       ...                  ...                  ...   \n",
            "72307  1485190425      LIKE -6590819806697898649 -9016528795238256703   \n",
            "72308  1485190425      VIEW -5813211845057621660   102305705598210278   \n",
            "72309  1485190072      VIEW -1999468346928419252 -9196668942822132778   \n",
            "72310  1485190434      VIEW -6590819806697898649 -9016528795238256703   \n",
            "72311  1485187988      VIEW  5669290109546991426  5713241217519616260   \n",
            "\n",
            "                 sessionId                                          userAgent  \\\n",
            "0      1264196770339959068                                                NaN   \n",
            "1      3621737643587579081  Mozilla/5.0 (Macintosh; Intel Mac OS X 10_11_2...   \n",
            "2      2631864456530402479                                                NaN   \n",
            "3     -3167637573980064150                                                NaN   \n",
            "4      5611481178424124714                                                NaN   \n",
            "...                    ...                                                ...   \n",
            "72307  8614469745607949425  Mozilla/5.0 (Macintosh; Intel Mac OS X 10_11_4...   \n",
            "72308  5527770709392883642  Mozilla/5.0 (X11; Linux x86_64) AppleWebKit/53...   \n",
            "72309 -8300596454915870873  Mozilla/5.0 (Windows NT 10.0; Win64; x64) Appl...   \n",
            "72310  8614469745607949425  Mozilla/5.0 (Macintosh; Intel Mac OS X 10_11_4...   \n",
            "72311  6704552481483665372  Mozilla/5.0 (Windows NT 10.0; WOW64) AppleWebK...   \n",
            "\n",
            "      userRegion userCountry  \n",
            "0            NaN         NaN  \n",
            "1             NY          US  \n",
            "2            NaN         NaN  \n",
            "3            NaN         NaN  \n",
            "4            NaN         NaN  \n",
            "...          ...         ...  \n",
            "72307         MG          BR  \n",
            "72308         SP          BR  \n",
            "72309         SP          BR  \n",
            "72310         MG          BR  \n",
            "72311         MG          BR  \n",
            "\n",
            "[72312 rows x 8 columns]>\n"
          ]
        }
      ]
    },
    {
      "cell_type": "markdown",
      "source": [
        "## 1.3 Building the vector space model"
      ],
      "metadata": {
        "id": "_yReC_2X1nRL"
      }
    },
    {
      "cell_type": "markdown",
      "source": [
        "we attempt to measure the similarity between each two texts of the content data by using tfidf vectorizer to get the tfidf score for the words in each of the texts and then use cosine similarity to measure the similarity between each two texts based on the resulting tfidf matrix."
      ],
      "metadata": {
        "id": "ggADXCQ978R0"
      }
    },
    {
      "cell_type": "code",
      "source": [
        "tfidf=TfidfVectorizer(stop_words='english')"
      ],
      "metadata": {
        "id": "0FPJWJ14V4qN"
      },
      "execution_count": null,
      "outputs": []
    },
    {
      "cell_type": "code",
      "source": [
        "content_data['text']=content_data['text'].fillna(\"\")"
      ],
      "metadata": {
        "id": "tzQ8dsWS4phI"
      },
      "execution_count": null,
      "outputs": []
    },
    {
      "cell_type": "markdown",
      "source": [
        "we encode the non string features into numeric categories, for the clustering step"
      ],
      "metadata": {
        "id": "HsHWcaWt8g5Q"
      }
    },
    {
      "cell_type": "code",
      "source": [
        "from sklearn.preprocessing import LabelEncoder\n",
        "le_eventType=LabelEncoder()\n",
        "le_authorUserAgent=LabelEncoder()\n",
        "le_authorRegion=LabelEncoder()\n",
        "le_authorCountry=LabelEncoder()\n",
        "le_contentType=LabelEncoder()\n",
        "le_lang=LabelEncoder()\n",
        "\n",
        "\n",
        "\n",
        "content_data['eventType']=le_eventType.fit_transform(content_data['eventType'])\n",
        "content_data['authorUserAgent']=le_authorUserAgent.fit_transform(content_data['authorUserAgent'])\n",
        "content_data['authorRegion']=le_authorRegion.fit_transform(content_data['authorRegion'])\n",
        "content_data['authorCountry']=le_authorCountry.fit_transform(content_data['authorCountry'])\n",
        "content_data['contentType']=le_contentType.fit_transform(content_data['contentType'])\n",
        "content_data['lang']=le_lang.fit_transform(content_data['lang'])\n"
      ],
      "metadata": {
        "id": "OljQzmQr3izC"
      },
      "execution_count": null,
      "outputs": []
    },
    {
      "cell_type": "code",
      "source": [
        "content_data.info()\n",
        "content_data.head()\n"
      ],
      "metadata": {
        "colab": {
          "base_uri": "https://localhost:8080/",
          "height": 1000
        },
        "id": "qHq8Y7rJ5t5J",
        "outputId": "0a73fab8-6c6d-4a3b-8a55-d66dc59ef533"
      },
      "execution_count": null,
      "outputs": [
        {
          "output_type": "stream",
          "name": "stdout",
          "text": [
            "<class 'pandas.core.frame.DataFrame'>\n",
            "RangeIndex: 3122 entries, 0 to 3121\n",
            "Data columns (total 13 columns):\n",
            " #   Column           Non-Null Count  Dtype \n",
            "---  ------           --------------  ----- \n",
            " 0   timestamp        3122 non-null   int64 \n",
            " 1   eventType        3122 non-null   int64 \n",
            " 2   contentId        3122 non-null   int64 \n",
            " 3   authorPersonId   3122 non-null   int64 \n",
            " 4   authorSessionId  3122 non-null   int64 \n",
            " 5   authorUserAgent  3122 non-null   int64 \n",
            " 6   authorRegion     3122 non-null   int64 \n",
            " 7   authorCountry    3122 non-null   int64 \n",
            " 8   contentType      3122 non-null   int64 \n",
            " 9   url              3122 non-null   object\n",
            " 10  title            3122 non-null   object\n",
            " 11  text             3122 non-null   object\n",
            " 12  lang             3122 non-null   int64 \n",
            "dtypes: int64(10), object(3)\n",
            "memory usage: 317.2+ KB\n"
          ]
        },
        {
          "output_type": "execute_result",
          "data": {
            "text/plain": [
              "    timestamp  eventType            contentId       authorPersonId  \\\n",
              "0  1459192779          0 -6451309518266745024  4340306774493623681   \n",
              "1  1459193988          1 -4110354420726924665  4340306774493623681   \n",
              "2  1459194146          1 -7292285110016212249  4340306774493623681   \n",
              "3  1459194474          1 -6151852268067518688  3891637997717104548   \n",
              "4  1459194497          1  2448026894306402386  4340306774493623681   \n",
              "\n",
              "       authorSessionId  authorUserAgent  authorRegion  authorCountry  \\\n",
              "0  8940341205206233829              114            19              5   \n",
              "1  8940341205206233829              114            19              5   \n",
              "2  8940341205206233829              114            19              5   \n",
              "3 -1457532940883382585              114            19              5   \n",
              "4  8940341205206233829              114            19              5   \n",
              "\n",
              "   contentType                                                url  \\\n",
              "0            0  http://www.nytimes.com/2016/03/28/business/dea...   \n",
              "1            0  http://www.nytimes.com/2016/03/28/business/dea...   \n",
              "2            0  http://cointelegraph.com/news/bitcoin-future-w...   \n",
              "3            0  https://cloudplatform.googleblog.com/2016/03/G...   \n",
              "4            0  https://bitcoinmagazine.com/articles/ibm-wants...   \n",
              "\n",
              "                                               title  \\\n",
              "0  Ethereum, a Virtual Currency, Enables Transact...   \n",
              "1  Ethereum, a Virtual Currency, Enables Transact...   \n",
              "2  Bitcoin Future: When GBPcoin of Branson Wins O...   \n",
              "3                       Google Data Center 360° Tour   \n",
              "4  IBM Wants to \"Evolve the Internet\" With Blockc...   \n",
              "\n",
              "                                                text  lang  \n",
              "0  All of this work is still very early. The firs...     0  \n",
              "1  All of this work is still very early. The firs...     0  \n",
              "2  The alarm clock wakes me at 8:00 with stream o...     0  \n",
              "3  We're excited to share the Google Data Center ...     0  \n",
              "4  The Aite Group projects the blockchain market ...     0  "
            ],
            "text/html": [
              "\n",
              "  <div id=\"df-5c5a766a-d968-4a6a-8163-38dd7f39b4de\">\n",
              "    <div class=\"colab-df-container\">\n",
              "      <div>\n",
              "<style scoped>\n",
              "    .dataframe tbody tr th:only-of-type {\n",
              "        vertical-align: middle;\n",
              "    }\n",
              "\n",
              "    .dataframe tbody tr th {\n",
              "        vertical-align: top;\n",
              "    }\n",
              "\n",
              "    .dataframe thead th {\n",
              "        text-align: right;\n",
              "    }\n",
              "</style>\n",
              "<table border=\"1\" class=\"dataframe\">\n",
              "  <thead>\n",
              "    <tr style=\"text-align: right;\">\n",
              "      <th></th>\n",
              "      <th>timestamp</th>\n",
              "      <th>eventType</th>\n",
              "      <th>contentId</th>\n",
              "      <th>authorPersonId</th>\n",
              "      <th>authorSessionId</th>\n",
              "      <th>authorUserAgent</th>\n",
              "      <th>authorRegion</th>\n",
              "      <th>authorCountry</th>\n",
              "      <th>contentType</th>\n",
              "      <th>url</th>\n",
              "      <th>title</th>\n",
              "      <th>text</th>\n",
              "      <th>lang</th>\n",
              "    </tr>\n",
              "  </thead>\n",
              "  <tbody>\n",
              "    <tr>\n",
              "      <th>0</th>\n",
              "      <td>1459192779</td>\n",
              "      <td>0</td>\n",
              "      <td>-6451309518266745024</td>\n",
              "      <td>4340306774493623681</td>\n",
              "      <td>8940341205206233829</td>\n",
              "      <td>114</td>\n",
              "      <td>19</td>\n",
              "      <td>5</td>\n",
              "      <td>0</td>\n",
              "      <td>http://www.nytimes.com/2016/03/28/business/dea...</td>\n",
              "      <td>Ethereum, a Virtual Currency, Enables Transact...</td>\n",
              "      <td>All of this work is still very early. The firs...</td>\n",
              "      <td>0</td>\n",
              "    </tr>\n",
              "    <tr>\n",
              "      <th>1</th>\n",
              "      <td>1459193988</td>\n",
              "      <td>1</td>\n",
              "      <td>-4110354420726924665</td>\n",
              "      <td>4340306774493623681</td>\n",
              "      <td>8940341205206233829</td>\n",
              "      <td>114</td>\n",
              "      <td>19</td>\n",
              "      <td>5</td>\n",
              "      <td>0</td>\n",
              "      <td>http://www.nytimes.com/2016/03/28/business/dea...</td>\n",
              "      <td>Ethereum, a Virtual Currency, Enables Transact...</td>\n",
              "      <td>All of this work is still very early. The firs...</td>\n",
              "      <td>0</td>\n",
              "    </tr>\n",
              "    <tr>\n",
              "      <th>2</th>\n",
              "      <td>1459194146</td>\n",
              "      <td>1</td>\n",
              "      <td>-7292285110016212249</td>\n",
              "      <td>4340306774493623681</td>\n",
              "      <td>8940341205206233829</td>\n",
              "      <td>114</td>\n",
              "      <td>19</td>\n",
              "      <td>5</td>\n",
              "      <td>0</td>\n",
              "      <td>http://cointelegraph.com/news/bitcoin-future-w...</td>\n",
              "      <td>Bitcoin Future: When GBPcoin of Branson Wins O...</td>\n",
              "      <td>The alarm clock wakes me at 8:00 with stream o...</td>\n",
              "      <td>0</td>\n",
              "    </tr>\n",
              "    <tr>\n",
              "      <th>3</th>\n",
              "      <td>1459194474</td>\n",
              "      <td>1</td>\n",
              "      <td>-6151852268067518688</td>\n",
              "      <td>3891637997717104548</td>\n",
              "      <td>-1457532940883382585</td>\n",
              "      <td>114</td>\n",
              "      <td>19</td>\n",
              "      <td>5</td>\n",
              "      <td>0</td>\n",
              "      <td>https://cloudplatform.googleblog.com/2016/03/G...</td>\n",
              "      <td>Google Data Center 360° Tour</td>\n",
              "      <td>We're excited to share the Google Data Center ...</td>\n",
              "      <td>0</td>\n",
              "    </tr>\n",
              "    <tr>\n",
              "      <th>4</th>\n",
              "      <td>1459194497</td>\n",
              "      <td>1</td>\n",
              "      <td>2448026894306402386</td>\n",
              "      <td>4340306774493623681</td>\n",
              "      <td>8940341205206233829</td>\n",
              "      <td>114</td>\n",
              "      <td>19</td>\n",
              "      <td>5</td>\n",
              "      <td>0</td>\n",
              "      <td>https://bitcoinmagazine.com/articles/ibm-wants...</td>\n",
              "      <td>IBM Wants to \"Evolve the Internet\" With Blockc...</td>\n",
              "      <td>The Aite Group projects the blockchain market ...</td>\n",
              "      <td>0</td>\n",
              "    </tr>\n",
              "  </tbody>\n",
              "</table>\n",
              "</div>\n",
              "      <button class=\"colab-df-convert\" onclick=\"convertToInteractive('df-5c5a766a-d968-4a6a-8163-38dd7f39b4de')\"\n",
              "              title=\"Convert this dataframe to an interactive table.\"\n",
              "              style=\"display:none;\">\n",
              "        \n",
              "  <svg xmlns=\"http://www.w3.org/2000/svg\" height=\"24px\"viewBox=\"0 0 24 24\"\n",
              "       width=\"24px\">\n",
              "    <path d=\"M0 0h24v24H0V0z\" fill=\"none\"/>\n",
              "    <path d=\"M18.56 5.44l.94 2.06.94-2.06 2.06-.94-2.06-.94-.94-2.06-.94 2.06-2.06.94zm-11 1L8.5 8.5l.94-2.06 2.06-.94-2.06-.94L8.5 2.5l-.94 2.06-2.06.94zm10 10l.94 2.06.94-2.06 2.06-.94-2.06-.94-.94-2.06-.94 2.06-2.06.94z\"/><path d=\"M17.41 7.96l-1.37-1.37c-.4-.4-.92-.59-1.43-.59-.52 0-1.04.2-1.43.59L10.3 9.45l-7.72 7.72c-.78.78-.78 2.05 0 2.83L4 21.41c.39.39.9.59 1.41.59.51 0 1.02-.2 1.41-.59l7.78-7.78 2.81-2.81c.8-.78.8-2.07 0-2.86zM5.41 20L4 18.59l7.72-7.72 1.47 1.35L5.41 20z\"/>\n",
              "  </svg>\n",
              "      </button>\n",
              "      \n",
              "  <style>\n",
              "    .colab-df-container {\n",
              "      display:flex;\n",
              "      flex-wrap:wrap;\n",
              "      gap: 12px;\n",
              "    }\n",
              "\n",
              "    .colab-df-convert {\n",
              "      background-color: #E8F0FE;\n",
              "      border: none;\n",
              "      border-radius: 50%;\n",
              "      cursor: pointer;\n",
              "      display: none;\n",
              "      fill: #1967D2;\n",
              "      height: 32px;\n",
              "      padding: 0 0 0 0;\n",
              "      width: 32px;\n",
              "    }\n",
              "\n",
              "    .colab-df-convert:hover {\n",
              "      background-color: #E2EBFA;\n",
              "      box-shadow: 0px 1px 2px rgba(60, 64, 67, 0.3), 0px 1px 3px 1px rgba(60, 64, 67, 0.15);\n",
              "      fill: #174EA6;\n",
              "    }\n",
              "\n",
              "    [theme=dark] .colab-df-convert {\n",
              "      background-color: #3B4455;\n",
              "      fill: #D2E3FC;\n",
              "    }\n",
              "\n",
              "    [theme=dark] .colab-df-convert:hover {\n",
              "      background-color: #434B5C;\n",
              "      box-shadow: 0px 1px 3px 1px rgba(0, 0, 0, 0.15);\n",
              "      filter: drop-shadow(0px 1px 2px rgba(0, 0, 0, 0.3));\n",
              "      fill: #FFFFFF;\n",
              "    }\n",
              "  </style>\n",
              "\n",
              "      <script>\n",
              "        const buttonEl =\n",
              "          document.querySelector('#df-5c5a766a-d968-4a6a-8163-38dd7f39b4de button.colab-df-convert');\n",
              "        buttonEl.style.display =\n",
              "          google.colab.kernel.accessAllowed ? 'block' : 'none';\n",
              "\n",
              "        async function convertToInteractive(key) {\n",
              "          const element = document.querySelector('#df-5c5a766a-d968-4a6a-8163-38dd7f39b4de');\n",
              "          const dataTable =\n",
              "            await google.colab.kernel.invokeFunction('convertToInteractive',\n",
              "                                                     [key], {});\n",
              "          if (!dataTable) return;\n",
              "\n",
              "          const docLinkHtml = 'Like what you see? Visit the ' +\n",
              "            '<a target=\"_blank\" href=https://colab.research.google.com/notebooks/data_table.ipynb>data table notebook</a>'\n",
              "            + ' to learn more about interactive tables.';\n",
              "          element.innerHTML = '';\n",
              "          dataTable['output_type'] = 'display_data';\n",
              "          await google.colab.output.renderOutput(dataTable, element);\n",
              "          const docLink = document.createElement('div');\n",
              "          docLink.innerHTML = docLinkHtml;\n",
              "          element.appendChild(docLink);\n",
              "        }\n",
              "      </script>\n",
              "    </div>\n",
              "  </div>\n",
              "  "
            ]
          },
          "metadata": {},
          "execution_count": 12
        }
      ]
    },
    {
      "cell_type": "code",
      "source": [
        "tfidf_matrix=tfidf.fit_transform(content_data['text'])"
      ],
      "metadata": {
        "id": "dmz2iW5b4yLY"
      },
      "execution_count": null,
      "outputs": []
    },
    {
      "cell_type": "code",
      "source": [
        "tfidf_matrix"
      ],
      "metadata": {
        "colab": {
          "base_uri": "https://localhost:8080/"
        },
        "id": "zZKhs8b5yGUs",
        "outputId": "7d9c09f5-d47b-4856-f841-91dc3c2b5b6a"
      },
      "execution_count": null,
      "outputs": [
        {
          "output_type": "execute_result",
          "data": {
            "text/plain": [
              "<3122x72353 sparse matrix of type '<class 'numpy.float64'>'\n",
              "\twith 891728 stored elements in Compressed Sparse Row format>"
            ]
          },
          "metadata": {},
          "execution_count": 14
        }
      ]
    },
    {
      "cell_type": "markdown",
      "source": [
        "## 1.4 Develop the cosine similarity"
      ],
      "metadata": {
        "id": "yskM_CTF5D0H"
      }
    },
    {
      "cell_type": "code",
      "source": [
        "from sklearn.metrics.pairwise import linear_kernel"
      ],
      "metadata": {
        "id": "-USsHN_G5IDD"
      },
      "execution_count": null,
      "outputs": []
    },
    {
      "cell_type": "code",
      "source": [
        "cosine_similarity=linear_kernel(tfidf_matrix,tfidf_matrix)"
      ],
      "metadata": {
        "id": "0REsKWu4E99-"
      },
      "execution_count": null,
      "outputs": []
    },
    {
      "cell_type": "code",
      "source": [
        "indices=pd.Series(content_data.index,index=content_data['title']).drop_duplicates()"
      ],
      "metadata": {
        "id": "aG5Htb5_GW0V"
      },
      "execution_count": null,
      "outputs": []
    },
    {
      "cell_type": "code",
      "source": [
        "indices"
      ],
      "metadata": {
        "colab": {
          "base_uri": "https://localhost:8080/"
        },
        "id": "Z-6R50HrK3ok",
        "outputId": "ac3c4299-895f-4351-de49-a31249dc2c28"
      },
      "execution_count": null,
      "outputs": [
        {
          "output_type": "execute_result",
          "data": {
            "text/plain": [
              "title\n",
              "Ethereum, a Virtual Currency, Enables Transactions That Rival Bitcoin's                                         0\n",
              "Ethereum, a Virtual Currency, Enables Transactions That Rival Bitcoin's                                         1\n",
              "Bitcoin Future: When GBPcoin of Branson Wins Over USDcoin of Trump                                              2\n",
              "Google Data Center 360° Tour                                                                                    3\n",
              "IBM Wants to \"Evolve the Internet\" With Blockchain Technology                                                   4\n",
              "                                                                                                             ... \n",
              "Conheça a Liga IoT, plataforma de inovação aberta que irá acelerar projetos ligados a Internet das Coisas    3117\n",
              "Amazon takes on Skype and GoToMeeting with its Chime video conferencing app                                  3118\n",
              "Code.org 2016 Annual Report                                                                                  3119\n",
              "JPMorgan Software Does in Seconds What Took Lawyers 360,000 Hours                                            3120\n",
              "The 2017 Acquia Partners of the Year                                                                         3121\n",
              "Length: 3122, dtype: int64"
            ]
          },
          "metadata": {},
          "execution_count": 22
        }
      ]
    },
    {
      "cell_type": "code",
      "source": [
        "cosine_similarity.shape"
      ],
      "metadata": {
        "colab": {
          "base_uri": "https://localhost:8080/"
        },
        "id": "PX1l11dg-OeZ",
        "outputId": "23d32c01-1404-48a1-89cc-459cbdb31b02"
      },
      "execution_count": null,
      "outputs": [
        {
          "output_type": "execute_result",
          "data": {
            "text/plain": [
              "(3122, 3122)"
            ]
          },
          "metadata": {},
          "execution_count": 23
        }
      ]
    },
    {
      "cell_type": "markdown",
      "source": [
        "## 1.5 Building a simple recommender (without clustering)"
      ],
      "metadata": {
        "id": "H1b42ErcBzZI"
      }
    },
    {
      "cell_type": "markdown",
      "source": [
        "we  can build a simplified version of our recommender for a specific title based on the cosine similarity alone.\n",
        "We recommened the 10 most similar articles to the given title."
      ],
      "metadata": {
        "id": "talin-vtA1Iw"
      }
    },
    {
      "cell_type": "code",
      "source": [
        "def get_recommendation(title,cos_sim=cosine_similarity):\n",
        "  index=indices[title][0]\n",
        "  sim_scores=enumerate(cos_sim[index])\n",
        "  sim_scores=sorted(sim_scores,key=lambda x:x[1],reverse=True)\n",
        "  sim_scores=sim_scores[1:11]\n",
        "  sim_idx=[i[0] for i in sim_scores]\n",
        "  print(content_data['title'].iloc[sim_idx])\n",
        "get_recommendation(\"Ethereum, a Virtual Currency, Enables Transactions That Rival Bitcoin's\")\n"
      ],
      "metadata": {
        "colab": {
          "base_uri": "https://localhost:8080/"
        },
        "id": "HNDlPnVL5FQ-",
        "outputId": "9c7b7e1c-1d89-44ef-ff88-babf879bdc73"
      },
      "execution_count": null,
      "outputs": [
        {
          "output_type": "stream",
          "name": "stdout",
          "text": [
            "1       Ethereum, a Virtual Currency, Enables Transact...\n",
            "9       The Rise And Growth of Ethereum Gets Mainstrea...\n",
            "525     For Blockchain VCs, the Time for Ethereum Inve...\n",
            "184     Ethereum and Bitcoin Are Market Leaders But No...\n",
            "83      Microsoft Adds Ethereum to Windows Platform Fo...\n",
            "112     Solidity Available in Visual Studio - Ethereum...\n",
            "187     Microsoft Continues to Embrace Ethereum & Bitc...\n",
            "115     Cashila Announces Convenient Buy and Sell Feat...\n",
            "131     Eyeing Volume, Asian Exchanges Add Support for...\n",
            "2378    Are you a bitcoin denialist? - Chris Skinner's...\n",
            "Name: title, dtype: object\n"
          ]
        }
      ]
    },
    {
      "cell_type": "markdown",
      "source": [
        "## 1.6 Clustering with Kmeans"
      ],
      "metadata": {
        "id": "BVDkJY_0CBp_"
      }
    },
    {
      "cell_type": "markdown",
      "source": [
        "We build a more complex recommender using Kmeans clustering to group similar contents in the same cluster so we can later on recommend similar content based on the clusters."
      ],
      "metadata": {
        "id": "X9yvSQe8BG5d"
      }
    },
    {
      "cell_type": "code",
      "source": [
        "data=content_data\n",
        "data=data.drop(columns=['title','text','url','contentId'])\n",
        "\n",
        "for i in range(cosine_similarity.shape[0]):\n",
        "  name='t'+str(i)\n",
        "  data[name]=cosine_similarity[i]"
      ],
      "metadata": {
        "colab": {
          "base_uri": "https://localhost:8080/"
        },
        "id": "56qko_4s9rq5",
        "outputId": "0e7fa5f8-0819-4c7c-e104-1091a137f07f"
      },
      "execution_count": null,
      "outputs": [
        {
          "output_type": "stream",
          "name": "stderr",
          "text": [
            "<ipython-input-35-88001c152281>:6: PerformanceWarning: DataFrame is highly fragmented.  This is usually the result of calling `frame.insert` many times, which has poor performance.  Consider joining all columns at once using pd.concat(axis=1) instead.  To get a de-fragmented frame, use `newframe = frame.copy()`\n",
            "  data[name]=cosine_similarity[i]\n"
          ]
        }
      ]
    },
    {
      "cell_type": "code",
      "source": [
        "import numpy as np\n",
        "import pandas as pd\n",
        "import matplotlib.pyplot as plt\n",
        "from matplotlib.colors import ListedColormap\n",
        "%matplotlib inline"
      ],
      "metadata": {
        "id": "QeEIlhKQDl24"
      },
      "execution_count": null,
      "outputs": []
    },
    {
      "cell_type": "code",
      "source": [
        "!pip install kneed"
      ],
      "metadata": {
        "colab": {
          "base_uri": "https://localhost:8080/"
        },
        "id": "3bfR0PmDDtKg",
        "outputId": "bc791365-4e00-4c8f-f269-1df6d9e7f39d"
      },
      "execution_count": null,
      "outputs": [
        {
          "output_type": "stream",
          "name": "stdout",
          "text": [
            "Looking in indexes: https://pypi.org/simple, https://us-python.pkg.dev/colab-wheels/public/simple/\n",
            "Collecting kneed\n",
            "  Downloading kneed-0.8.2-py3-none-any.whl (10 kB)\n",
            "Requirement already satisfied: numpy>=1.14.2 in /usr/local/lib/python3.8/dist-packages (from kneed) (1.21.6)\n",
            "Requirement already satisfied: scipy>=1.0.0 in /usr/local/lib/python3.8/dist-packages (from kneed) (1.7.3)\n",
            "Installing collected packages: kneed\n",
            "Successfully installed kneed-0.8.2\n"
          ]
        }
      ]
    },
    {
      "cell_type": "markdown",
      "source": [
        "### best k, elbow method"
      ],
      "metadata": {
        "id": "zxEIQGxACXuI"
      }
    },
    {
      "cell_type": "markdown",
      "source": [
        "optimizing the number of clusters using k best elbow method from kneed library."
      ],
      "metadata": {
        "id": "WrsUO2wxB69Z"
      }
    },
    {
      "cell_type": "code",
      "source": [
        "from sklearn.cluster import KMeans\n",
        "kmeans_kwargs = {\n",
        "    \"init\": \"random\",\n",
        "    \"n_init\": 10,\n",
        "    \"max_iter\": 300,\n",
        "    \"random_state\": 42,\n",
        "}\n",
        "\n",
        "# A list holds the SSE values for each k\n",
        "sse = []\n",
        "for k in range(1, 11):\n",
        "    kmeans = KMeans(n_clusters=k, **kmeans_kwargs)\n",
        "    kmeans.fit(data)\n",
        "    sse.append(kmeans.inertia_)\n",
        "\n",
        "\n",
        "from kneed import KneeLocator\n",
        "k_best = KneeLocator(\n",
        "    range(1, 11), sse, curve=\"convex\", direction=\"decreasing\"\n",
        ")\n",
        "\n",
        "k_best.elbow"
      ],
      "metadata": {
        "colab": {
          "base_uri": "https://localhost:8080/"
        },
        "id": "JBQGtEIKCkXo",
        "outputId": "d38f886b-e6ce-41fa-dba3-a5b54d1f6ec5"
      },
      "execution_count": null,
      "outputs": [
        {
          "output_type": "execute_result",
          "data": {
            "text/plain": [
              "4"
            ]
          },
          "metadata": {},
          "execution_count": 38
        }
      ]
    },
    {
      "cell_type": "markdown",
      "source": [
        "the best k for our dataset is 4."
      ],
      "metadata": {
        "id": "eKSykxBsCGhB"
      }
    },
    {
      "cell_type": "code",
      "source": [
        "plt.style.use(\"fivethirtyeight\")\n",
        "plt.plot(range(1, 11), sse)\n",
        "plt.xticks(range(1, 11))\n",
        "plt.xlabel(\"Number of Clusters\")\n",
        "plt.ylabel(\"SSE\")\n",
        "plt.show()"
      ],
      "metadata": {
        "colab": {
          "base_uri": "https://localhost:8080/",
          "height": 318
        },
        "id": "0xZYOjL3DYqg",
        "outputId": "d320ae2f-e223-4eea-8458-7049259ef064"
      },
      "execution_count": null,
      "outputs": [
        {
          "output_type": "display_data",
          "data": {
            "text/plain": [
              "<Figure size 432x288 with 1 Axes>"
            ],
            "image/png": "[encoded data removed]"
          },
          "metadata": {}
        }
      ]
    },
    {
      "cell_type": "code",
      "source": [
        "\n",
        "\n",
        "# initialize kmeans with 3 centroids\n",
        "kmeans = KMeans(n_clusters=k_best.elbow, **kmeans_kwargs)\n",
        "# fit the model\n",
        "y = kmeans.fit_predict(data)\n",
        "\n",
        "content_data['Cluster'] = y\n",
        "data['Cluster'] = y"
      ],
      "metadata": {
        "id": "UXhWmMYxa3Kb"
      },
      "execution_count": null,
      "outputs": []
    },
    {
      "cell_type": "code",
      "source": [
        "content_data.head()"
      ],
      "metadata": {
        "colab": {
          "base_uri": "https://localhost:8080/",
          "height": 704
        },
        "id": "pbFfCsSnA3EA",
        "outputId": "9c3175a2-d0fd-4f27-acf9-50716cb6796b"
      },
      "execution_count": null,
      "outputs": [
        {
          "output_type": "execute_result",
          "data": {
            "text/plain": [
              "    timestamp  eventType            contentId       authorPersonId  \\\n",
              "0  1459192779          0 -6451309518266745024  4340306774493623681   \n",
              "1  1459193988          1 -4110354420726924665  4340306774493623681   \n",
              "2  1459194146          1 -7292285110016212249  4340306774493623681   \n",
              "3  1459194474          1 -6151852268067518688  3891637997717104548   \n",
              "4  1459194497          1  2448026894306402386  4340306774493623681   \n",
              "\n",
              "       authorSessionId  authorUserAgent  authorRegion  authorCountry  \\\n",
              "0  8940341205206233829              114            19              5   \n",
              "1  8940341205206233829              114            19              5   \n",
              "2  8940341205206233829              114            19              5   \n",
              "3 -1457532940883382585              114            19              5   \n",
              "4  8940341205206233829              114            19              5   \n",
              "\n",
              "   contentType                                                url  \\\n",
              "0            0  http://www.nytimes.com/2016/03/28/business/dea...   \n",
              "1            0  http://www.nytimes.com/2016/03/28/business/dea...   \n",
              "2            0  http://cointelegraph.com/news/bitcoin-future-w...   \n",
              "3            0  https://cloudplatform.googleblog.com/2016/03/G...   \n",
              "4            0  https://bitcoinmagazine.com/articles/ibm-wants...   \n",
              "\n",
              "                                               title  \\\n",
              "0  Ethereum, a Virtual Currency, Enables Transact...   \n",
              "1  Ethereum, a Virtual Currency, Enables Transact...   \n",
              "2  Bitcoin Future: When GBPcoin of Branson Wins O...   \n",
              "3                       Google Data Center 360° Tour   \n",
              "4  IBM Wants to \"Evolve the Internet\" With Blockc...   \n",
              "\n",
              "                                                text  lang  Cluster  \n",
              "0  All of this work is still very early. The firs...     0        3  \n",
              "1  All of this work is still very early. The firs...     0        3  \n",
              "2  The alarm clock wakes me at 8:00 with stream o...     0        3  \n",
              "3  We're excited to share the Google Data Center ...     0        1  \n",
              "4  The Aite Group projects the blockchain market ...     0        3  "
            ],
            "text/html": [
              "\n",
              "  <div id=\"df-3e5ee864-0ad2-4bac-8435-bca9d8e7b7ec\">\n",
              "    <div class=\"colab-df-container\">\n",
              "      <div>\n",
              "<style scoped>\n",
              "    .dataframe tbody tr th:only-of-type {\n",
              "        vertical-align: middle;\n",
              "    }\n",
              "\n",
              "    .dataframe tbody tr th {\n",
              "        vertical-align: top;\n",
              "    }\n",
              "\n",
              "    .dataframe thead th {\n",
              "        text-align: right;\n",
              "    }\n",
              "</style>\n",
              "<table border=\"1\" class=\"dataframe\">\n",
              "  <thead>\n",
              "    <tr style=\"text-align: right;\">\n",
              "      <th></th>\n",
              "      <th>timestamp</th>\n",
              "      <th>eventType</th>\n",
              "      <th>contentId</th>\n",
              "      <th>authorPersonId</th>\n",
              "      <th>authorSessionId</th>\n",
              "      <th>authorUserAgent</th>\n",
              "      <th>authorRegion</th>\n",
              "      <th>authorCountry</th>\n",
              "      <th>contentType</th>\n",
              "      <th>url</th>\n",
              "      <th>title</th>\n",
              "      <th>text</th>\n",
              "      <th>lang</th>\n",
              "      <th>Cluster</th>\n",
              "    </tr>\n",
              "  </thead>\n",
              "  <tbody>\n",
              "    <tr>\n",
              "      <th>0</th>\n",
              "      <td>1459192779</td>\n",
              "      <td>0</td>\n",
              "      <td>-6451309518266745024</td>\n",
              "      <td>4340306774493623681</td>\n",
              "      <td>8940341205206233829</td>\n",
              "      <td>114</td>\n",
              "      <td>19</td>\n",
              "      <td>5</td>\n",
              "      <td>0</td>\n",
              "      <td>http://www.nytimes.com/2016/03/28/business/dea...</td>\n",
              "      <td>Ethereum, a Virtual Currency, Enables Transact...</td>\n",
              "      <td>All of this work is still very early. The firs...</td>\n",
              "      <td>0</td>\n",
              "      <td>3</td>\n",
              "    </tr>\n",
              "    <tr>\n",
              "      <th>1</th>\n",
              "      <td>1459193988</td>\n",
              "      <td>1</td>\n",
              "      <td>-4110354420726924665</td>\n",
              "      <td>4340306774493623681</td>\n",
              "      <td>8940341205206233829</td>\n",
              "      <td>114</td>\n",
              "      <td>19</td>\n",
              "      <td>5</td>\n",
              "      <td>0</td>\n",
              "      <td>http://www.nytimes.com/2016/03/28/business/dea...</td>\n",
              "      <td>Ethereum, a Virtual Currency, Enables Transact...</td>\n",
              "      <td>All of this work is still very early. The firs...</td>\n",
              "      <td>0</td>\n",
              "      <td>3</td>\n",
              "    </tr>\n",
              "    <tr>\n",
              "      <th>2</th>\n",
              "      <td>1459194146</td>\n",
              "      <td>1</td>\n",
              "      <td>-7292285110016212249</td>\n",
              "      <td>4340306774493623681</td>\n",
              "      <td>8940341205206233829</td>\n",
              "      <td>114</td>\n",
              "      <td>19</td>\n",
              "      <td>5</td>\n",
              "      <td>0</td>\n",
              "      <td>http://cointelegraph.com/news/bitcoin-future-w...</td>\n",
              "      <td>Bitcoin Future: When GBPcoin of Branson Wins O...</td>\n",
              "      <td>The alarm clock wakes me at 8:00 with stream o...</td>\n",
              "      <td>0</td>\n",
              "      <td>3</td>\n",
              "    </tr>\n",
              "    <tr>\n",
              "      <th>3</th>\n",
              "      <td>1459194474</td>\n",
              "      <td>1</td>\n",
              "      <td>-6151852268067518688</td>\n",
              "      <td>3891637997717104548</td>\n",
              "      <td>-1457532940883382585</td>\n",
              "      <td>114</td>\n",
              "      <td>19</td>\n",
              "      <td>5</td>\n",
              "      <td>0</td>\n",
              "      <td>https://cloudplatform.googleblog.com/2016/03/G...</td>\n",
              "      <td>Google Data Center 360° Tour</td>\n",
              "      <td>We're excited to share the Google Data Center ...</td>\n",
              "      <td>0</td>\n",
              "      <td>1</td>\n",
              "    </tr>\n",
              "    <tr>\n",
              "      <th>4</th>\n",
              "      <td>1459194497</td>\n",
              "      <td>1</td>\n",
              "      <td>2448026894306402386</td>\n",
              "      <td>4340306774493623681</td>\n",
              "      <td>8940341205206233829</td>\n",
              "      <td>114</td>\n",
              "      <td>19</td>\n",
              "      <td>5</td>\n",
              "      <td>0</td>\n",
              "      <td>https://bitcoinmagazine.com/articles/ibm-wants...</td>\n",
              "      <td>IBM Wants to \"Evolve the Internet\" With Blockc...</td>\n",
              "      <td>The Aite Group projects the blockchain market ...</td>\n",
              "      <td>0</td>\n",
              "      <td>3</td>\n",
              "    </tr>\n",
              "  </tbody>\n",
              "</table>\n",
              "</div>\n",
              "      <button class=\"colab-df-convert\" onclick=\"convertToInteractive('df-3e5ee864-0ad2-4bac-8435-bca9d8e7b7ec')\"\n",
              "              title=\"Convert this dataframe to an interactive table.\"\n",
              "              style=\"display:none;\">\n",
              "        \n",
              "  <svg xmlns=\"http://www.w3.org/2000/svg\" height=\"24px\"viewBox=\"0 0 24 24\"\n",
              "       width=\"24px\">\n",
              "    <path d=\"M0 0h24v24H0V0z\" fill=\"none\"/>\n",
              "    <path d=\"M18.56 5.44l.94 2.06.94-2.06 2.06-.94-2.06-.94-.94-2.06-.94 2.06-2.06.94zm-11 1L8.5 8.5l.94-2.06 2.06-.94-2.06-.94L8.5 2.5l-.94 2.06-2.06.94zm10 10l.94 2.06.94-2.06 2.06-.94-2.06-.94-.94-2.06-.94 2.06-2.06.94z\"/><path d=\"M17.41 7.96l-1.37-1.37c-.4-.4-.92-.59-1.43-.59-.52 0-1.04.2-1.43.59L10.3 9.45l-7.72 7.72c-.78.78-.78 2.05 0 2.83L4 21.41c.39.39.9.59 1.41.59.51 0 1.02-.2 1.41-.59l7.78-7.78 2.81-2.81c.8-.78.8-2.07 0-2.86zM5.41 20L4 18.59l7.72-7.72 1.47 1.35L5.41 20z\"/>\n",
              "  </svg>\n",
              "      </button>\n",
              "      \n",
              "  <style>\n",
              "    .colab-df-container {\n",
              "      display:flex;\n",
              "      flex-wrap:wrap;\n",
              "      gap: 12px;\n",
              "    }\n",
              "\n",
              "    .colab-df-convert {\n",
              "      background-color: #E8F0FE;\n",
              "      border: none;\n",
              "      border-radius: 50%;\n",
              "      cursor: pointer;\n",
              "      display: none;\n",
              "      fill: #1967D2;\n",
              "      height: 32px;\n",
              "      padding: 0 0 0 0;\n",
              "      width: 32px;\n",
              "    }\n",
              "\n",
              "    .colab-df-convert:hover {\n",
              "      background-color: #E2EBFA;\n",
              "      box-shadow: 0px 1px 2px rgba(60, 64, 67, 0.3), 0px 1px 3px 1px rgba(60, 64, 67, 0.15);\n",
              "      fill: #174EA6;\n",
              "    }\n",
              "\n",
              "    [theme=dark] .colab-df-convert {\n",
              "      background-color: #3B4455;\n",
              "      fill: #D2E3FC;\n",
              "    }\n",
              "\n",
              "    [theme=dark] .colab-df-convert:hover {\n",
              "      background-color: #434B5C;\n",
              "      box-shadow: 0px 1px 3px 1px rgba(0, 0, 0, 0.15);\n",
              "      filter: drop-shadow(0px 1px 2px rgba(0, 0, 0, 0.3));\n",
              "      fill: #FFFFFF;\n",
              "    }\n",
              "  </style>\n",
              "\n",
              "      <script>\n",
              "        const buttonEl =\n",
              "          document.querySelector('#df-3e5ee864-0ad2-4bac-8435-bca9d8e7b7ec button.colab-df-convert');\n",
              "        buttonEl.style.display =\n",
              "          google.colab.kernel.accessAllowed ? 'block' : 'none';\n",
              "\n",
              "        async function convertToInteractive(key) {\n",
              "          const element = document.querySelector('#df-3e5ee864-0ad2-4bac-8435-bca9d8e7b7ec');\n",
              "          const dataTable =\n",
              "            await google.colab.kernel.invokeFunction('convertToInteractive',\n",
              "                                                     [key], {});\n",
              "          if (!dataTable) return;\n",
              "\n",
              "          const docLinkHtml = 'Like what you see? Visit the ' +\n",
              "            '<a target=\"_blank\" href=https://colab.research.google.com/notebooks/data_table.ipynb>data table notebook</a>'\n",
              "            + ' to learn more about interactive tables.';\n",
              "          element.innerHTML = '';\n",
              "          dataTable['output_type'] = 'display_data';\n",
              "          await google.colab.output.renderOutput(dataTable, element);\n",
              "          const docLink = document.createElement('div');\n",
              "          docLink.innerHTML = docLinkHtml;\n",
              "          element.appendChild(docLink);\n",
              "        }\n",
              "      </script>\n",
              "    </div>\n",
              "  </div>\n",
              "  "
            ]
          },
          "metadata": {},
          "execution_count": 41
        }
      ]
    },
    {
      "cell_type": "code",
      "source": [
        "content_data['Cluster'].unique()"
      ],
      "metadata": {
        "colab": {
          "base_uri": "https://localhost:8080/"
        },
        "id": "UasQvAWJOC8Q",
        "outputId": "02c808e4-6eb9-4fc0-93c0-3729ae5d3ef2"
      },
      "execution_count": null,
      "outputs": [
        {
          "output_type": "execute_result",
          "data": {
            "text/plain": [
              "array([3, 1, 2, 0], dtype=int32)"
            ]
          },
          "metadata": {},
          "execution_count": 42
        }
      ]
    },
    {
      "cell_type": "markdown",
      "source": [
        "# 2. Getting recommendations for users"
      ],
      "metadata": {
        "id": "1e9tLZraCjYQ"
      }
    },
    {
      "cell_type": "markdown",
      "source": [
        "now for the user interactions dataset."
      ],
      "metadata": {
        "id": "Sae51tGjCZTJ"
      }
    },
    {
      "cell_type": "markdown",
      "source": [
        "## 2.1 processing user data"
      ],
      "metadata": {
        "id": "ywUKnwCNC4mL"
      }
    },
    {
      "cell_type": "code",
      "source": [
        "user_data.shape"
      ],
      "metadata": {
        "id": "QPP30beeH4nH",
        "colab": {
          "base_uri": "https://localhost:8080/"
        },
        "outputId": "74bf852c-8c6b-4cf8-b02d-13c89e4988cc"
      },
      "execution_count": null,
      "outputs": [
        {
          "output_type": "execute_result",
          "data": {
            "text/plain": [
              "(72312, 8)"
            ]
          },
          "metadata": {},
          "execution_count": 43
        }
      ]
    },
    {
      "cell_type": "markdown",
      "source": [
        "Giving weights for each event type in the user interactions according to how much the user was interested in the content"
      ],
      "metadata": {
        "id": "YCTmSoLjGuL8"
      }
    },
    {
      "cell_type": "code",
      "source": [
        "weights={'VIEW':1, 'FOLLOW':4, 'BOOKMARK':5, 'LIKE':2, 'COMMENT CREATED':3}"
      ],
      "metadata": {
        "id": "V5dYXAvaGtiS"
      },
      "execution_count": null,
      "outputs": []
    },
    {
      "cell_type": "code",
      "source": [
        "weights"
      ],
      "metadata": {
        "colab": {
          "base_uri": "https://localhost:8080/"
        },
        "id": "5ZBbxEUSHPHP",
        "outputId": "53d50e2d-0d40-41f2-f7d6-6ceaa29daeeb"
      },
      "execution_count": null,
      "outputs": [
        {
          "output_type": "execute_result",
          "data": {
            "text/plain": [
              "{'VIEW': 1, 'FOLLOW': 4, 'BOOKMARK': 5, 'LIKE': 2, 'COMMENT CREATED': 3}"
            ]
          },
          "metadata": {},
          "execution_count": 45
        }
      ]
    },
    {
      "cell_type": "markdown",
      "source": [
        "we want to define a function that takes a user and prints out 10 recommendations for them based on the content they've already seen\n",
        "we define the following functions:\n",
        "\n",
        "- get the content IDs  for a specific user"
      ],
      "metadata": {
        "id": "51EUO3RNHUPX"
      }
    },
    {
      "cell_type": "code",
      "source": [
        "def get_user_content(user_id):\n",
        "  content=user_data.loc[user_data['personId']==user_id]\n",
        "  return content[['contentId','eventType']]\n",
        "content=get_user_content(344280948527967603)\n",
        "content2=get_user_content(102305705598210278)\n",
        "\n",
        "content"
      ],
      "metadata": {
        "id": "nlr6w7_ZHSXp",
        "colab": {
          "base_uri": "https://localhost:8080/",
          "height": 833
        },
        "outputId": "e016c10b-58e6-450e-a1f0-fbf0d1b7594d"
      },
      "execution_count": null,
      "outputs": [
        {
          "output_type": "execute_result",
          "data": {
            "text/plain": [
              "                 contentId        eventType\n",
              "3       310515487419366995           FOLLOW\n",
              "8       310515487419366995             VIEW\n",
              "37      310515487419366995         BOOKMARK\n",
              "40      310515487419366995             LIKE\n",
              "52      310515487419366995             VIEW\n",
              "784    3569727790804487273             VIEW\n",
              "10752   310515487419366995             VIEW\n",
              "14754 -5784991738549272379             VIEW\n",
              "14817 -5784991738549272379             VIEW\n",
              "24599   310515487419366995             VIEW\n",
              "24683   310515487419366995             VIEW\n",
              "40249 -1068603220639552685             VIEW\n",
              "45948   521382866757596943             VIEW\n",
              "47176   521382866757596943             VIEW\n",
              "47177   521382866757596943             VIEW\n",
              "47187   521382866757596943             VIEW\n",
              "48299  -908052164352446106             VIEW\n",
              "52337  8254285966695461849             VIEW\n",
              "67444  4876769046116846438             VIEW\n",
              "69443  4876769046116846438             LIKE\n",
              "69445  4876769046116846438             VIEW\n",
              "69449  4876769046116846438           FOLLOW\n",
              "69453  4876769046116846438  COMMENT CREATED\n",
              "71167  4876769046116846438             VIEW\n",
              "72288  4876769046116846438             VIEW"
            ],
            "text/html": [
              "\n",
              "  <div id=\"df-a8f38e57-6d43-48c8-b094-bc0286fd9967\">\n",
              "    <div class=\"colab-df-container\">\n",
              "      <div>\n",
              "<style scoped>\n",
              "    .dataframe tbody tr th:only-of-type {\n",
              "        vertical-align: middle;\n",
              "    }\n",
              "\n",
              "    .dataframe tbody tr th {\n",
              "        vertical-align: top;\n",
              "    }\n",
              "\n",
              "    .dataframe thead th {\n",
              "        text-align: right;\n",
              "    }\n",
              "</style>\n",
              "<table border=\"1\" class=\"dataframe\">\n",
              "  <thead>\n",
              "    <tr style=\"text-align: right;\">\n",
              "      <th></th>\n",
              "      <th>contentId</th>\n",
              "      <th>eventType</th>\n",
              "    </tr>\n",
              "  </thead>\n",
              "  <tbody>\n",
              "    <tr>\n",
              "      <th>3</th>\n",
              "      <td>310515487419366995</td>\n",
              "      <td>FOLLOW</td>\n",
              "    </tr>\n",
              "    <tr>\n",
              "      <th>8</th>\n",
              "      <td>310515487419366995</td>\n",
              "      <td>VIEW</td>\n",
              "    </tr>\n",
              "    <tr>\n",
              "      <th>37</th>\n",
              "      <td>310515487419366995</td>\n",
              "      <td>BOOKMARK</td>\n",
              "    </tr>\n",
              "    <tr>\n",
              "      <th>40</th>\n",
              "      <td>310515487419366995</td>\n",
              "      <td>LIKE</td>\n",
              "    </tr>\n",
              "    <tr>\n",
              "      <th>52</th>\n",
              "      <td>310515487419366995</td>\n",
              "      <td>VIEW</td>\n",
              "    </tr>\n",
              "    <tr>\n",
              "      <th>784</th>\n",
              "      <td>3569727790804487273</td>\n",
              "      <td>VIEW</td>\n",
              "    </tr>\n",
              "    <tr>\n",
              "      <th>10752</th>\n",
              "      <td>310515487419366995</td>\n",
              "      <td>VIEW</td>\n",
              "    </tr>\n",
              "    <tr>\n",
              "      <th>14754</th>\n",
              "      <td>-5784991738549272379</td>\n",
              "      <td>VIEW</td>\n",
              "    </tr>\n",
              "    <tr>\n",
              "      <th>14817</th>\n",
              "      <td>-5784991738549272379</td>\n",
              "      <td>VIEW</td>\n",
              "    </tr>\n",
              "    <tr>\n",
              "      <th>24599</th>\n",
              "      <td>310515487419366995</td>\n",
              "      <td>VIEW</td>\n",
              "    </tr>\n",
              "    <tr>\n",
              "      <th>24683</th>\n",
              "      <td>310515487419366995</td>\n",
              "      <td>VIEW</td>\n",
              "    </tr>\n",
              "    <tr>\n",
              "      <th>40249</th>\n",
              "      <td>-1068603220639552685</td>\n",
              "      <td>VIEW</td>\n",
              "    </tr>\n",
              "    <tr>\n",
              "      <th>45948</th>\n",
              "      <td>521382866757596943</td>\n",
              "      <td>VIEW</td>\n",
              "    </tr>\n",
              "    <tr>\n",
              "      <th>47176</th>\n",
              "      <td>521382866757596943</td>\n",
              "      <td>VIEW</td>\n",
              "    </tr>\n",
              "    <tr>\n",
              "      <th>47177</th>\n",
              "      <td>521382866757596943</td>\n",
              "      <td>VIEW</td>\n",
              "    </tr>\n",
              "    <tr>\n",
              "      <th>47187</th>\n",
              "      <td>521382866757596943</td>\n",
              "      <td>VIEW</td>\n",
              "    </tr>\n",
              "    <tr>\n",
              "      <th>48299</th>\n",
              "      <td>-908052164352446106</td>\n",
              "      <td>VIEW</td>\n",
              "    </tr>\n",
              "    <tr>\n",
              "      <th>52337</th>\n",
              "      <td>8254285966695461849</td>\n",
              "      <td>VIEW</td>\n",
              "    </tr>\n",
              "    <tr>\n",
              "      <th>67444</th>\n",
              "      <td>4876769046116846438</td>\n",
              "      <td>VIEW</td>\n",
              "    </tr>\n",
              "    <tr>\n",
              "      <th>69443</th>\n",
              "      <td>4876769046116846438</td>\n",
              "      <td>LIKE</td>\n",
              "    </tr>\n",
              "    <tr>\n",
              "      <th>69445</th>\n",
              "      <td>4876769046116846438</td>\n",
              "      <td>VIEW</td>\n",
              "    </tr>\n",
              "    <tr>\n",
              "      <th>69449</th>\n",
              "      <td>4876769046116846438</td>\n",
              "      <td>FOLLOW</td>\n",
              "    </tr>\n",
              "    <tr>\n",
              "      <th>69453</th>\n",
              "      <td>4876769046116846438</td>\n",
              "      <td>COMMENT CREATED</td>\n",
              "    </tr>\n",
              "    <tr>\n",
              "      <th>71167</th>\n",
              "      <td>4876769046116846438</td>\n",
              "      <td>VIEW</td>\n",
              "    </tr>\n",
              "    <tr>\n",
              "      <th>72288</th>\n",
              "      <td>4876769046116846438</td>\n",
              "      <td>VIEW</td>\n",
              "    </tr>\n",
              "  </tbody>\n",
              "</table>\n",
              "</div>\n",
              "      <button class=\"colab-df-convert\" onclick=\"convertToInteractive('df-a8f38e57-6d43-48c8-b094-bc0286fd9967')\"\n",
              "              title=\"Convert this dataframe to an interactive table.\"\n",
              "              style=\"display:none;\">\n",
              "        \n",
              "  <svg xmlns=\"http://www.w3.org/2000/svg\" height=\"24px\"viewBox=\"0 0 24 24\"\n",
              "       width=\"24px\">\n",
              "    <path d=\"M0 0h24v24H0V0z\" fill=\"none\"/>\n",
              "    <path d=\"M18.56 5.44l.94 2.06.94-2.06 2.06-.94-2.06-.94-.94-2.06-.94 2.06-2.06.94zm-11 1L8.5 8.5l.94-2.06 2.06-.94-2.06-.94L8.5 2.5l-.94 2.06-2.06.94zm10 10l.94 2.06.94-2.06 2.06-.94-2.06-.94-.94-2.06-.94 2.06-2.06.94z\"/><path d=\"M17.41 7.96l-1.37-1.37c-.4-.4-.92-.59-1.43-.59-.52 0-1.04.2-1.43.59L10.3 9.45l-7.72 7.72c-.78.78-.78 2.05 0 2.83L4 21.41c.39.39.9.59 1.41.59.51 0 1.02-.2 1.41-.59l7.78-7.78 2.81-2.81c.8-.78.8-2.07 0-2.86zM5.41 20L4 18.59l7.72-7.72 1.47 1.35L5.41 20z\"/>\n",
              "  </svg>\n",
              "      </button>\n",
              "      \n",
              "  <style>\n",
              "    .colab-df-container {\n",
              "      display:flex;\n",
              "      flex-wrap:wrap;\n",
              "      gap: 12px;\n",
              "    }\n",
              "\n",
              "    .colab-df-convert {\n",
              "      background-color: #E8F0FE;\n",
              "      border: none;\n",
              "      border-radius: 50%;\n",
              "      cursor: pointer;\n",
              "      display: none;\n",
              "      fill: #1967D2;\n",
              "      height: 32px;\n",
              "      padding: 0 0 0 0;\n",
              "      width: 32px;\n",
              "    }\n",
              "\n",
              "    .colab-df-convert:hover {\n",
              "      background-color: #E2EBFA;\n",
              "      box-shadow: 0px 1px 2px rgba(60, 64, 67, 0.3), 0px 1px 3px 1px rgba(60, 64, 67, 0.15);\n",
              "      fill: #174EA6;\n",
              "    }\n",
              "\n",
              "    [theme=dark] .colab-df-convert {\n",
              "      background-color: #3B4455;\n",
              "      fill: #D2E3FC;\n",
              "    }\n",
              "\n",
              "    [theme=dark] .colab-df-convert:hover {\n",
              "      background-color: #434B5C;\n",
              "      box-shadow: 0px 1px 3px 1px rgba(0, 0, 0, 0.15);\n",
              "      filter: drop-shadow(0px 1px 2px rgba(0, 0, 0, 0.3));\n",
              "      fill: #FFFFFF;\n",
              "    }\n",
              "  </style>\n",
              "\n",
              "      <script>\n",
              "        const buttonEl =\n",
              "          document.querySelector('#df-a8f38e57-6d43-48c8-b094-bc0286fd9967 button.colab-df-convert');\n",
              "        buttonEl.style.display =\n",
              "          google.colab.kernel.accessAllowed ? 'block' : 'none';\n",
              "\n",
              "        async function convertToInteractive(key) {\n",
              "          const element = document.querySelector('#df-a8f38e57-6d43-48c8-b094-bc0286fd9967');\n",
              "          const dataTable =\n",
              "            await google.colab.kernel.invokeFunction('convertToInteractive',\n",
              "                                                     [key], {});\n",
              "          if (!dataTable) return;\n",
              "\n",
              "          const docLinkHtml = 'Like what you see? Visit the ' +\n",
              "            '<a target=\"_blank\" href=https://colab.research.google.com/notebooks/data_table.ipynb>data table notebook</a>'\n",
              "            + ' to learn more about interactive tables.';\n",
              "          element.innerHTML = '';\n",
              "          dataTable['output_type'] = 'display_data';\n",
              "          await google.colab.output.renderOutput(dataTable, element);\n",
              "          const docLink = document.createElement('div');\n",
              "          docLink.innerHTML = docLinkHtml;\n",
              "          element.appendChild(docLink);\n",
              "        }\n",
              "      </script>\n",
              "    </div>\n",
              "  </div>\n",
              "  "
            ]
          },
          "metadata": {},
          "execution_count": 46
        }
      ]
    },
    {
      "cell_type": "markdown",
      "source": [
        "- calculate cluster score (how much of the user interactions belong to each of the clusters based on the weights -- how much the user was interested in the cluster content)"
      ],
      "metadata": {
        "id": "NlgPuVduH9WK"
      }
    },
    {
      "cell_type": "code",
      "source": [
        "def score_cluster(content):\n",
        "  scores=[]\n",
        "  total=0\n",
        "  for i in content_data['Cluster'].unique():\n",
        "    scores.append(0)\n",
        "  for i,c in content.iterrows():\n",
        "    index=content_data.loc[content_data['contentId']==c['contentId']]\n",
        "    index=index['Cluster']\n",
        "\n",
        "    scores[int(index)]+=weights[c['eventType']]\n",
        "    total+=weights[c['eventType']]\n",
        "  scores=[  int(s*10/total) for s in scores]\n",
        "  return scores\n",
        "score1=score_cluster(content)\n",
        "score1"
      ],
      "metadata": {
        "id": "LpnZsLt1Irn8",
        "colab": {
          "base_uri": "https://localhost:8080/"
        },
        "outputId": "dd79efa1-6df3-4a9b-e7eb-a486e762ff32"
      },
      "execution_count": null,
      "outputs": [
        {
          "output_type": "execute_result",
          "data": {
            "text/plain": [
              "[0, 1, 4, 4]"
            ]
          },
          "metadata": {},
          "execution_count": 47
        }
      ]
    },
    {
      "cell_type": "code",
      "source": [
        "score2=score_cluster(content2)\n",
        "score2"
      ],
      "metadata": {
        "colab": {
          "base_uri": "https://localhost:8080/"
        },
        "id": "xnPlvvbP5xjw",
        "outputId": "052e28ed-35cb-43dd-c807-1fb823ea73f5"
      },
      "execution_count": null,
      "outputs": [
        {
          "output_type": "execute_result",
          "data": {
            "text/plain": [
              "[3, 1, 2, 2]"
            ]
          },
          "metadata": {},
          "execution_count": 48
        }
      ]
    },
    {
      "cell_type": "markdown",
      "source": [
        "from the 2 previous examples we can see how each number represents how many articles we should recommend from each cluster based on how much the user engaged previously from content that is similar to the content of that cluster.\n",
        "e.g. the first user didn't engage with any content similar to cluster 1 so 0 articles will be recommended from it , while the second user will be recommended 3 from it."
      ],
      "metadata": {
        "id": "KGbwmU-M5zlo"
      }
    },
    {
      "cell_type": "markdown",
      "source": [
        "- recommend a specified number of article from each cluster based on the previous calculations of interest and similarity.\n",
        "\n",
        "- paying attention that the content which the user has already seen is not re-recommended"
      ],
      "metadata": {
        "id": "7eTtE_WyIsA9"
      }
    },
    {
      "cell_type": "code",
      "source": [
        "def get_recommendation_with_clustering(scores, ids):\n",
        "  all_recommended_articles=[]\n",
        "  similar_articles=np.zeros(len(cosine_similarity[0]))\n",
        "  for i,id in ids.iterrows():\n",
        "    all=content_data.loc[content_data['contentId']==id['contentId']]\n",
        "\n",
        "    title=all['title']\n",
        "    cluster=all['Cluster']\n",
        "    # print(title)\n",
        "    index=indices[title][0]\n",
        "    sim_scores=cosine_similarity[index]\n",
        "    similar_articles=np. add(similar_articles,sim_scores)\n",
        "\n",
        "  sim_scores=sorted(enumerate(similar_articles),key=lambda x:x[1],reverse=True)\n",
        "\n",
        "\n",
        "  for i  in range(len(scores)):\n",
        "    j=scores[i]\n",
        "    for article in sim_scores:\n",
        "      if (j==0): break\n",
        "      cluster=content_data.iloc[article[0]]['Cluster']\n",
        "      con_id=content_data['contentId'].iloc[article[0]]\n",
        "\n",
        "      if (cluster==i and ids['contentId'].tolist().count(con_id)==0):\n",
        "        all_recommended_articles.append(content_data['title'].iloc[article[0]])\n",
        "        j=j-1\n",
        "  return all_recommended_articles\n",
        "\n",
        "recommendations=get_recommendation_with_clustering(score1,content)\n",
        "recommendations2=get_recommendation_with_clustering(score2,content2)\n",
        "for recommendation in recommendations:\n",
        "\n",
        "  print(recommendation)\n",
        "\n",
        "\n"
      ],
      "metadata": {
        "id": "2FJQO_TgJCNA",
        "colab": {
          "base_uri": "https://localhost:8080/"
        },
        "outputId": "ba880d9c-20a1-4b61-e857-420b682f8bec"
      },
      "execution_count": null,
      "outputs": [
        {
          "output_type": "stream",
          "name": "stdout",
          "text": [
            "Dicas para aumentar produtividade: 14 dicas incríveis.\n",
            "71 erros de vocabulário e pronúncia em inglês que você faz\n",
            "Confira as novidades apresentadas no Google I/O 2016\n",
            "A saga do jovem CEO da Dasa\n",
            "diagramas para entender, criar, inovar e empreender: 3\n",
            "SINAIS do FUTURO imediato: #1, internet das coisas\n",
            "Startups matam. E suas vítimas são as empresas que ainda não entendem o que é a Economia do Acesso\n",
            "Por dentro do Nubank, conheça os segredos da fintech mais festejada do país\n",
            "Cinco competências comportamentais para você ser um bom líder\n"
          ]
        }
      ]
    },
    {
      "cell_type": "code",
      "source": [
        "for recommendation in recommendations2:\n",
        "\n",
        "  print(recommendation)"
      ],
      "metadata": {
        "colab": {
          "base_uri": "https://localhost:8080/"
        },
        "id": "TKFvtuDRKlh4",
        "outputId": "8698ab93-d200-41b7-d7cc-e6346972190e"
      },
      "execution_count": null,
      "outputs": [
        {
          "output_type": "stream",
          "name": "stdout",
          "text": [
            "Machine Learning for Designers\n",
            "Being A Developer After 40 - Free Code Camp\n",
            "Machine Learning as a Service: How Data Science Is Hitting the Masses\n",
            "Stream processing, Event sourcing, Reactive, CEP... and making sense of it all - Confluent\n",
            "How Google is Remaking Itself as a \"Machine Learning First\" Company - Backchannel\n",
            "How Google is Remaking Itself as a \"Machine Learning First\" Company - Backchannel\n",
            "Stream processing, Event sourcing, Reactive, CEP... and making sense of it all\n",
            "What 2 Years of Android Development Have Taught Me the Hard Way - Thought's by Aritra Roy\n"
          ]
        }
      ]
    }
  ]
}