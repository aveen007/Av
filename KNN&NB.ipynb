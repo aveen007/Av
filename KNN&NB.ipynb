{
  "cells": [
    {
      "cell_type": "markdown",
      "source": [
        "*Aveen Hussein*"
      ],
      "metadata": {
        "id": "Zc7spJZHgupx"
      }
    },
    {
      "cell_type": "markdown",
      "metadata": {
        "id": "bvdgKvQfeqkL"
      },
      "source": [
        "# Step1: Importing data\n",
        " The dataset consists of mobile features and we aim to estimate a mobile price depending on them."
      ]
    },
    {
      "cell_type": "code",
      "execution_count": 63,
      "metadata": {
        "colab": {
          "base_uri": "https://localhost:8080/"
        },
        "outputId": "9eb4a3d7-03e5-4d6f-ea72-011d8946a590",
        "id": "1sTcUfiTeqkL"
      },
      "outputs": [
        {
          "output_type": "stream",
          "name": "stdout",
          "text": [
            "   battery_power  blue  clock_speed  dual_sim  fc  four_g  int_memory  m_dep  \\\n",
            "0            842     0          2.2         0   1       0           7    0.6   \n",
            "1           1021     1          0.5         1   0       1          53    0.7   \n",
            "2            563     1          0.5         1   2       1          41    0.9   \n",
            "3            615     1          2.5         0   0       0          10    0.8   \n",
            "4           1821     1          1.2         0  13       1          44    0.6   \n",
            "\n",
            "   mobile_wt  n_cores  ...  px_height  px_width   ram  sc_h  sc_w  talk_time  \\\n",
            "0        188        2  ...         20       756  2549     9     7         19   \n",
            "1        136        3  ...        905      1988  2631    17     3          7   \n",
            "2        145        5  ...       1263      1716  2603    11     2          9   \n",
            "3        131        6  ...       1216      1786  2769    16     8         11   \n",
            "4        141        2  ...       1208      1212  1411     8     2         15   \n",
            "\n",
            "   three_g  touch_screen  wifi  price_range  \n",
            "0        0             0     1            1  \n",
            "1        1             1     0            2  \n",
            "2        1             1     0            2  \n",
            "3        1             0     0            2  \n",
            "4        1             1     0            1  \n",
            "\n",
            "[5 rows x 21 columns]\n",
            "battery_power    0\n",
            "blue             0\n",
            "clock_speed      0\n",
            "dual_sim         0\n",
            "fc               0\n",
            "four_g           0\n",
            "int_memory       0\n",
            "m_dep            0\n",
            "mobile_wt        0\n",
            "n_cores          0\n",
            "pc               0\n",
            "px_height        0\n",
            "px_width         0\n",
            "ram              0\n",
            "sc_h             0\n",
            "sc_w             0\n",
            "talk_time        0\n",
            "three_g          0\n",
            "touch_screen     0\n",
            "wifi             0\n",
            "price_range      0\n",
            "dtype: int64\n",
            "battery_power    0\n",
            "blue             0\n",
            "clock_speed      0\n",
            "dual_sim         0\n",
            "fc               0\n",
            "four_g           0\n",
            "int_memory       0\n",
            "m_dep            0\n",
            "mobile_wt        0\n",
            "n_cores          0\n",
            "pc               0\n",
            "px_height        0\n",
            "px_width         0\n",
            "ram              0\n",
            "sc_h             0\n",
            "sc_w             0\n",
            "talk_time        0\n",
            "three_g          0\n",
            "touch_screen     0\n",
            "wifi             0\n",
            "price_range      0\n",
            "dtype: int64\n",
            "       battery_power       blue  clock_speed     dual_sim           fc  \\\n",
            "count    2000.000000  2000.0000  2000.000000  2000.000000  2000.000000   \n",
            "mean     1238.518500     0.4950     1.522250     0.509500     4.309500   \n",
            "std       439.418206     0.5001     0.816004     0.500035     4.341444   \n",
            "min       501.000000     0.0000     0.500000     0.000000     0.000000   \n",
            "25%       851.750000     0.0000     0.700000     0.000000     1.000000   \n",
            "50%      1226.000000     0.0000     1.500000     1.000000     3.000000   \n",
            "75%      1615.250000     1.0000     2.200000     1.000000     7.000000   \n",
            "max      1998.000000     1.0000     3.000000     1.000000    19.000000   \n",
            "\n",
            "            four_g   int_memory        m_dep    mobile_wt      n_cores  ...  \\\n",
            "count  2000.000000  2000.000000  2000.000000  2000.000000  2000.000000  ...   \n",
            "mean      0.521500    32.046500     0.501750   140.249000     4.520500  ...   \n",
            "std       0.499662    18.145715     0.288416    35.399655     2.287837  ...   \n",
            "min       0.000000     2.000000     0.100000    80.000000     1.000000  ...   \n",
            "25%       0.000000    16.000000     0.200000   109.000000     3.000000  ...   \n",
            "50%       1.000000    32.000000     0.500000   141.000000     4.000000  ...   \n",
            "75%       1.000000    48.000000     0.800000   170.000000     7.000000  ...   \n",
            "max       1.000000    64.000000     1.000000   200.000000     8.000000  ...   \n",
            "\n",
            "         px_height     px_width          ram         sc_h         sc_w  \\\n",
            "count  2000.000000  2000.000000  2000.000000  2000.000000  2000.000000   \n",
            "mean    645.108000  1251.515500  2124.213000    12.306500     5.767000   \n",
            "std     443.780811   432.199447  1084.732044     4.213245     4.356398   \n",
            "min       0.000000   500.000000   256.000000     5.000000     0.000000   \n",
            "25%     282.750000   874.750000  1207.500000     9.000000     2.000000   \n",
            "50%     564.000000  1247.000000  2146.500000    12.000000     5.000000   \n",
            "75%     947.250000  1633.000000  3064.500000    16.000000     9.000000   \n",
            "max    1960.000000  1998.000000  3998.000000    19.000000    18.000000   \n",
            "\n",
            "         talk_time      three_g  touch_screen         wifi  price_range  \n",
            "count  2000.000000  2000.000000   2000.000000  2000.000000  2000.000000  \n",
            "mean     11.011000     0.761500      0.503000     0.507000     1.500000  \n",
            "std       5.463955     0.426273      0.500116     0.500076     1.118314  \n",
            "min       2.000000     0.000000      0.000000     0.000000     0.000000  \n",
            "25%       6.000000     1.000000      0.000000     0.000000     0.750000  \n",
            "50%      11.000000     1.000000      1.000000     1.000000     1.500000  \n",
            "75%      16.000000     1.000000      1.000000     1.000000     2.250000  \n",
            "max      20.000000     1.000000      1.000000     1.000000     3.000000  \n",
            "\n",
            "[8 rows x 21 columns]\n"
          ]
        }
      ],
      "source": [
        "import pandas as pd\n",
        "import numpy as np\n",
        "import seaborn as sns\n",
        "import matplotlib.pyplot as plt\n",
        "from sklearn.ensemble import ExtraTreesClassifier\n",
        "from sklearn.model_selection import train_test_split\n",
        "from sklearn.metrics import accuracy_score as acc\n",
        "from sklearn.tree import DecisionTreeClassifier\n",
        "from sklearn.metrics import confusion_matrix\n",
        "# Reading our csv data\n",
        "combine_data= pd.read_csv('/content/drive/MyDrive/Machine Learning/train.csv')\n",
        "print (combine_data.head(5))\n",
        "# null value\n",
        "print (combine_data.isnull().sum())\n",
        "\n",
        "print (combine_data.isnull().sum())\n",
        "# max min mean for each col.....\n",
        "print(combine_data.describe())\n"
      ]
    },
    {
      "cell_type": "code",
      "source": [
        "from google.colab import drive\n",
        "drive.mount('/content/drive')"
      ],
      "metadata": {
        "colab": {
          "base_uri": "https://localhost:8080/"
        },
        "id": "CM82Hsn5ezqn",
        "outputId": "e075ccec-edf6-44be-9ca8-fa6c83fd7085"
      },
      "execution_count": 64,
      "outputs": [
        {
          "output_type": "stream",
          "name": "stdout",
          "text": [
            "Drive already mounted at /content/drive; to attempt to forcibly remount, call drive.mount(\"/content/drive\", force_remount=True).\n"
          ]
        }
      ]
    },
    {
      "cell_type": "markdown",
      "source": [
        "now we can take note that the number of null values was 0 for every feature in this dataset but it doesn't mean that there doesn't exist any missing data which is just represented differently and that is what we will investigate in the Missing data section\n",
        "\n"
      ],
      "metadata": {
        "id": "SXt7tC-rJA1i"
      }
    },
    {
      "cell_type": "markdown",
      "source": [
        "# Step2: Basic cleaning"
      ],
      "metadata": {
        "id": "7tUfAdErt6Ro"
      }
    },
    {
      "cell_type": "code",
      "source": [
        "from sklearn.feature_extraction import DictVectorizer\n",
        "# Importing the SimpleImputer class\n",
        "from sklearn.impute import SimpleImputer"
      ],
      "metadata": {
        "id": "yYzZTY4RD8CL"
      },
      "execution_count": 65,
      "outputs": []
    },
    {
      "cell_type": "code",
      "source": [
        "combine_data.dtypes"
      ],
      "metadata": {
        "colab": {
          "base_uri": "https://localhost:8080/"
        },
        "id": "NcE6cl8DED9Q",
        "outputId": "21a0a4d9-4be7-414a-9b0f-ffd315b6cf9e"
      },
      "execution_count": 66,
      "outputs": [
        {
          "output_type": "execute_result",
          "data": {
            "text/plain": [
              "battery_power      int64\n",
              "blue               int64\n",
              "clock_speed      float64\n",
              "dual_sim           int64\n",
              "fc                 int64\n",
              "four_g             int64\n",
              "int_memory         int64\n",
              "m_dep            float64\n",
              "mobile_wt          int64\n",
              "n_cores            int64\n",
              "pc                 int64\n",
              "px_height          int64\n",
              "px_width           int64\n",
              "ram                int64\n",
              "sc_h               int64\n",
              "sc_w               int64\n",
              "talk_time          int64\n",
              "three_g            int64\n",
              "touch_screen       int64\n",
              "wifi               int64\n",
              "price_range        int64\n",
              "dtype: object"
            ]
          },
          "metadata": {},
          "execution_count": 66
        }
      ]
    },
    {
      "cell_type": "markdown",
      "source": [
        "We see that all the data is int64 except for m_dep and m_cores, which is good as we can see that there are no mixed letters and number values so \"\" was not used to represent nan values for instance"
      ],
      "metadata": {
        "id": "ABtyYVXGEQ-D"
      }
    },
    {
      "cell_type": "markdown",
      "source": [
        "**handeling data types**\n",
        "\n",
        "Id3 algorithm works best with numeric data, and luckily in our case all the data is already numeric. \n",
        "**a brief on how splits are made for numeric data according to the internet**\n",
        "\n",
        "Every split in a decision tree is based on a feature. If the feature is categorical, the split is done with the elements belonging to a particular class. If the feature is contiuous, the split is done with the elements higher than a threshold. At every split, the decision tree will take the best variable at that moment. This will be done according to an impurity measure with the splitted branches. And the fact that the variable used to do split is categorical or continuous is irrelevant (in fact, decision trees categorize contiuous variables by creating binary regions with the threshold).\n",
        "src: https://datascience.stackexchange.com/questions/32622/how-to-make-a-decision-tree-with-both-continuous-and-categorical-variables-in-th"
      ],
      "metadata": {
        "id": "K8QbT7GkxAyN"
      }
    },
    {
      "cell_type": "markdown",
      "source": [
        "#Step3: Missing data"
      ],
      "metadata": {
        "id": "ieP23AAPD45q"
      }
    },
    {
      "cell_type": "markdown",
      "source": [
        "Now we will try to find out if there's any data with zero values that indicate missing data (for instance a mobile with 0 for battary power is likely a case of missing data same goes for multiple columns such as sc_h and sc_w and n_cores and so on)"
      ],
      "metadata": {
        "id": "pTLYOBkUJnby"
      }
    },
    {
      "cell_type": "code",
      "source": [
        "len(combine_data.loc[(combine_data['battery_power']==0) | (combine_data['clock_speed']==0)|(combine_data['int_memory']==0)|\n",
        "                    (combine_data['m_dep']==0)|(combine_data['mobile_wt']==0)|(combine_data['px_height']==0)|\n",
        "                    (combine_data['px_height']==0)|(combine_data['px_width']==0)|(combine_data['ram']==0)|\n",
        "                    ( combine_data['sc_h']==0)|(combine_data['sc_w']==0)|(combine_data['talk_time']==0)])"
      ],
      "metadata": {
        "colab": {
          "base_uri": "https://localhost:8080/"
        },
        "id": "7bvMkXOJL6t9",
        "outputId": "0ee3c5c8-76c0-4f1d-8e11-96051bb70863"
      },
      "execution_count": 67,
      "outputs": [
        {
          "output_type": "execute_result",
          "data": {
            "text/plain": [
              "181"
            ]
          },
          "metadata": {},
          "execution_count": 67
        }
      ]
    },
    {
      "cell_type": "code",
      "source": [
        "len(combine_data)"
      ],
      "metadata": {
        "colab": {
          "base_uri": "https://localhost:8080/"
        },
        "id": "EGztuKH4OySs",
        "outputId": "2db3dfb2-8d94-4262-b740-b7de7e15bd6c"
      },
      "execution_count": 68,
      "outputs": [
        {
          "output_type": "execute_result",
          "data": {
            "text/plain": [
              "2000"
            ]
          },
          "metadata": {},
          "execution_count": 68
        }
      ]
    },
    {
      "cell_type": "markdown",
      "source": [
        "so 181 out of 2000 fields has what we can assume is missing values"
      ],
      "metadata": {
        "id": "I3gPK2PbO4EU"
      }
    },
    {
      "cell_type": "markdown",
      "source": [
        "Now we will remove the rows that do have missing data "
      ],
      "metadata": {
        "id": "mbju6jICPZTF"
      }
    },
    {
      "cell_type": "code",
      "source": [
        "combine_data_no_0=combine_data.loc[(combine_data['battery_power']!=0) & (combine_data['clock_speed']!=0)&(combine_data['int_memory']!=0)&\n",
        "                    (combine_data['m_dep']!=0)&(combine_data['mobile_wt']!=0)&(combine_data['px_height']!=0)&\n",
        "                    (combine_data['px_height']!=0)&(combine_data['px_width']!=0)&(combine_data['ram']!=0)&\n",
        "                    ( combine_data['sc_h']!=0)&(combine_data['sc_w']!=0)&(combine_data['talk_time']!=0)]"
      ],
      "metadata": {
        "id": "54RG6wVDO3g0"
      },
      "execution_count": 69,
      "outputs": []
    },
    {
      "cell_type": "code",
      "source": [
        "len(combine_data_no_0)"
      ],
      "metadata": {
        "id": "fzuoV8uTQUqd",
        "colab": {
          "base_uri": "https://localhost:8080/"
        },
        "outputId": "38596525-57ec-4e24-e474-c1069bcc1581"
      },
      "execution_count": 70,
      "outputs": [
        {
          "output_type": "execute_result",
          "data": {
            "text/plain": [
              "1819"
            ]
          },
          "metadata": {},
          "execution_count": 70
        }
      ]
    },
    {
      "cell_type": "code",
      "source": [
        "imputer = SimpleImputer(missing_values=0,\n",
        "                        strategy='mean')\n"
      ],
      "metadata": {
        "id": "x7nb7gGGHskp"
      },
      "execution_count": 71,
      "outputs": []
    },
    {
      "cell_type": "code",
      "source": [
        "data_to_impute=combine_data[['battery_power','clock_speed','int_memory','m_dep','mobile_wt','px_height','px_width','ram','sc_h','sc_w','talk_time']]"
      ],
      "metadata": {
        "id": "9blsNC_PSNOF"
      },
      "execution_count": 72,
      "outputs": []
    },
    {
      "cell_type": "code",
      "source": [
        "imputer = imputer.fit(data_to_impute)\n",
        "\n",
        "data = imputer.transform(data_to_impute)\n",
        "\n",
        "print(\"Imputed Data : \\n\", data)"
      ],
      "metadata": {
        "colab": {
          "base_uri": "https://localhost:8080/"
        },
        "id": "r_j_7B8NIeBC",
        "outputId": "486b2691-84dc-4c81-fdc1-239ee5be2f89"
      },
      "execution_count": 73,
      "outputs": [
        {
          "output_type": "stream",
          "name": "stdout",
          "text": [
            "Imputed Data : \n",
            " [[8.420e+02 2.200e+00 7.000e+00 ... 9.000e+00 7.000e+00 1.900e+01]\n",
            " [1.021e+03 5.000e-01 5.300e+01 ... 1.700e+01 3.000e+00 7.000e+00]\n",
            " [5.630e+02 5.000e-01 4.100e+01 ... 1.100e+01 2.000e+00 9.000e+00]\n",
            " ...\n",
            " [1.911e+03 9.000e-01 3.600e+01 ... 9.000e+00 1.000e+00 5.000e+00]\n",
            " [1.512e+03 9.000e-01 4.600e+01 ... 1.800e+01 1.000e+01 1.900e+01]\n",
            " [5.100e+02 2.000e+00 4.500e+01 ... 1.900e+01 4.000e+00 2.000e+00]]\n"
          ]
        }
      ]
    },
    {
      "cell_type": "code",
      "source": [
        "imputed=pd.DataFrame(data=data, columns=['battery_power','clock_speed','int_memory','m_dep','mobile_wt','px_height','px_width','ram','sc_h','sc_w','talk_time'])"
      ],
      "metadata": {
        "id": "K3djejGvUB6O"
      },
      "execution_count": 74,
      "outputs": []
    },
    {
      "cell_type": "code",
      "source": [
        "imputed.describe()"
      ],
      "metadata": {
        "colab": {
          "base_uri": "https://localhost:8080/",
          "height": 0
        },
        "id": "X7zuK0CgUmge",
        "outputId": "a024d86e-2889-4418-8168-745976bc94e1"
      },
      "execution_count": 75,
      "outputs": [
        {
          "output_type": "execute_result",
          "data": {
            "text/plain": [
              "       battery_power  clock_speed   int_memory        m_dep    mobile_wt  \\\n",
              "count    2000.000000  2000.000000  2000.000000  2000.000000  2000.000000   \n",
              "mean     1238.518500     1.522250    32.046500     0.501750   140.249000   \n",
              "std       439.418206     0.816004    18.145715     0.288416    35.399655   \n",
              "min       501.000000     0.500000     2.000000     0.100000    80.000000   \n",
              "25%       851.750000     0.700000    16.000000     0.200000   109.000000   \n",
              "50%      1226.000000     1.500000    32.000000     0.500000   141.000000   \n",
              "75%      1615.250000     2.200000    48.000000     0.800000   170.000000   \n",
              "max      1998.000000     3.000000    64.000000     1.000000   200.000000   \n",
              "\n",
              "         px_height     px_width          ram         sc_h         sc_w  \\\n",
              "count  2000.000000  2000.000000  2000.000000  2000.000000  2000.000000   \n",
              "mean    645.753754  1251.515500  2124.213000    12.306500     6.337363   \n",
              "std     443.310973   432.199447  1084.732044     4.213245     3.960716   \n",
              "min       1.000000   500.000000   256.000000     5.000000     1.000000   \n",
              "25%     284.000000   874.750000  1207.500000     9.000000     3.000000   \n",
              "50%     568.000000  1247.000000  2146.500000    12.000000     6.000000   \n",
              "75%     947.250000  1633.000000  3064.500000    16.000000     9.000000   \n",
              "max    1960.000000  1998.000000  3998.000000    19.000000    18.000000   \n",
              "\n",
              "         talk_time  \n",
              "count  2000.000000  \n",
              "mean     11.011000  \n",
              "std       5.463955  \n",
              "min       2.000000  \n",
              "25%       6.000000  \n",
              "50%      11.000000  \n",
              "75%      16.000000  \n",
              "max      20.000000  "
            ],
            "text/html": [
              "\n",
              "  <div id=\"df-8166b1ff-c54f-4210-8302-ade9c3d81eb5\">\n",
              "    <div class=\"colab-df-container\">\n",
              "      <div>\n",
              "<style scoped>\n",
              "    .dataframe tbody tr th:only-of-type {\n",
              "        vertical-align: middle;\n",
              "    }\n",
              "\n",
              "    .dataframe tbody tr th {\n",
              "        vertical-align: top;\n",
              "    }\n",
              "\n",
              "    .dataframe thead th {\n",
              "        text-align: right;\n",
              "    }\n",
              "</style>\n",
              "<table border=\"1\" class=\"dataframe\">\n",
              "  <thead>\n",
              "    <tr style=\"text-align: right;\">\n",
              "      <th></th>\n",
              "      <th>battery_power</th>\n",
              "      <th>clock_speed</th>\n",
              "      <th>int_memory</th>\n",
              "      <th>m_dep</th>\n",
              "      <th>mobile_wt</th>\n",
              "      <th>px_height</th>\n",
              "      <th>px_width</th>\n",
              "      <th>ram</th>\n",
              "      <th>sc_h</th>\n",
              "      <th>sc_w</th>\n",
              "      <th>talk_time</th>\n",
              "    </tr>\n",
              "  </thead>\n",
              "  <tbody>\n",
              "    <tr>\n",
              "      <th>count</th>\n",
              "      <td>2000.000000</td>\n",
              "      <td>2000.000000</td>\n",
              "      <td>2000.000000</td>\n",
              "      <td>2000.000000</td>\n",
              "      <td>2000.000000</td>\n",
              "      <td>2000.000000</td>\n",
              "      <td>2000.000000</td>\n",
              "      <td>2000.000000</td>\n",
              "      <td>2000.000000</td>\n",
              "      <td>2000.000000</td>\n",
              "      <td>2000.000000</td>\n",
              "    </tr>\n",
              "    <tr>\n",
              "      <th>mean</th>\n",
              "      <td>1238.518500</td>\n",
              "      <td>1.522250</td>\n",
              "      <td>32.046500</td>\n",
              "      <td>0.501750</td>\n",
              "      <td>140.249000</td>\n",
              "      <td>645.753754</td>\n",
              "      <td>1251.515500</td>\n",
              "      <td>2124.213000</td>\n",
              "      <td>12.306500</td>\n",
              "      <td>6.337363</td>\n",
              "      <td>11.011000</td>\n",
              "    </tr>\n",
              "    <tr>\n",
              "      <th>std</th>\n",
              "      <td>439.418206</td>\n",
              "      <td>0.816004</td>\n",
              "      <td>18.145715</td>\n",
              "      <td>0.288416</td>\n",
              "      <td>35.399655</td>\n",
              "      <td>443.310973</td>\n",
              "      <td>432.199447</td>\n",
              "      <td>1084.732044</td>\n",
              "      <td>4.213245</td>\n",
              "      <td>3.960716</td>\n",
              "      <td>5.463955</td>\n",
              "    </tr>\n",
              "    <tr>\n",
              "      <th>min</th>\n",
              "      <td>501.000000</td>\n",
              "      <td>0.500000</td>\n",
              "      <td>2.000000</td>\n",
              "      <td>0.100000</td>\n",
              "      <td>80.000000</td>\n",
              "      <td>1.000000</td>\n",
              "      <td>500.000000</td>\n",
              "      <td>256.000000</td>\n",
              "      <td>5.000000</td>\n",
              "      <td>1.000000</td>\n",
              "      <td>2.000000</td>\n",
              "    </tr>\n",
              "    <tr>\n",
              "      <th>25%</th>\n",
              "      <td>851.750000</td>\n",
              "      <td>0.700000</td>\n",
              "      <td>16.000000</td>\n",
              "      <td>0.200000</td>\n",
              "      <td>109.000000</td>\n",
              "      <td>284.000000</td>\n",
              "      <td>874.750000</td>\n",
              "      <td>1207.500000</td>\n",
              "      <td>9.000000</td>\n",
              "      <td>3.000000</td>\n",
              "      <td>6.000000</td>\n",
              "    </tr>\n",
              "    <tr>\n",
              "      <th>50%</th>\n",
              "      <td>1226.000000</td>\n",
              "      <td>1.500000</td>\n",
              "      <td>32.000000</td>\n",
              "      <td>0.500000</td>\n",
              "      <td>141.000000</td>\n",
              "      <td>568.000000</td>\n",
              "      <td>1247.000000</td>\n",
              "      <td>2146.500000</td>\n",
              "      <td>12.000000</td>\n",
              "      <td>6.000000</td>\n",
              "      <td>11.000000</td>\n",
              "    </tr>\n",
              "    <tr>\n",
              "      <th>75%</th>\n",
              "      <td>1615.250000</td>\n",
              "      <td>2.200000</td>\n",
              "      <td>48.000000</td>\n",
              "      <td>0.800000</td>\n",
              "      <td>170.000000</td>\n",
              "      <td>947.250000</td>\n",
              "      <td>1633.000000</td>\n",
              "      <td>3064.500000</td>\n",
              "      <td>16.000000</td>\n",
              "      <td>9.000000</td>\n",
              "      <td>16.000000</td>\n",
              "    </tr>\n",
              "    <tr>\n",
              "      <th>max</th>\n",
              "      <td>1998.000000</td>\n",
              "      <td>3.000000</td>\n",
              "      <td>64.000000</td>\n",
              "      <td>1.000000</td>\n",
              "      <td>200.000000</td>\n",
              "      <td>1960.000000</td>\n",
              "      <td>1998.000000</td>\n",
              "      <td>3998.000000</td>\n",
              "      <td>19.000000</td>\n",
              "      <td>18.000000</td>\n",
              "      <td>20.000000</td>\n",
              "    </tr>\n",
              "  </tbody>\n",
              "</table>\n",
              "</div>\n",
              "      <button class=\"colab-df-convert\" onclick=\"convertToInteractive('df-8166b1ff-c54f-4210-8302-ade9c3d81eb5')\"\n",
              "              title=\"Convert this dataframe to an interactive table.\"\n",
              "              style=\"display:none;\">\n",
              "        \n",
              "  <svg xmlns=\"http://www.w3.org/2000/svg\" height=\"24px\"viewBox=\"0 0 24 24\"\n",
              "       width=\"24px\">\n",
              "    <path d=\"M0 0h24v24H0V0z\" fill=\"none\"/>\n",
              "    <path d=\"M18.56 5.44l.94 2.06.94-2.06 2.06-.94-2.06-.94-.94-2.06-.94 2.06-2.06.94zm-11 1L8.5 8.5l.94-2.06 2.06-.94-2.06-.94L8.5 2.5l-.94 2.06-2.06.94zm10 10l.94 2.06.94-2.06 2.06-.94-2.06-.94-.94-2.06-.94 2.06-2.06.94z\"/><path d=\"M17.41 7.96l-1.37-1.37c-.4-.4-.92-.59-1.43-.59-.52 0-1.04.2-1.43.59L10.3 9.45l-7.72 7.72c-.78.78-.78 2.05 0 2.83L4 21.41c.39.39.9.59 1.41.59.51 0 1.02-.2 1.41-.59l7.78-7.78 2.81-2.81c.8-.78.8-2.07 0-2.86zM5.41 20L4 18.59l7.72-7.72 1.47 1.35L5.41 20z\"/>\n",
              "  </svg>\n",
              "      </button>\n",
              "      \n",
              "  <style>\n",
              "    .colab-df-container {\n",
              "      display:flex;\n",
              "      flex-wrap:wrap;\n",
              "      gap: 12px;\n",
              "    }\n",
              "\n",
              "    .colab-df-convert {\n",
              "      background-color: #E8F0FE;\n",
              "      border: none;\n",
              "      border-radius: 50%;\n",
              "      cursor: pointer;\n",
              "      display: none;\n",
              "      fill: #1967D2;\n",
              "      height: 32px;\n",
              "      padding: 0 0 0 0;\n",
              "      width: 32px;\n",
              "    }\n",
              "\n",
              "    .colab-df-convert:hover {\n",
              "      background-color: #E2EBFA;\n",
              "      box-shadow: 0px 1px 2px rgba(60, 64, 67, 0.3), 0px 1px 3px 1px rgba(60, 64, 67, 0.15);\n",
              "      fill: #174EA6;\n",
              "    }\n",
              "\n",
              "    [theme=dark] .colab-df-convert {\n",
              "      background-color: #3B4455;\n",
              "      fill: #D2E3FC;\n",
              "    }\n",
              "\n",
              "    [theme=dark] .colab-df-convert:hover {\n",
              "      background-color: #434B5C;\n",
              "      box-shadow: 0px 1px 3px 1px rgba(0, 0, 0, 0.15);\n",
              "      filter: drop-shadow(0px 1px 2px rgba(0, 0, 0, 0.3));\n",
              "      fill: #FFFFFF;\n",
              "    }\n",
              "  </style>\n",
              "\n",
              "      <script>\n",
              "        const buttonEl =\n",
              "          document.querySelector('#df-8166b1ff-c54f-4210-8302-ade9c3d81eb5 button.colab-df-convert');\n",
              "        buttonEl.style.display =\n",
              "          google.colab.kernel.accessAllowed ? 'block' : 'none';\n",
              "\n",
              "        async function convertToInteractive(key) {\n",
              "          const element = document.querySelector('#df-8166b1ff-c54f-4210-8302-ade9c3d81eb5');\n",
              "          const dataTable =\n",
              "            await google.colab.kernel.invokeFunction('convertToInteractive',\n",
              "                                                     [key], {});\n",
              "          if (!dataTable) return;\n",
              "\n",
              "          const docLinkHtml = 'Like what you see? Visit the ' +\n",
              "            '<a target=\"_blank\" href=https://colab.research.google.com/notebooks/data_table.ipynb>data table notebook</a>'\n",
              "            + ' to learn more about interactive tables.';\n",
              "          element.innerHTML = '';\n",
              "          dataTable['output_type'] = 'display_data';\n",
              "          await google.colab.output.renderOutput(dataTable, element);\n",
              "          const docLink = document.createElement('div');\n",
              "          docLink.innerHTML = docLinkHtml;\n",
              "          element.appendChild(docLink);\n",
              "        }\n",
              "      </script>\n",
              "    </div>\n",
              "  </div>\n",
              "  "
            ]
          },
          "metadata": {},
          "execution_count": 75
        }
      ]
    },
    {
      "cell_type": "code",
      "source": [
        "data_to_keep=combine_data.drop(['battery_power','clock_speed','int_memory','m_dep','mobile_wt','px_height','px_width','ram','sc_h','sc_w','talk_time'],axis=1)"
      ],
      "metadata": {
        "id": "kUKcawejAf_l"
      },
      "execution_count": 76,
      "outputs": []
    },
    {
      "cell_type": "code",
      "source": [
        "All_data=pd.concat([imputed,data_to_keep],axis=1)"
      ],
      "metadata": {
        "id": "-sCLo_DITO--"
      },
      "execution_count": 77,
      "outputs": []
    },
    {
      "cell_type": "code",
      "source": [
        "All_data.describe()"
      ],
      "metadata": {
        "colab": {
          "base_uri": "https://localhost:8080/",
          "height": 0
        },
        "id": "e2bvD43-Wdd9",
        "outputId": "e16723f2-799f-48c3-8828-eaec49fab0dd"
      },
      "execution_count": 78,
      "outputs": [
        {
          "output_type": "execute_result",
          "data": {
            "text/plain": [
              "       battery_power  clock_speed   int_memory        m_dep    mobile_wt  \\\n",
              "count    2000.000000  2000.000000  2000.000000  2000.000000  2000.000000   \n",
              "mean     1238.518500     1.522250    32.046500     0.501750   140.249000   \n",
              "std       439.418206     0.816004    18.145715     0.288416    35.399655   \n",
              "min       501.000000     0.500000     2.000000     0.100000    80.000000   \n",
              "25%       851.750000     0.700000    16.000000     0.200000   109.000000   \n",
              "50%      1226.000000     1.500000    32.000000     0.500000   141.000000   \n",
              "75%      1615.250000     2.200000    48.000000     0.800000   170.000000   \n",
              "max      1998.000000     3.000000    64.000000     1.000000   200.000000   \n",
              "\n",
              "         px_height     px_width          ram         sc_h         sc_w  ...  \\\n",
              "count  2000.000000  2000.000000  2000.000000  2000.000000  2000.000000  ...   \n",
              "mean    645.753754  1251.515500  2124.213000    12.306500     6.337363  ...   \n",
              "std     443.310973   432.199447  1084.732044     4.213245     3.960716  ...   \n",
              "min       1.000000   500.000000   256.000000     5.000000     1.000000  ...   \n",
              "25%     284.000000   874.750000  1207.500000     9.000000     3.000000  ...   \n",
              "50%     568.000000  1247.000000  2146.500000    12.000000     6.000000  ...   \n",
              "75%     947.250000  1633.000000  3064.500000    16.000000     9.000000  ...   \n",
              "max    1960.000000  1998.000000  3998.000000    19.000000    18.000000  ...   \n",
              "\n",
              "            blue     dual_sim           fc       four_g      n_cores  \\\n",
              "count  2000.0000  2000.000000  2000.000000  2000.000000  2000.000000   \n",
              "mean      0.4950     0.509500     4.309500     0.521500     4.520500   \n",
              "std       0.5001     0.500035     4.341444     0.499662     2.287837   \n",
              "min       0.0000     0.000000     0.000000     0.000000     1.000000   \n",
              "25%       0.0000     0.000000     1.000000     0.000000     3.000000   \n",
              "50%       0.0000     1.000000     3.000000     1.000000     4.000000   \n",
              "75%       1.0000     1.000000     7.000000     1.000000     7.000000   \n",
              "max       1.0000     1.000000    19.000000     1.000000     8.000000   \n",
              "\n",
              "                pc      three_g  touch_screen         wifi  price_range  \n",
              "count  2000.000000  2000.000000   2000.000000  2000.000000  2000.000000  \n",
              "mean      9.916500     0.761500      0.503000     0.507000     1.500000  \n",
              "std       6.064315     0.426273      0.500116     0.500076     1.118314  \n",
              "min       0.000000     0.000000      0.000000     0.000000     0.000000  \n",
              "25%       5.000000     1.000000      0.000000     0.000000     0.750000  \n",
              "50%      10.000000     1.000000      1.000000     1.000000     1.500000  \n",
              "75%      15.000000     1.000000      1.000000     1.000000     2.250000  \n",
              "max      20.000000     1.000000      1.000000     1.000000     3.000000  \n",
              "\n",
              "[8 rows x 21 columns]"
            ],
            "text/html": [
              "\n",
              "  <div id=\"df-22b82d91-da4c-4322-ab3f-6a1e4aa40105\">\n",
              "    <div class=\"colab-df-container\">\n",
              "      <div>\n",
              "<style scoped>\n",
              "    .dataframe tbody tr th:only-of-type {\n",
              "        vertical-align: middle;\n",
              "    }\n",
              "\n",
              "    .dataframe tbody tr th {\n",
              "        vertical-align: top;\n",
              "    }\n",
              "\n",
              "    .dataframe thead th {\n",
              "        text-align: right;\n",
              "    }\n",
              "</style>\n",
              "<table border=\"1\" class=\"dataframe\">\n",
              "  <thead>\n",
              "    <tr style=\"text-align: right;\">\n",
              "      <th></th>\n",
              "      <th>battery_power</th>\n",
              "      <th>clock_speed</th>\n",
              "      <th>int_memory</th>\n",
              "      <th>m_dep</th>\n",
              "      <th>mobile_wt</th>\n",
              "      <th>px_height</th>\n",
              "      <th>px_width</th>\n",
              "      <th>ram</th>\n",
              "      <th>sc_h</th>\n",
              "      <th>sc_w</th>\n",
              "      <th>...</th>\n",
              "      <th>blue</th>\n",
              "      <th>dual_sim</th>\n",
              "      <th>fc</th>\n",
              "      <th>four_g</th>\n",
              "      <th>n_cores</th>\n",
              "      <th>pc</th>\n",
              "      <th>three_g</th>\n",
              "      <th>touch_screen</th>\n",
              "      <th>wifi</th>\n",
              "      <th>price_range</th>\n",
              "    </tr>\n",
              "  </thead>\n",
              "  <tbody>\n",
              "    <tr>\n",
              "      <th>count</th>\n",
              "      <td>2000.000000</td>\n",
              "      <td>2000.000000</td>\n",
              "      <td>2000.000000</td>\n",
              "      <td>2000.000000</td>\n",
              "      <td>2000.000000</td>\n",
              "      <td>2000.000000</td>\n",
              "      <td>2000.000000</td>\n",
              "      <td>2000.000000</td>\n",
              "      <td>2000.000000</td>\n",
              "      <td>2000.000000</td>\n",
              "      <td>...</td>\n",
              "      <td>2000.0000</td>\n",
              "      <td>2000.000000</td>\n",
              "      <td>2000.000000</td>\n",
              "      <td>2000.000000</td>\n",
              "      <td>2000.000000</td>\n",
              "      <td>2000.000000</td>\n",
              "      <td>2000.000000</td>\n",
              "      <td>2000.000000</td>\n",
              "      <td>2000.000000</td>\n",
              "      <td>2000.000000</td>\n",
              "    </tr>\n",
              "    <tr>\n",
              "      <th>mean</th>\n",
              "      <td>1238.518500</td>\n",
              "      <td>1.522250</td>\n",
              "      <td>32.046500</td>\n",
              "      <td>0.501750</td>\n",
              "      <td>140.249000</td>\n",
              "      <td>645.753754</td>\n",
              "      <td>1251.515500</td>\n",
              "      <td>2124.213000</td>\n",
              "      <td>12.306500</td>\n",
              "      <td>6.337363</td>\n",
              "      <td>...</td>\n",
              "      <td>0.4950</td>\n",
              "      <td>0.509500</td>\n",
              "      <td>4.309500</td>\n",
              "      <td>0.521500</td>\n",
              "      <td>4.520500</td>\n",
              "      <td>9.916500</td>\n",
              "      <td>0.761500</td>\n",
              "      <td>0.503000</td>\n",
              "      <td>0.507000</td>\n",
              "      <td>1.500000</td>\n",
              "    </tr>\n",
              "    <tr>\n",
              "      <th>std</th>\n",
              "      <td>439.418206</td>\n",
              "      <td>0.816004</td>\n",
              "      <td>18.145715</td>\n",
              "      <td>0.288416</td>\n",
              "      <td>35.399655</td>\n",
              "      <td>443.310973</td>\n",
              "      <td>432.199447</td>\n",
              "      <td>1084.732044</td>\n",
              "      <td>4.213245</td>\n",
              "      <td>3.960716</td>\n",
              "      <td>...</td>\n",
              "      <td>0.5001</td>\n",
              "      <td>0.500035</td>\n",
              "      <td>4.341444</td>\n",
              "      <td>0.499662</td>\n",
              "      <td>2.287837</td>\n",
              "      <td>6.064315</td>\n",
              "      <td>0.426273</td>\n",
              "      <td>0.500116</td>\n",
              "      <td>0.500076</td>\n",
              "      <td>1.118314</td>\n",
              "    </tr>\n",
              "    <tr>\n",
              "      <th>min</th>\n",
              "      <td>501.000000</td>\n",
              "      <td>0.500000</td>\n",
              "      <td>2.000000</td>\n",
              "      <td>0.100000</td>\n",
              "      <td>80.000000</td>\n",
              "      <td>1.000000</td>\n",
              "      <td>500.000000</td>\n",
              "      <td>256.000000</td>\n",
              "      <td>5.000000</td>\n",
              "      <td>1.000000</td>\n",
              "      <td>...</td>\n",
              "      <td>0.0000</td>\n",
              "      <td>0.000000</td>\n",
              "      <td>0.000000</td>\n",
              "      <td>0.000000</td>\n",
              "      <td>1.000000</td>\n",
              "      <td>0.000000</td>\n",
              "      <td>0.000000</td>\n",
              "      <td>0.000000</td>\n",
              "      <td>0.000000</td>\n",
              "      <td>0.000000</td>\n",
              "    </tr>\n",
              "    <tr>\n",
              "      <th>25%</th>\n",
              "      <td>851.750000</td>\n",
              "      <td>0.700000</td>\n",
              "      <td>16.000000</td>\n",
              "      <td>0.200000</td>\n",
              "      <td>109.000000</td>\n",
              "      <td>284.000000</td>\n",
              "      <td>874.750000</td>\n",
              "      <td>1207.500000</td>\n",
              "      <td>9.000000</td>\n",
              "      <td>3.000000</td>\n",
              "      <td>...</td>\n",
              "      <td>0.0000</td>\n",
              "      <td>0.000000</td>\n",
              "      <td>1.000000</td>\n",
              "      <td>0.000000</td>\n",
              "      <td>3.000000</td>\n",
              "      <td>5.000000</td>\n",
              "      <td>1.000000</td>\n",
              "      <td>0.000000</td>\n",
              "      <td>0.000000</td>\n",
              "      <td>0.750000</td>\n",
              "    </tr>\n",
              "    <tr>\n",
              "      <th>50%</th>\n",
              "      <td>1226.000000</td>\n",
              "      <td>1.500000</td>\n",
              "      <td>32.000000</td>\n",
              "      <td>0.500000</td>\n",
              "      <td>141.000000</td>\n",
              "      <td>568.000000</td>\n",
              "      <td>1247.000000</td>\n",
              "      <td>2146.500000</td>\n",
              "      <td>12.000000</td>\n",
              "      <td>6.000000</td>\n",
              "      <td>...</td>\n",
              "      <td>0.0000</td>\n",
              "      <td>1.000000</td>\n",
              "      <td>3.000000</td>\n",
              "      <td>1.000000</td>\n",
              "      <td>4.000000</td>\n",
              "      <td>10.000000</td>\n",
              "      <td>1.000000</td>\n",
              "      <td>1.000000</td>\n",
              "      <td>1.000000</td>\n",
              "      <td>1.500000</td>\n",
              "    </tr>\n",
              "    <tr>\n",
              "      <th>75%</th>\n",
              "      <td>1615.250000</td>\n",
              "      <td>2.200000</td>\n",
              "      <td>48.000000</td>\n",
              "      <td>0.800000</td>\n",
              "      <td>170.000000</td>\n",
              "      <td>947.250000</td>\n",
              "      <td>1633.000000</td>\n",
              "      <td>3064.500000</td>\n",
              "      <td>16.000000</td>\n",
              "      <td>9.000000</td>\n",
              "      <td>...</td>\n",
              "      <td>1.0000</td>\n",
              "      <td>1.000000</td>\n",
              "      <td>7.000000</td>\n",
              "      <td>1.000000</td>\n",
              "      <td>7.000000</td>\n",
              "      <td>15.000000</td>\n",
              "      <td>1.000000</td>\n",
              "      <td>1.000000</td>\n",
              "      <td>1.000000</td>\n",
              "      <td>2.250000</td>\n",
              "    </tr>\n",
              "    <tr>\n",
              "      <th>max</th>\n",
              "      <td>1998.000000</td>\n",
              "      <td>3.000000</td>\n",
              "      <td>64.000000</td>\n",
              "      <td>1.000000</td>\n",
              "      <td>200.000000</td>\n",
              "      <td>1960.000000</td>\n",
              "      <td>1998.000000</td>\n",
              "      <td>3998.000000</td>\n",
              "      <td>19.000000</td>\n",
              "      <td>18.000000</td>\n",
              "      <td>...</td>\n",
              "      <td>1.0000</td>\n",
              "      <td>1.000000</td>\n",
              "      <td>19.000000</td>\n",
              "      <td>1.000000</td>\n",
              "      <td>8.000000</td>\n",
              "      <td>20.000000</td>\n",
              "      <td>1.000000</td>\n",
              "      <td>1.000000</td>\n",
              "      <td>1.000000</td>\n",
              "      <td>3.000000</td>\n",
              "    </tr>\n",
              "  </tbody>\n",
              "</table>\n",
              "<p>8 rows × 21 columns</p>\n",
              "</div>\n",
              "      <button class=\"colab-df-convert\" onclick=\"convertToInteractive('df-22b82d91-da4c-4322-ab3f-6a1e4aa40105')\"\n",
              "              title=\"Convert this dataframe to an interactive table.\"\n",
              "              style=\"display:none;\">\n",
              "        \n",
              "  <svg xmlns=\"http://www.w3.org/2000/svg\" height=\"24px\"viewBox=\"0 0 24 24\"\n",
              "       width=\"24px\">\n",
              "    <path d=\"M0 0h24v24H0V0z\" fill=\"none\"/>\n",
              "    <path d=\"M18.56 5.44l.94 2.06.94-2.06 2.06-.94-2.06-.94-.94-2.06-.94 2.06-2.06.94zm-11 1L8.5 8.5l.94-2.06 2.06-.94-2.06-.94L8.5 2.5l-.94 2.06-2.06.94zm10 10l.94 2.06.94-2.06 2.06-.94-2.06-.94-.94-2.06-.94 2.06-2.06.94z\"/><path d=\"M17.41 7.96l-1.37-1.37c-.4-.4-.92-.59-1.43-.59-.52 0-1.04.2-1.43.59L10.3 9.45l-7.72 7.72c-.78.78-.78 2.05 0 2.83L4 21.41c.39.39.9.59 1.41.59.51 0 1.02-.2 1.41-.59l7.78-7.78 2.81-2.81c.8-.78.8-2.07 0-2.86zM5.41 20L4 18.59l7.72-7.72 1.47 1.35L5.41 20z\"/>\n",
              "  </svg>\n",
              "      </button>\n",
              "      \n",
              "  <style>\n",
              "    .colab-df-container {\n",
              "      display:flex;\n",
              "      flex-wrap:wrap;\n",
              "      gap: 12px;\n",
              "    }\n",
              "\n",
              "    .colab-df-convert {\n",
              "      background-color: #E8F0FE;\n",
              "      border: none;\n",
              "      border-radius: 50%;\n",
              "      cursor: pointer;\n",
              "      display: none;\n",
              "      fill: #1967D2;\n",
              "      height: 32px;\n",
              "      padding: 0 0 0 0;\n",
              "      width: 32px;\n",
              "    }\n",
              "\n",
              "    .colab-df-convert:hover {\n",
              "      background-color: #E2EBFA;\n",
              "      box-shadow: 0px 1px 2px rgba(60, 64, 67, 0.3), 0px 1px 3px 1px rgba(60, 64, 67, 0.15);\n",
              "      fill: #174EA6;\n",
              "    }\n",
              "\n",
              "    [theme=dark] .colab-df-convert {\n",
              "      background-color: #3B4455;\n",
              "      fill: #D2E3FC;\n",
              "    }\n",
              "\n",
              "    [theme=dark] .colab-df-convert:hover {\n",
              "      background-color: #434B5C;\n",
              "      box-shadow: 0px 1px 3px 1px rgba(0, 0, 0, 0.15);\n",
              "      filter: drop-shadow(0px 1px 2px rgba(0, 0, 0, 0.3));\n",
              "      fill: #FFFFFF;\n",
              "    }\n",
              "  </style>\n",
              "\n",
              "      <script>\n",
              "        const buttonEl =\n",
              "          document.querySelector('#df-22b82d91-da4c-4322-ab3f-6a1e4aa40105 button.colab-df-convert');\n",
              "        buttonEl.style.display =\n",
              "          google.colab.kernel.accessAllowed ? 'block' : 'none';\n",
              "\n",
              "        async function convertToInteractive(key) {\n",
              "          const element = document.querySelector('#df-22b82d91-da4c-4322-ab3f-6a1e4aa40105');\n",
              "          const dataTable =\n",
              "            await google.colab.kernel.invokeFunction('convertToInteractive',\n",
              "                                                     [key], {});\n",
              "          if (!dataTable) return;\n",
              "\n",
              "          const docLinkHtml = 'Like what you see? Visit the ' +\n",
              "            '<a target=\"_blank\" href=https://colab.research.google.com/notebooks/data_table.ipynb>data table notebook</a>'\n",
              "            + ' to learn more about interactive tables.';\n",
              "          element.innerHTML = '';\n",
              "          dataTable['output_type'] = 'display_data';\n",
              "          await google.colab.output.renderOutput(dataTable, element);\n",
              "          const docLink = document.createElement('div');\n",
              "          docLink.innerHTML = docLinkHtml;\n",
              "          element.appendChild(docLink);\n",
              "        }\n",
              "      </script>\n",
              "    </div>\n",
              "  </div>\n",
              "  "
            ]
          },
          "metadata": {},
          "execution_count": 78
        }
      ]
    },
    {
      "cell_type": "code",
      "source": [
        "len(All_data.loc[(All_data['battery_power']==0) | (All_data['clock_speed']==0)|(All_data['int_memory']==0)|\n",
        "                    (All_data['m_dep']==0)|(All_data['mobile_wt']==0)|(All_data['px_height']==0)|\n",
        "                    (All_data['px_height']==0)|(All_data['px_width']==0)|(All_data['ram']==0)|\n",
        "                    ( All_data['sc_h']==0)|(All_data['sc_w']==0)|(All_data['talk_time']==0)])"
      ],
      "metadata": {
        "colab": {
          "base_uri": "https://localhost:8080/"
        },
        "id": "uqlkHlNhVo-X",
        "outputId": "131430f0-7728-422c-96cb-d032a2021440"
      },
      "execution_count": 79,
      "outputs": [
        {
          "output_type": "execute_result",
          "data": {
            "text/plain": [
              "0"
            ]
          },
          "metadata": {},
          "execution_count": 79
        }
      ]
    },
    {
      "cell_type": "markdown",
      "source": [
        "As we can see all the 0 values are successfully replaced with imputed values which are calculated using the mean of all the data in the same column"
      ],
      "metadata": {
        "id": "XdhqgOGGW0Hl"
      }
    },
    {
      "cell_type": "markdown",
      "metadata": {
        "id": "mi8VkREUeqkS"
      },
      "source": [
        "**as we can see there are no null values in the data, so there is no need to drop them**"
      ]
    },
    {
      "cell_type": "markdown",
      "metadata": {
        "id": "N1HGmHVn3OXJ"
      },
      "source": [
        "# Step5: Data analysis"
      ]
    },
    {
      "cell_type": "markdown",
      "source": [
        "detecting outliers using IQR, model performance can be improved by handling noisy data."
      ],
      "metadata": {
        "id": "KPP3xv408zew"
      }
    },
    {
      "cell_type": "code",
      "source": [
        "def impute_outliers_IQR(df):\n",
        "   q1=df.quantile(0.25)\n",
        "   q3=df.quantile(0.75)\n",
        "   IQR=q3-q1\n",
        "   upper = df[~(df>(q3+1.5*IQR))].max()\n",
        "   lower = df[~(df<(q1-1.5*IQR))].min()\n",
        "   indices=list(df.index[(df<lower)|(df>upper)])\n",
        "   df = np.where(df > upper,\n",
        "       df.mean(),\n",
        "       np.where(\n",
        "           \n",
        "           df < lower,\n",
        "           df.mean(),\n",
        "           df\n",
        "           )\n",
        "       )\n",
        "   print(indices)\n",
        "   return df"
      ],
      "metadata": {
        "id": "6OtMR1-H-SdZ"
      },
      "execution_count": 80,
      "outputs": []
    },
    {
      "cell_type": "code",
      "source": [
        "columns =['battery_power','clock_speed','int_memory','m_dep','mobile_wt','px_height','px_height','px_width','ram','sc_h','sc_w','talk_time']\n",
        " \n",
        "# Iterate over column names\n",
        "for column in columns:\n",
        "     \n",
        "    All_data[column] = impute_outliers_IQR(All_data[column])"
      ],
      "metadata": {
        "colab": {
          "base_uri": "https://localhost:8080/"
        },
        "id": "KCkVRZLI-Z-A",
        "outputId": "4c2d4c9a-af1b-4153-81e6-6e8653cc1f81"
      },
      "execution_count": 81,
      "outputs": [
        {
          "output_type": "stream",
          "name": "stdout",
          "text": [
            "[]\n",
            "[]\n",
            "[]\n",
            "[]\n",
            "[]\n",
            "[988, 1771]\n",
            "[]\n",
            "[]\n",
            "[]\n",
            "[]\n",
            "[]\n",
            "[]\n"
          ]
        }
      ]
    },
    {
      "cell_type": "code",
      "execution_count": 82,
      "metadata": {
        "colab": {
          "base_uri": "https://localhost:8080/"
        },
        "outputId": "13fc3398-9db5-4750-ca32-156a8cbaef58",
        "id": "IXj3IRai3OXK"
      },
      "outputs": [
        {
          "output_type": "stream",
          "name": "stdout",
          "text": [
            "(1600, 20)\n",
            "(400, 20)\n"
          ]
        }
      ],
      "source": [
        "# split data\n",
        "X_train, X_test, y_train, y_test = train_test_split(\n",
        "   All_data.iloc[:,:-1],\n",
        "    All_data.iloc[:,-1],\n",
        "    test_size=0.2,\n",
        "    random_state=0)\n",
        "# #size for test and train\n",
        "print(X_train.shape)\n",
        "\n",
        "print(X_test.shape)"
      ]
    },
    {
      "cell_type": "markdown",
      "metadata": {
        "id": "HRKjENEC69PK"
      },
      "source": [
        "as to be expected, the corrolation between ram and mobile price appears to be the highest, followed by battary_power"
      ]
    },
    {
      "cell_type": "markdown",
      "source": [
        "some features may have useful meanings to add to the model when combined with other features, and since we only have 21 features to begin with then creating combinations of features should be computationally feasible"
      ],
      "metadata": {
        "id": "EEEcqHZdTlKh"
      }
    },
    {
      "cell_type": "code",
      "source": [
        "from itertools import combinations\n",
        "from sklearn.preprocessing import PolynomialFeatures\n",
        "\n",
        "def add_interactions(df):\n",
        "  # Get feature names\n",
        "  combos = list(combinations(list(df.columns), 2))\n",
        "  colnames = list(df.columns) + ['_'.join(x) for x in combos]\n",
        "\n",
        "  # Find interactions\n",
        "  poly = PolynomialFeatures(interaction_only=True, include_bias=False)\n",
        "  df = poly.fit_transform(df)\n",
        "  df = pd.DataFrame(df)\n",
        "  df.columns = colnames\n",
        "\n",
        "  # Remove interaction terms with all 0 values            \n",
        "  noint_indicies = [i for i, x in enumerate(list((df == 0).all())) if x]\n",
        "  df = df.drop(df.columns[noint_indicies], axis=1)\n",
        "\n",
        "  return df\n",
        "X=All_data.iloc[:,:-1]\n",
        "X = add_interactions(X)\n",
        "print(X.head())"
      ],
      "metadata": {
        "colab": {
          "base_uri": "https://localhost:8080/"
        },
        "id": "R0RDPPlHSekH",
        "outputId": "7c75e6b3-b6e0-4150-bae1-d5152e446e99"
      },
      "execution_count": 83,
      "outputs": [
        {
          "output_type": "stream",
          "name": "stdout",
          "text": [
            "   battery_power  clock_speed  int_memory  m_dep  mobile_wt  px_height  \\\n",
            "0          842.0          2.2         7.0    0.6      188.0       20.0   \n",
            "1         1021.0          0.5        53.0    0.7      136.0      905.0   \n",
            "2          563.0          0.5        41.0    0.9      145.0     1263.0   \n",
            "3          615.0          2.5        10.0    0.8      131.0     1216.0   \n",
            "4         1821.0          1.2        44.0    0.6      141.0     1208.0   \n",
            "\n",
            "   px_width     ram  sc_h  sc_w  ...  n_cores_pc  n_cores_three_g  \\\n",
            "0     756.0  2549.0   9.0   7.0  ...         4.0              0.0   \n",
            "1    1988.0  2631.0  17.0   3.0  ...        18.0              3.0   \n",
            "2    1716.0  2603.0  11.0   2.0  ...        30.0              5.0   \n",
            "3    1786.0  2769.0  16.0   8.0  ...        54.0              6.0   \n",
            "4    1212.0  1411.0   8.0   2.0  ...        28.0              2.0   \n",
            "\n",
            "   n_cores_touch_screen  n_cores_wifi  pc_three_g  pc_touch_screen  pc_wifi  \\\n",
            "0                   0.0           2.0         0.0              0.0      2.0   \n",
            "1                   3.0           0.0         6.0              6.0      0.0   \n",
            "2                   5.0           0.0         6.0              6.0      0.0   \n",
            "3                   0.0           0.0         9.0              0.0      0.0   \n",
            "4                   2.0           0.0        14.0             14.0      0.0   \n",
            "\n",
            "   three_g_touch_screen  three_g_wifi  touch_screen_wifi  \n",
            "0                   0.0           0.0                0.0  \n",
            "1                   1.0           0.0                0.0  \n",
            "2                   1.0           0.0                0.0  \n",
            "3                   0.0           0.0                0.0  \n",
            "4                   1.0           0.0                0.0  \n",
            "\n",
            "[5 rows x 210 columns]\n"
          ]
        }
      ]
    },
    {
      "cell_type": "code",
      "source": [
        "# split data\n",
        "X_trainselected1, X_testselected1, y_train, y_test = train_test_split(\n",
        "   X,\n",
        "    All_data.iloc[:,-1],\n",
        "    test_size=0.2,\n",
        "    random_state=0)\n",
        "# #size for test and train\n",
        "print(X_trainselected1.shape)\n",
        "\n",
        "print(X_testselected1.shape)"
      ],
      "metadata": {
        "colab": {
          "base_uri": "https://localhost:8080/"
        },
        "id": "ZDAsCLHLUcvO",
        "outputId": "03e604bf-4ba6-4df9-91c9-79c5a69994b8"
      },
      "execution_count": 84,
      "outputs": [
        {
          "output_type": "stream",
          "name": "stdout",
          "text": [
            "(1600, 210)\n",
            "(400, 210)\n"
          ]
        }
      ]
    },
    {
      "cell_type": "markdown",
      "source": [
        "# Step6: Feature selection"
      ],
      "metadata": {
        "id": "o8jAG74SU-iH"
      }
    },
    {
      "cell_type": "markdown",
      "source": [
        "Now we prepare the data for training\n",
        "firstly, by splitting it into training and testing sets"
      ],
      "metadata": {
        "id": "Re6zgpIKYrfF"
      }
    },
    {
      "cell_type": "markdown",
      "source": [
        "we will go for a simple method of selecting the k-best features"
      ],
      "metadata": {
        "id": "O-XjrjKoWH1P"
      }
    },
    {
      "cell_type": "code",
      "source": [
        "import sklearn.feature_selection\n",
        "# Create and fit selector\n",
        "selector = sklearn.feature_selection.SelectKBest( k=20)\n",
        "selected_features=selector.fit(X_trainselected1, y_train)\n",
        "# Get columns to keep and create new dataframe with those only\n",
        "cols_indices = selected_features.get_support(indices=True)\n",
        "\n",
        "cols_selected=[X.columns[i] for i in cols_indices]\n",
        "X_trainselected=X_trainselected1[cols_selected]\n",
        "X_testselected=X_testselected1[cols_selected]\n"
      ],
      "metadata": {
        "id": "G0f7oR4NWHAn"
      },
      "execution_count": 85,
      "outputs": []
    },
    {
      "cell_type": "code",
      "source": [
        "print(cols_selected)"
      ],
      "metadata": {
        "colab": {
          "base_uri": "https://localhost:8080/"
        },
        "id": "eMOxVWhocBXk",
        "outputId": "60dcbbf8-0d3e-48ba-f127-0d6e6ae3bee0"
      },
      "execution_count": 86,
      "outputs": [
        {
          "output_type": "stream",
          "name": "stdout",
          "text": [
            "['ram', 'battery_power_ram', 'clock_speed_ram', 'int_memory_ram', 'm_dep_ram', 'mobile_wt_ram', 'px_height_ram', 'px_width_ram', 'ram_sc_h', 'ram_sc_w', 'ram_talk_time', 'ram_blue', 'ram_dual_sim', 'ram_fc', 'ram_four_g', 'ram_n_cores', 'ram_pc', 'ram_three_g', 'ram_touch_screen', 'ram_wifi']\n"
          ]
        }
      ]
    },
    {
      "cell_type": "markdown",
      "metadata": {
        "id": "QpqmBRxW3_6B"
      },
      "source": [
        "# Training"
      ]
    },
    {
      "cell_type": "code",
      "source": [
        "import random\n",
        "from sklearn.neighbors import KNeighborsClassifier\n",
        "from sklearn.metrics import confusion_matrix\n",
        "import matplotlib.pyplot as plt\n",
        "knn = KNeighborsClassifier(n_neighbors=10)"
      ],
      "metadata": {
        "id": "FBIzdJXrc-Ut"
      },
      "execution_count": 87,
      "outputs": []
    },
    {
      "cell_type": "markdown",
      "source": [
        "*unprocessed data*"
      ],
      "metadata": {
        "id": "0N7cqrSF4dhn"
      }
    },
    {
      "cell_type": "code",
      "source": [
        "knn.fit(X_train, y_train)\n"
      ],
      "metadata": {
        "colab": {
          "base_uri": "https://localhost:8080/"
        },
        "id": "Tbd-pPKXc4V2",
        "outputId": "80451c93-6e25-4301-df33-e63446743fb7"
      },
      "execution_count": 88,
      "outputs": [
        {
          "output_type": "execute_result",
          "data": {
            "text/plain": [
              "KNeighborsClassifier(n_neighbors=10)"
            ]
          },
          "metadata": {},
          "execution_count": 88
        }
      ]
    },
    {
      "cell_type": "code",
      "source": [
        "prediction=knn.predict(X_test)"
      ],
      "metadata": {
        "id": "G-XozvKzR59J"
      },
      "execution_count": 89,
      "outputs": []
    },
    {
      "cell_type": "code",
      "source": [
        "from sklearn.metrics._plot.confusion_matrix import plot_confusion_matrix\n",
        "\n",
        "plot_confusion_matrix(knn,X_test,y_test)"
      ],
      "metadata": {
        "colab": {
          "base_uri": "https://localhost:8080/",
          "height": 355
        },
        "id": "xhkMqPW-dZ41",
        "outputId": "da64478d-1427-4b68-9350-0f2ae2eeb41d"
      },
      "execution_count": 90,
      "outputs": [
        {
          "output_type": "stream",
          "name": "stderr",
          "text": [
            "/usr/local/lib/python3.8/dist-packages/sklearn/utils/deprecation.py:87: FutureWarning: Function plot_confusion_matrix is deprecated; Function `plot_confusion_matrix` is deprecated in 1.0 and will be removed in 1.2. Use one of the class methods: ConfusionMatrixDisplay.from_predictions or ConfusionMatrixDisplay.from_estimator.\n",
            "  warnings.warn(msg, category=FutureWarning)\n"
          ]
        },
        {
          "output_type": "execute_result",
          "data": {
            "text/plain": [
              "<sklearn.metrics._plot.confusion_matrix.ConfusionMatrixDisplay at 0x7fdf3d967400>"
            ]
          },
          "metadata": {},
          "execution_count": 90
        },
        {
          "output_type": "display_data",
          "data": {
            "text/plain": [
              "<Figure size 432x288 with 2 Axes>"
            ],
            "image/png": "[encoded data removed]"
          },
          "metadata": {
            "needs_background": "light"
          }
        }
      ]
    },
    {
      "cell_type": "code",
      "source": [
        "from sklearn.metrics import f1_score\n",
        "f1score=f1_score(y_test,prediction, average='weighted')\n",
        "print(f1score)"
      ],
      "metadata": {
        "colab": {
          "base_uri": "https://localhost:8080/"
        },
        "id": "V7trNhpDRs6h",
        "outputId": "a7a7b8fc-b515-474a-9851-4dd6633137df"
      },
      "execution_count": 91,
      "outputs": [
        {
          "output_type": "stream",
          "name": "stdout",
          "text": [
            "0.9524754690318494\n"
          ]
        }
      ]
    },
    {
      "cell_type": "markdown",
      "source": [
        "*processed data*"
      ],
      "metadata": {
        "id": "aV373B1T43R9"
      }
    },
    {
      "cell_type": "code",
      "source": [
        "\n",
        "knn1 = KNeighborsClassifier(n_neighbors=10)"
      ],
      "metadata": {
        "id": "Gh9b1uxh43R8"
      },
      "execution_count": 92,
      "outputs": []
    },
    {
      "cell_type": "code",
      "source": [
        "knn1.fit(X_trainselected, y_train)\n"
      ],
      "metadata": {
        "colab": {
          "base_uri": "https://localhost:8080/"
        },
        "outputId": "ccb850a2-1bb8-4585-fa14-79c3f96d9b93",
        "id": "ebnbZYvj43R9"
      },
      "execution_count": 93,
      "outputs": [
        {
          "output_type": "execute_result",
          "data": {
            "text/plain": [
              "KNeighborsClassifier(n_neighbors=10)"
            ]
          },
          "metadata": {},
          "execution_count": 93
        }
      ]
    },
    {
      "cell_type": "code",
      "source": [
        "prediction1=knn1.predict(X_testselected)"
      ],
      "metadata": {
        "id": "VVb4rdZX43R9"
      },
      "execution_count": 94,
      "outputs": []
    },
    {
      "cell_type": "code",
      "source": [
        "plot_confusion_matrix(knn1,X_testselected,y_test)"
      ],
      "metadata": {
        "colab": {
          "base_uri": "https://localhost:8080/",
          "height": 355
        },
        "outputId": "c1b37507-fa71-4e8a-f7a6-c5e69b222a23",
        "id": "vSZMHvWb43R9"
      },
      "execution_count": 95,
      "outputs": [
        {
          "output_type": "stream",
          "name": "stderr",
          "text": [
            "/usr/local/lib/python3.8/dist-packages/sklearn/utils/deprecation.py:87: FutureWarning: Function plot_confusion_matrix is deprecated; Function `plot_confusion_matrix` is deprecated in 1.0 and will be removed in 1.2. Use one of the class methods: ConfusionMatrixDisplay.from_predictions or ConfusionMatrixDisplay.from_estimator.\n",
            "  warnings.warn(msg, category=FutureWarning)\n"
          ]
        },
        {
          "output_type": "execute_result",
          "data": {
            "text/plain": [
              "<sklearn.metrics._plot.confusion_matrix.ConfusionMatrixDisplay at 0x7fdf3d418280>"
            ]
          },
          "metadata": {},
          "execution_count": 95
        },
        {
          "output_type": "display_data",
          "data": {
            "text/plain": [
              "<Figure size 432x288 with 2 Axes>"
            ],
            "image/png": "[encoded data removed]"
          },
          "metadata": {
            "needs_background": "light"
          }
        }
      ]
    },
    {
      "cell_type": "code",
      "source": [
        "from sklearn.metrics import f1_score\n",
        "f1score=f1_score(y_test,prediction1, average='weighted')\n",
        "print(f1score)"
      ],
      "metadata": {
        "colab": {
          "base_uri": "https://localhost:8080/"
        },
        "outputId": "2400a62b-c1f6-4b8b-debd-7cf0414a6489",
        "id": "xbIba8mh43R9"
      },
      "execution_count": 96,
      "outputs": [
        {
          "output_type": "stream",
          "name": "stdout",
          "text": [
            "0.8930731088391329\n"
          ]
        }
      ]
    },
    {
      "cell_type": "markdown",
      "source": [
        "# Optimizing Values for Knn and nb using gridsearchCV"
      ],
      "metadata": {
        "id": "XxZJhi7venDU"
      }
    },
    {
      "cell_type": "code",
      "source": [
        "\n",
        "from sklearn.model_selection import GridSearchCV\n",
        "# defining parameter range\n",
        "k_range = list(range(1, 31))\n",
        "param_grid = dict(n_neighbors=k_range)\n",
        "  \n",
        "# defining parameter range\n",
        "grid = GridSearchCV(knn, param_grid, cv=10, scoring='accuracy', return_train_score=False,verbose=1)\n",
        "  \n",
        "# fitting the model for grid search\n",
        "grid.fit(X_train, y_train)"
      ],
      "metadata": {
        "colab": {
          "base_uri": "https://localhost:8080/"
        },
        "id": "h5JshSlze8Mh",
        "outputId": "9e1f5aae-9a72-4e3c-9f63-be7890d5879f"
      },
      "execution_count": 97,
      "outputs": [
        {
          "output_type": "stream",
          "name": "stdout",
          "text": [
            "Fitting 10 folds for each of 30 candidates, totalling 300 fits\n"
          ]
        },
        {
          "output_type": "execute_result",
          "data": {
            "text/plain": [
              "GridSearchCV(cv=10, estimator=KNeighborsClassifier(n_neighbors=10),\n",
              "             param_grid={'n_neighbors': [1, 2, 3, 4, 5, 6, 7, 8, 9, 10, 11, 12,\n",
              "                                         13, 14, 15, 16, 17, 18, 19, 20, 21, 22,\n",
              "                                         23, 24, 25, 26, 27, 28, 29, 30]},\n",
              "             scoring='accuracy', verbose=1)"
            ]
          },
          "metadata": {},
          "execution_count": 97
        }
      ]
    },
    {
      "cell_type": "code",
      "source": [
        "print(grid.best_params_)\n"
      ],
      "metadata": {
        "colab": {
          "base_uri": "https://localhost:8080/"
        },
        "id": "EHKz74tXgDXs",
        "outputId": "d24eb2ef-fefb-4c67-b2b5-1cdd2021eb4d"
      },
      "execution_count": 98,
      "outputs": [
        {
          "output_type": "stream",
          "name": "stdout",
          "text": [
            "{'n_neighbors': 11}\n"
          ]
        }
      ]
    },
    {
      "cell_type": "code",
      "source": [
        "knn1 = KNeighborsClassifier(n_neighbors=11)\n",
        "knn1.fit(X_train, y_train)\n",
        "prediction1=knn1.predict(X_test)\n",
        "plot_confusion_matrix(knn,X_test,y_test)\n",
        "f1score=f1_score(y_test,prediction1, average='weighted')\n",
        "print(f1score)"
      ],
      "metadata": {
        "colab": {
          "base_uri": "https://localhost:8080/",
          "height": 355
        },
        "id": "iC2wCufoVgMQ",
        "outputId": "fd94be1c-1f7d-4de2-bca4-31c295d6952b"
      },
      "execution_count": 99,
      "outputs": [
        {
          "output_type": "stream",
          "name": "stdout",
          "text": [
            "0.9498480484087124\n"
          ]
        },
        {
          "output_type": "stream",
          "name": "stderr",
          "text": [
            "/usr/local/lib/python3.8/dist-packages/sklearn/utils/deprecation.py:87: FutureWarning: Function plot_confusion_matrix is deprecated; Function `plot_confusion_matrix` is deprecated in 1.0 and will be removed in 1.2. Use one of the class methods: ConfusionMatrixDisplay.from_predictions or ConfusionMatrixDisplay.from_estimator.\n",
            "  warnings.warn(msg, category=FutureWarning)\n"
          ]
        },
        {
          "output_type": "display_data",
          "data": {
            "text/plain": [
              "<Figure size 432x288 with 2 Axes>"
            ],
            "image/png": "[encoded data removed]"
          },
          "metadata": {
            "needs_background": "light"
          }
        }
      ]
    },
    {
      "cell_type": "markdown",
      "source": [
        "# Optimizing Values for Knn and nb using gridsearchCV for processed data"
      ],
      "metadata": {
        "id": "SVYZZ0u85ib6"
      }
    },
    {
      "cell_type": "code",
      "source": [
        "k_range = list(range(1, 31))\n",
        "param_grid = dict(n_neighbors=k_range)\n",
        "  \n",
        "# defining parameter range\n",
        "grid = GridSearchCV(knn, param_grid, cv=10, scoring='accuracy', return_train_score=False,verbose=1)\n",
        "  \n",
        "# fitting the model for grid search\n",
        "grid.fit(X_trainselected, y_train)"
      ],
      "metadata": {
        "colab": {
          "base_uri": "https://localhost:8080/"
        },
        "outputId": "a7bba784-7d43-4171-90f5-b8d1895e3b7c",
        "id": "AITS4zPY5ib7"
      },
      "execution_count": 100,
      "outputs": [
        {
          "output_type": "stream",
          "name": "stdout",
          "text": [
            "Fitting 10 folds for each of 30 candidates, totalling 300 fits\n"
          ]
        },
        {
          "output_type": "execute_result",
          "data": {
            "text/plain": [
              "GridSearchCV(cv=10, estimator=KNeighborsClassifier(n_neighbors=10),\n",
              "             param_grid={'n_neighbors': [1, 2, 3, 4, 5, 6, 7, 8, 9, 10, 11, 12,\n",
              "                                         13, 14, 15, 16, 17, 18, 19, 20, 21, 22,\n",
              "                                         23, 24, 25, 26, 27, 28, 29, 30]},\n",
              "             scoring='accuracy', verbose=1)"
            ]
          },
          "metadata": {},
          "execution_count": 100
        }
      ]
    },
    {
      "cell_type": "code",
      "source": [
        "print(grid.best_params_)\n"
      ],
      "metadata": {
        "colab": {
          "base_uri": "https://localhost:8080/"
        },
        "outputId": "d2e44d14-8484-4d18-ce12-4b4038dd94c4",
        "id": "6GOzIJZy5ib7"
      },
      "execution_count": 101,
      "outputs": [
        {
          "output_type": "stream",
          "name": "stdout",
          "text": [
            "{'n_neighbors': 19}\n"
          ]
        }
      ]
    },
    {
      "cell_type": "code",
      "source": [
        "knn3 = KNeighborsClassifier(n_neighbors=19)\n",
        "knn3.fit(X_trainselected, y_train)\n",
        "prediction1=knn3.predict(X_testselected)\n",
        "plot_confusion_matrix(knn3,X_testselected,y_test)\n",
        "f1score=f1_score(y_test,prediction1, average='weighted')\n",
        "print(f1score)"
      ],
      "metadata": {
        "colab": {
          "base_uri": "https://localhost:8080/",
          "height": 0
        },
        "outputId": "74237833-0b1e-4f8b-8e3c-325093e3de92",
        "id": "n_rSGcvn5ib7"
      },
      "execution_count": 102,
      "outputs": [
        {
          "output_type": "stream",
          "name": "stdout",
          "text": [
            "0.889963888952629\n"
          ]
        },
        {
          "output_type": "stream",
          "name": "stderr",
          "text": [
            "/usr/local/lib/python3.8/dist-packages/sklearn/utils/deprecation.py:87: FutureWarning: Function plot_confusion_matrix is deprecated; Function `plot_confusion_matrix` is deprecated in 1.0 and will be removed in 1.2. Use one of the class methods: ConfusionMatrixDisplay.from_predictions or ConfusionMatrixDisplay.from_estimator.\n",
            "  warnings.warn(msg, category=FutureWarning)\n"
          ]
        },
        {
          "output_type": "display_data",
          "data": {
            "text/plain": [
              "<Figure size 432x288 with 2 Axes>"
            ],
            "image/png": "[encoded data removed]"
          },
          "metadata": {
            "needs_background": "light"
          }
        }
      ]
    },
    {
      "cell_type": "markdown",
      "source": [
        "# Discussion of the results"
      ],
      "metadata": {
        "id": "g7koGSbjeP-G"
      }
    },
    {
      "cell_type": "markdown",
      "source": [
        "The tuning suggests that the number k=11 is the best hyperparameter for this algorithm\n",
        "The confusion matrix shows that the error values are only located on both sides of the accuracy line ( range 2 is confused with 1 or 3 but not 0) which indicates that this error stems from the data itself, only nearby ranges are confused with eachother because they are likely to have similar feature values."
      ],
      "metadata": {
        "id": "jIE6y6R_eU5N"
      }
    },
    {
      "cell_type": "markdown",
      "source": [
        "# Implementing Naive bayes"
      ],
      "metadata": {
        "id": "wMgZ_WF9XARt"
      }
    },
    {
      "cell_type": "code",
      "source": [
        "from sklearn.naive_bayes import MultinomialNB\n",
        "NB = MultinomialNB()\n",
        "NB.fit(X_train, y_train)\n",
        "y_pred = NB.predict(X_test)\n",
        "plot_confusion_matrix(NB,X_test,y_test)\n",
        "f1score=f1_score(y_test,y_pred, average='weighted')\n",
        "print(f1score)"
      ],
      "metadata": {
        "colab": {
          "base_uri": "https://localhost:8080/",
          "height": 359
        },
        "id": "ViCGLnvVXEjz",
        "outputId": "e0e1261b-c1d5-4477-ffe9-5bd96028de76"
      },
      "execution_count": 103,
      "outputs": [
        {
          "output_type": "stream",
          "name": "stderr",
          "text": [
            "/usr/local/lib/python3.8/dist-packages/sklearn/utils/deprecation.py:87: FutureWarning: Function plot_confusion_matrix is deprecated; Function `plot_confusion_matrix` is deprecated in 1.0 and will be removed in 1.2. Use one of the class methods: ConfusionMatrixDisplay.from_predictions or ConfusionMatrixDisplay.from_estimator.\n",
            "  warnings.warn(msg, category=FutureWarning)\n"
          ]
        },
        {
          "output_type": "stream",
          "name": "stdout",
          "text": [
            "0.5063302133302133\n"
          ]
        },
        {
          "output_type": "display_data",
          "data": {
            "text/plain": [
              "<Figure size 432x288 with 2 Axes>"
            ],
            "image/png": "[encoded data removed]"
          },
          "metadata": {
            "needs_background": "light"
          }
        }
      ]
    },
    {
      "cell_type": "code",
      "source": [
        "NB.fit(X_trainselected, y_train)\n",
        "y_pred1 = NB.predict(X_testselected)\n",
        "plot_confusion_matrix(NB,X_testselected,y_test)\n",
        "f1score=f1_score(y_test,y_pred1, average='weighted')\n",
        "print(f1score)"
      ],
      "metadata": {
        "colab": {
          "base_uri": "https://localhost:8080/",
          "height": 355
        },
        "id": "oanpkKqy6hs7",
        "outputId": "b0015c9d-af6c-45aa-a790-9457bff1c558"
      },
      "execution_count": 104,
      "outputs": [
        {
          "output_type": "stream",
          "name": "stderr",
          "text": [
            "/usr/local/lib/python3.8/dist-packages/sklearn/utils/deprecation.py:87: FutureWarning: Function plot_confusion_matrix is deprecated; Function `plot_confusion_matrix` is deprecated in 1.0 and will be removed in 1.2. Use one of the class methods: ConfusionMatrixDisplay.from_predictions or ConfusionMatrixDisplay.from_estimator.\n",
            "  warnings.warn(msg, category=FutureWarning)\n"
          ]
        },
        {
          "output_type": "stream",
          "name": "stdout",
          "text": [
            "0.263301505812385\n"
          ]
        },
        {
          "output_type": "display_data",
          "data": {
            "text/plain": [
              "<Figure size 432x288 with 2 Axes>"
            ],
            "image/png": "[encoded data removed]"
          },
          "metadata": {
            "needs_background": "light"
          }
        }
      ]
    },
    {
      "cell_type": "code",
      "source": [
        "NB.fit(X_trainselected1, y_train)\n",
        "y_pred1 = NB.predict(X_testselected1)\n",
        "plot_confusion_matrix(NB,X_testselected1,y_test)\n",
        "f1score=f1_score(y_test,y_pred1, average='weighted')\n",
        "print(f1score)"
      ],
      "metadata": {
        "colab": {
          "base_uri": "https://localhost:8080/",
          "height": 355
        },
        "id": "R2Ghxx-D-Qbd",
        "outputId": "0d6aa6f7-99da-4b28-c6da-e2520b7b93a4"
      },
      "execution_count": 105,
      "outputs": [
        {
          "output_type": "stream",
          "name": "stderr",
          "text": [
            "/usr/local/lib/python3.8/dist-packages/sklearn/utils/deprecation.py:87: FutureWarning: Function plot_confusion_matrix is deprecated; Function `plot_confusion_matrix` is deprecated in 1.0 and will be removed in 1.2. Use one of the class methods: ConfusionMatrixDisplay.from_predictions or ConfusionMatrixDisplay.from_estimator.\n",
            "  warnings.warn(msg, category=FutureWarning)\n"
          ]
        },
        {
          "output_type": "stream",
          "name": "stdout",
          "text": [
            "0.5494862194257356\n"
          ]
        },
        {
          "output_type": "display_data",
          "data": {
            "text/plain": [
              "<Figure size 432x288 with 2 Axes>"
            ],
            "image/png": "[encoded data removed]"
          },
          "metadata": {
            "needs_background": "light"
          }
        }
      ]
    },
    {
      "cell_type": "markdown",
      "source": [
        "Discussion, the model have shown the worst results by far using the naive bayes classifier.Tje reason being: Because it's Naive it assumes the features are independent, the probabilities are incorrect if this assumption is not correct. as we have noted with other models, for our dataset features influences on price range are not mutually independant."
      ],
      "metadata": {
        "id": "V2VekwW7XxJI"
      }
    }
  ],
  "metadata": {
    "colab": {
      "provenance": [],
      "collapsed_sections": [
        "vESB39F2eHi1"
      ]
    },
    "kernelspec": {
      "display_name": "Python 3",
      "name": "python3"
    },
    "language_info": {
      "name": "python"
    }
  },
  "nbformat": 4,
  "nbformat_minor": 0
}